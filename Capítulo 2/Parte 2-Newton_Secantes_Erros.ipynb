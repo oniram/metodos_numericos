{
 "cells": [
  {
   "cell_type": "markdown",
   "metadata": {},
   "source": [
    "## Método de Newton ##\n",
    "\n",
    "Suponha que $f \\in C^{2}[a, b]$. Seja ${p}_{0} \\in [a, b]$ uma aproximação da solução $p$ de $f(x) = 0$ tal que $f'(x) \\neq 0$ e $\\left|p-{p}_{0}\\right|$ seja pequeno o suficiente. Considere o primeiro polinômio de Taylor de $f(x)$ expandido em torno de ${p}_{0}$ e calculado em $x = p$:\n",
    "\n",
    "$$f(p) = f({{p}_{0}})+f'({{p}_{0}})(p-{{p}_{0}})+\\frac{f''({\\xi(p)})}{2!}{{(p-{{p}_{0}})}^{2}} = 0 \\text{, onde } \\xi(p) \\text{ está entre } p \\text{ e } {p}_{0}.$$\n",
    "\n",
    "Como $\\left | p-{p}_{0} \\right |$ é pequeno, $(p-{p}_{0})^{2}$ será muito menor, de forma que pode ser escrita a aproximação: \n",
    "\n",
    "$$f({{p}_{0}})+f'({{p}_{0}})(p-{{p}_{0}}) \\approx 0.$$ \n",
    "\n",
    "Isolando $p$ obtemos: \n",
    "\n",
    "$$p \\approx {p}_{1} \\equiv {p}_{0} -\\frac{f({p}_{0})}{f'({p}_{0})}.$$\n",
    "\n",
    "Isso fornece a estrutura de aplicação para o método de Newton, que parte de uma aproximação inicial ${p}_{0}$ adequada e gera a sequência $\\left\\{{p}_{n}\\right\\}_{n=0}^{\\infty}$ por:\n",
    "\n",
    "$${p}_{n} = {p}_{n-1}-\\frac{f( {p}_{n-1})}{f'( {p}_{n-1})}\\text{, para n} \\geqslant 1.$$\n",
    "\n",
    "[IMAGEM MÉTODO NEWTON]"
   ]
  },
  {
   "cell_type": "markdown",
   "metadata": {},
   "source": [
    "## Método da Secante ##\n",
    "\n",
    "O método de Newton é altamente eficiente, porém ele possuí a desvantagem de exigir o cálculo do valor numérico da primeira derivada de $f(x)$ a cada iteração. Em muitos casos o cálculo de $f'(x)$ requer mais operações aritméticas do que o cálculo de $f(x)$, o que se torna custoso computacionalmente. A fórmula do método de Newton é dada por:\n",
    "\n",
    "$${p}_{n} = {p}_{n-1}-\\frac{f( {p}_{n-1})}{f'( {p}_{n-1})}\\text{, para n} \\geqslant 1.$$\n",
    "\n",
    "Para evitar o cálculo de $f'(x)$ exigido pelo método de Newton, podemos aproximar o valor desta derivada usando a sua definição:\n",
    "\n",
    "$$f'({p}_{n-1}) = \\lim_{x \\to {p}_{n-1}} \\frac{f(x) - f({p}_{n-1})}{x - {p}_{n-1}}.$$\n",
    "\n",
    "Tomando $x = {p}_{n-2}$ como uma aproximação para o cálculo da derivada, já que ${p}_{n-1}$ e ${p}_{n-2}$ são próximos:\n",
    "\n",
    "$$f'({p}_{n-1}) \\approx \\frac{f({p}_{n-2}) - f({p}_{n-1})}{{p}_{n-2} - {p}_{n-1}} = \\frac{f({p}_{n-1}) - f({p}_{n-2})}{{p}_{n-1} - {p}_{n-2}}.$$\n",
    "\n",
    "Substituindo essa aproximação para $f'({p}_{n-1})$ na fórmula de Newton:\n",
    "\n",
    "$${p}_{n} = {p}_{n-1} - \\frac{f({p}_{n-1})({p}_{n-1} - {p}_{n-2})}{f({p}_{n-1}) - f({p}_{n-2})}.$$\n",
    "\n",
    "Esta é a fórmula do método da Secante. Este método utiliza uma reta secante, uma reta que liga dois pontos e que corta a curva da função $f(x)$, para a aproximação de uma raiz de $f(x) = 0$.\n",
    "\n",
    "[IMAGEM SECANTE]\n",
    "\n",
    "O método começa com duas aproximações iniciais ${p}_{0}$ e ${p}_{1}$. A aproximação ${p}_{2}$ é a interseção  da reta $({p}_{0}, f({p}_{0}))$ e $({p}_{1}, f({p}_{1}))$ com o eixo x. A aproximação ${p}_{3}$ é a interseção da reta que liga $({p}_{1}, f({p}_{1}))$ e $({p}_{2}, f({p}_{2}))$ com o eixo x, e assim por diante."
   ]
  },
  {
   "cell_type": "markdown",
   "metadata": {},
   "source": [
    "## Método da Falsa Posição ##\n",
    "\n",
    "texto..."
   ]
  }
 ],
 "metadata": {
  "kernelspec": {
   "display_name": "Python 3",
   "language": "python",
   "name": "python3"
  },
  "language_info": {
   "codemirror_mode": {
    "name": "ipython",
    "version": 3
   },
   "file_extension": ".py",
   "mimetype": "text/x-python",
   "name": "python",
   "nbconvert_exporter": "python",
   "pygments_lexer": "ipython3",
   "version": "3.6.4"
  }
 },
 "nbformat": 4,
 "nbformat_minor": 2
}
