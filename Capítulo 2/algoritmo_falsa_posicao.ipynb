{
 "cells": [
  {
   "cell_type": "code",
   "execution_count": 10,
   "metadata": {},
   "outputs": [
    {
     "name": "stdout",
     "output_type": "stream",
     "text": [
      "Teste:\n",
      "Raiz de f(x) = 0, pelo método da Secante\n",
      "n\t pn\t         f(pn)\n",
      "0 \t 0.5000000000 \t 0.3775825619\n",
      "1 \t 0.7853981634 \t -0.0782913822\n",
      "2 \t 0.7363841388 \t 0.0045177185\n",
      "3 \t 0.7390581392 \t 0.0000451772\n",
      "4 \t 0.7390848638 \t 0.0000004509\n",
      "A raiz da função, dentro dos parâmetros de tolerância, é 0.7390848638147098\n",
      "O método da Secante foi encerrado após 4 iterações.\n"
     ]
    }
   ],
   "source": [
    "#Função Método da Secante para encontrar raízes de uma equação do tipo f(x)=0\n",
    "\n",
    "from numpy import *\n",
    "import math\n",
    "\n",
    "\n",
    "def metodo_Secante(f, p0, p1, tipo_tol, tol, N0):\n",
    "    start = current_milli_time()\n",
    "    # Parâmetros: \n",
    "    # f: função do tipo f(x)=0 a qual se deseja encontrar a raiz\n",
    "    # p0 e p1: aproximações iniciais para a raiz\n",
    "    # tipo_tol: tipo de tolerância: 1: |p[n] - p[n-1]|; 2: |p[n] - p[n-1]|/|p[n]|; 3: |f(p[n])| ~= 0\n",
    "    # tol: valor da tolerância | N0: número máximo de iterações\n",
    "    \n",
    "    # variáveis extras para o cálculo\n",
    "    val_tol=0.0\n",
    "    p = 0.0\n",
    "    q = 0.0\n",
    "    q0 = f(p0) \n",
    "    q1 = f(p1)\n",
    "\n",
    "    print (\"Raiz de f(x) = 0, pelo método da Secante\\nn\\t pn\\t         f(pn)\")\n",
    "    print (0, '\\t', \"{:.10f}\".format(p0), '\\t', \"{:.10f}\".format(q0))\n",
    "    print (1, '\\t', \"{:.10f}\".format(p1), '\\t', \"{:.10f}\".format(q1))\n",
    "\n",
    "    # aplica o método da Secante\n",
    "    for n in range (2, N0+1):\n",
    "        p = p1 - (q1*(p1-p0))/(q1-q0) # aplica a aproximação do método da Secante\n",
    "        q = f(p) # guarda o valor de f(p)\n",
    "        # calcula as condições de parada\n",
    "        if (tipo_tol == 2 and p != 0.0): # a condição de parada será |p[n] - p[n-1]|/|p[n]|\n",
    "            val_tol = abs((p-p1)/p)\n",
    "        elif (tipo_tol == 3):\n",
    "            val_tol = abs(q) # a condição de parada será |f(p[n])| -= 0\n",
    "        else: #se não foi escolhida a condição 2 ou 3, assume a condição 1\n",
    "            val_tol = abs(p-p1) # a condição de parada será |p[n] - p[n-1]|\n",
    "        # imprime os resultados da iteração n\n",
    "        print (n, '\\t', \"{:.10f}\".format(p), '\\t', \"{:.10f}\".format(q))\n",
    "        # testa as condições de parada\n",
    "        if (val_tol <= tol):\n",
    "            print (\"A raiz da função, dentro dos parâmetros de tolerância, é\", p)\n",
    "            break\n",
    "        \n",
    "        #a partir daqui difere do metodo da secante\n",
    "        q = f(p)\n",
    "        if(q * q1 < 0):\n",
    "            p0 = p1\n",
    "            q0 = q1\n",
    "        p1 = p\n",
    "        q1 = q\n",
    "        \n",
    "    end = current_milli_time()\n",
    "    print (\"O método da Secante foi encerrado após\", n, \"iterações.\")\n",
    "    #return p\n",
    "\n",
    "# Exemplo de uso da função metodo_Secante:\n",
    "def f1(x):\n",
    "    return math.cos(x) -x \n",
    "    \n",
    "print(\"Teste:\"); metodo_Secante(f1, 0.5, math.pi/4, 1, 0.0001, 20)"
   ]
  },
  {
   "cell_type": "code",
   "execution_count": null,
   "metadata": {},
   "outputs": [],
   "source": []
  },
  {
   "cell_type": "code",
   "execution_count": null,
   "metadata": {},
   "outputs": [],
   "source": []
  }
 ],
 "metadata": {
  "kernelspec": {
   "display_name": "Python 3",
   "language": "python",
   "name": "python3"
  },
  "language_info": {
   "codemirror_mode": {
    "name": "ipython",
    "version": 3
   },
   "file_extension": ".py",
   "mimetype": "text/x-python",
   "name": "python",
   "nbconvert_exporter": "python",
   "pygments_lexer": "ipython3",
   "version": "3.6.4"
  }
 },
 "nbformat": 4,
 "nbformat_minor": 2
}
