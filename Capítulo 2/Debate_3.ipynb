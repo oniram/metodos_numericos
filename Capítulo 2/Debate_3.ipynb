{
 "cells": [
  {
   "cell_type": "markdown",
   "metadata": {},
   "source": [
    "## Método da falsa posição\n",
    "Funciona de maneira semelhante ao método da secante, mas adicionamente inclui um teste para assegurar que a raiz esteja dentro de um intervalo. Esse teste adicional acaba gerando iterações adicionais no cáculo da raiz quando comparado com a execução do método da secante, considerando os mesmos parâmetros de entrada.\n",
    "\n",
    "TODO: Mostrar que gerou iterações a mais, no exemplo do livro acabou não gerando\n",
    "\n",
    "A grande vantagem do Método da Falsa Posição é que ela é uma técnica robusta, que\n",
    "converge independentemente da forma do gráfico de f no intervalo [a, b].\n",
    "Entretanto, quando a convergência para a raiz só se faz a partir de um extremo do\n",
    "intervalo [a, b] e a imagem desse ponto fixo tem um valor muito elevado, a convergência é\n",
    "lenta. \n",
    "\n",
    "TODO: Colocar exemplo\n",
    "\n",
    "Referências:\n",
    "SOUZA, Marcone. Equações Algébricas e Transcendentes, 2010. 17 f. Notas de Aula.\n"
   ]
  },
  {
   "cell_type": "markdown",
   "metadata": {},
   "source": []
  },
  {
   "cell_type": "code",
   "execution_count": null,
   "metadata": {},
   "outputs": [],
   "source": []
  }
 ],
 "metadata": {
  "kernelspec": {
   "display_name": "Python 3",
   "language": "python",
   "name": "python3"
  },
  "language_info": {
   "codemirror_mode": {
    "name": "ipython",
    "version": 3
   },
   "file_extension": ".py",
   "mimetype": "text/x-python",
   "name": "python",
   "nbconvert_exporter": "python",
   "pygments_lexer": "ipython3",
   "version": "3.6.4"
  }
 },
 "nbformat": 4,
 "nbformat_minor": 2
}
