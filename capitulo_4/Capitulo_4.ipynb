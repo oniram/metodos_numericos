{
 "cells": [
  {
   "cell_type": "markdown",
   "metadata": {},
   "source": [
    "# Capítulo 4 - Derivação e Integração Numérica"
   ]
  },
  {
   "cell_type": "markdown",
   "metadata": {},
   "source": [
    "## Introdução"
   ]
  },
  {
   "cell_type": "markdown",
   "metadata": {},
   "source": [
    "No capítulo anterior trabalhamos com técnicas de interpolação numérica, que são bastante úteis quando precisamos aproximar o valor de uma função em pontos de um determinado intervalo. No entanto, quando existe a necessidade de obter informações mais complexas, como áreas de superfícies e volumes, a aplicação de técnicas simples de interpolação não é o suficiente.\n",
    "\n",
    "Neste capítulo desenvolveremos o conceito de derivação e integração numérica. Para isso, utilizaremos os polinômios obtidos através de técnicas de interpolação, uma vez que o processo de derivar e integrar polinômios é bastante simples, e efetivo."
   ]
  },
  {
   "cell_type": "markdown",
   "metadata": {},
   "source": [
    "## Derivação numérica"
   ]
  },
  {
   "cell_type": "markdown",
   "metadata": {},
   "source": [
    "Pela definição de derivada de uma função $f(x)$, denominada $f'(x)$, temos:\n",
    "\n",
    "$$f'(x_0) = \\lim_{h→0} \\frac{f(x_0+h)-f(x_0)}{h}$$\n",
    "\n",
    "Podemos aproximar esse resultado utilizando o **polinômio de Lagrange**. Para isso, precisamos fazer as seguintes considerações:\n",
    "* $x_0 \\in (a,b)$\n",
    "* $x_1 \\in [a,b]$\n",
    "* $x_1 = x_0 + h$ com $h \\ne 0$ \n",
    "* $f'(x_0) \\in C^2 [a,b]$\n",
    "\n",
    "Dessa forma:\n",
    "\n",
    "$$f(x) = P_{0,1}(x) + \\frac{(x-x_0)(x-x_1)}{2!}f''(\\xi(x))$$\n",
    "\n",
    "$$f(x) = f(x_0)\\frac{x-x_1}{x_0-x_1}+f(x_1)\\frac{x-x_0}{x_1-x_0} +f''(\\xi(x))\\frac{(x-x_0)(x-x_1)}{2}$$\n",
    "\n",
    "$$f(x) = f(x_0)\\frac{x-x_0-h}{-h}+f(x_0+h)\\frac{x-x_0}{h} +f''(\\xi(x))\\frac{(x-x_0)(x-x_0-h)}{2}$$\n",
    "\n",
    "Derivando a equação acima, temos:\n",
    "\n",
    "$$f'(x) = \\frac{d\\frac{f(x_0)x -f(x_0)x_0 -f(x_0)h}{-h}}{dx}+\\frac{d\\frac{f(x_0+h)x -f(x_0+h)x_0}{h}}{dx} +\\frac{d[f''(\\xi(x))\\frac{(x-x_0)(x-x_0-h)}{2}]}{dx}$$\n",
    "\n",
    "$$f'(x) = \\frac{f(x_0+h) - f(x_0)}{h} + \\frac{2(x-x_0)-h}{2}f''(\\xi(x))+\\frac{(x-x_0)(x-x_0-h)}{2}\\,.\\,\\frac{d[f''(\\xi(x))]}{dx}$$\n",
    "\n",
    "O que pode ser resumido como:\n",
    "\n",
    "$$f'(x) \\approx \\frac{f(x_0+h)-f(x_0)}{h}$$\n",
    "\n",
    "O problema com esta aproximação é devivo à falta de informações a respeito do termo $\\frac{d[f''(\\xi(x))]}{dx}$, o que impossibilita a estimativa do erro de truncamento. Entretanto, sabemos que quando $x=x_0$ o coeficiente do termo problemático é 0, e a fórmula pode ser simplificada para:\n",
    "\n",
    "$$f'(x) = \\frac{f(x_0+h) - f(x_0)}{h} - \\frac{h}{2}f''(\\xi(x))$$\n",
    "\n",
    "Dessa forma, quando tratamos de valores pequenos de h, o limitante do erro será dado por $M \\frac{|h|}{2}$, em que $M$ é um limitande da função $f''(x)$ para $x \\in [a,b]$"
   ]
  },
  {
   "cell_type": "markdown",
   "metadata": {},
   "source": [
    "Isso é conhecido como **fórmula de diferenças progressivas** se $h>0$.\n",
    "\n",
    "#### Erro de truncamento por diferenças progressivas##\n",
    "Seja $D_{+,h}f(x_{0})$ a aproximação da derivada de $f$ em $x_{0}$ por difereças progressivas:\n",
    "\n",
    "$$D_{+,h}f(x_{0}) - f´(x_{0})= \\frac {f(x_{0}+h) - f(x_{0})}{h} -f´(x_{0})$$\n",
    "\n",
    "$$ \\frac {f(x_{0}) +hf´(x_{0}) + h^{2}/2f´´(x_{0})+O(h^3) - f(x_{0})}{h} - f´(x_{0})$$\n",
    "\n",
    "$$h/2f´´(x_{0})+O(h^{2}) = O(h)$$"
   ]
  },
  {
   "cell_type": "markdown",
   "metadata": {},
   "source": []
  },
  {
   "cell_type": "markdown",
   "metadata": {},
   "source": [
    "## Extrapolação de Richardson"
   ]
  },
  {
   "cell_type": "markdown",
   "metadata": {},
   "source": []
  },
  {
   "cell_type": "markdown",
   "metadata": {},
   "source": [
    "## Referências:\n",
    "\n",
    "* BURDEN, R.L.;FAIRES,D.J.;BURDEN, A.M. **Numerical Analysis**. 8 ed. Boston, MA: Cengage Learning, 2014, cap. 4, p.167-247. ISBN 978-1-305-25366-7"
   ]
  }
 ],
 "metadata": {
  "kernelspec": {
   "display_name": "Python 3",
   "language": "python",
   "name": "python3"
  },
  "language_info": {
   "codemirror_mode": {
    "name": "ipython",
    "version": 3
   },
   "file_extension": ".py",
   "mimetype": "text/x-python",
   "name": "python",
   "nbconvert_exporter": "python",
   "pygments_lexer": "ipython3",
   "version": "3.6.4"
  }
 },
 "nbformat": 4,
 "nbformat_minor": 2
}
