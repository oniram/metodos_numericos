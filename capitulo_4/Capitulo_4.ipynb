{
 "cells": [
  {
   "cell_type": "markdown",
   "metadata": {},
   "source": [
    "#### Como pode ser obtida uma fórmula através das difereças progressivas### \n",
    "Para pequenos valor de $h$, o quociente de diferenças $[f(x_{0}+h) - f(x_{0})/h$ pode ser usado para obtener uma aproximação de $f´(x_{0})$ como um erro limitado por $M |h|/2$, em que $M$ é um limitande da funçõe $f´´(x)$ para $x \\in [a,b]$. Esso é conhecido como **fórmula de diferenças progressivas** si $h>0$.\n",
    "\n",
    "#### Erro de truncamento por diferenças progressivas##\n",
    "Seja $D_{+,h}f(x_{0})$ a aproximaão da derivada de $f$ em $x_{0}$ por difereças progressivas:\n",
    "\n",
    "$$D_{+,h}f(x_{0}) - f´(x_{0})= \\frac {f(x_{0}+h) - f(x_{0})}{h} -f´(x_{0})$$\n",
    "\n",
    "$$ \\frac {f(x_{0}) +hf´(x_{0}) + h^{2}/2f´´(x_{0})+O(h^3) - f(x_{0})}{h} - f´(x_{0})$$\n",
    "\n",
    "$$h/2f´´(x_{0})+O(h^{2}) = O(h)$$"
   ]
  }
 ],
 "metadata": {
  "kernelspec": {
   "display_name": "Python 3",
   "language": "python",
   "name": "python3"
  },
  "language_info": {
   "codemirror_mode": {
    "name": "ipython",
    "version": 3
   },
   "file_extension": ".py",
   "mimetype": "text/x-python",
   "name": "python",
   "nbconvert_exporter": "python",
   "pygments_lexer": "ipython3",
   "version": "3.6.4"
  }
 },
 "nbformat": 4,
 "nbformat_minor": 2
}
