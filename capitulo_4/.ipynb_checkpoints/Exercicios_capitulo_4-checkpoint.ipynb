{
 "cells": [
  {
   "cell_type": "markdown",
   "metadata": {},
   "source": [
    "# Exercícios 4.1 #"
   ]
  },
  {
   "cell_type": "markdown",
   "metadata": {},
   "source": [
    "## Questão 1\n",
    "**Use as fórmulas de diferenças progressivas e regressivas para completas as siguientes tabelas**"
   ]
  },
  {
   "cell_type": "markdown",
   "metadata": {},
   "source": [
    "\n",
    "|$x$ | $f(x)$       | $f'(x)$     | \n",
    "|--------------|-----------------|---------------------------------------------|\n",
    "| 0.5     | 0.4794            | 0.8520                                 |\n",
    "| 0.6     | 0.5646            | 0.8520                                 |\n",
    "| 0.7     | 0.6442            | 0.7960                                |\n",
    "\n",
    "\n",
    "\n",
    "|$x$ | $f(x)$       | $f'(x)$     | \n",
    "|--------|------------|----------------|\n",
    "|0.0 |0.00000|3.7070|\n",
    "|0.2|0.74140|3.1520|\n",
    "|0.4|1.3718|3.1520|"
   ]
  },
  {
   "cell_type": "markdown",
   "metadata": {},
   "source": [
    "## Questão 9\n",
    "\n",
    "Utilize as fórmulas fornecidas nesta seção para determinar, com a maior precisão possível, as aproxumações para completar as tabelas:\n",
    "\n",
    "###### Letra A\n",
    "\n",
    "Resposta:\n",
    " Utilizando a fórmula de cinco pontos é útil para aproximações nas extremidades:\n",
    "\n",
    "| x   | f(x)       | f'(x) | Observação   |\n",
    "|-----|------------|-------------------|----|\n",
    "| 2.1 | -1.709847  | 3.89934 | Equação 3.1 - h>0 |\n",
    "| 2.2 | -1.373823  | 2.87688 | Equação 3.1 - h>0 |\n",
    "| 2.3 | -1.119214  | 2.24970 | Equação 3.0 |\n",
    "| 2.4 | -0.9160143 | 1.83775 | Equação 3.0 |\n",
    "| 2.5 | −0.7470223 | -1.54420 | Equação 3.1 - h<0 |\n",
    "| 2.6 | -0.6015966 | -1.35549 | Equação 3.1 - h<0 |\n",
    "\n",
    "###### Letra B\n",
    "\n",
    "Resposta:\n",
    " Utilizando a fórmula de cinco pontos pois é útil para aproximações nas extremidades:\n",
    "\n",
    "| x   | f(x)      | f'(x) | Observação   |\n",
    "|-----|-----------|-------------------|----|\n",
    "| −3.0 | 9.367879 |  | Equação 3.1 - h>0 |\n",
    "| −2.8 | 8.233241 |  | Equação 3.1 - h>0 |\n",
    "| −2.6 | 7.180350 |  | Equação 3.0 |\n",
    "| −2.4 | 6.209329 |  | Equação 3.0 |\n",
    "| −2.2 | 5.320305 |  | Equação 3.1 - h<0 |\n",
    "| −2.0 | 4.513417 |  | Equação 3.1 - h<0 |"
   ]
  },
  {
   "cell_type": "markdown",
   "metadata": {},
   "source": [
    "## Questão 13\n",
    "\n",
    "**Use os dados a seguir e a informação de que as primeiras cinco derivadas de $f$ são limitadas, em $[1,5]$, por 2, 3, 6, 12, 23, respectivamente para obter uma aproximação de $f’(3)$ com a maior precisão possível. Encontre um limitante para o erro.** \n",
    "\n",
    "$$f'(3) = 1/12[f(1)-8f(2)+8f(4)-f(5)]=0.21062$$\n",
    "\n",
    "$$max_{1<x<5} \\frac {|f^{(5)}(x)|h^{4}}{30} < \\frac{23}{30} = 0.76$$"
   ]
  },
  {
   "cell_type": "markdown",
   "metadata": {},
   "source": [
    "## Questão 15"
   ]
  },
  {
   "cell_type": "markdown",
   "metadata": {},
   "source": [
    "**Repita o exercício 1 usando uma aproximação de 4 dígitos e compare os erros com os obtidos no exercício 3**"
   ]
  },
  {
   "cell_type": "markdown",
   "metadata": {},
   "source": [
    "## Questão 21\n",
    "\n",
    "Considere a tabela de dados a seguir:\n",
    "\n",
    "| x    |    0.2    |    0.4    |    0.6    |    0.8    |    1.0    |\n",
    "|------|-----------|-----------|-----------|-----------|-----------|\n",
    "| f(x) | 0.9798652 | 0.9177710 | 0.8080348 | 0.6386093 | 0.3843735 |\n",
    "\n",
    "**a. Use a Equação (3.1) para obter uma aproximação de ${f}'(0.2)$**\n",
    "\n",
    "A formula 3.1 é dada por:\n",
    "$${f}'(x_{0})=\\frac{1}{12h}[-25f(x_{0})+48f(x_{0}+h)-36f(x_{0}+2h)+16f(x_{0}+3h)-3f(x_{0}+4h)]+\\frac{h^{4}}{5}f^{(5)}(\\xi)$$\n",
    "\n",
    "Logo,\n",
    "\n",
    "$${f}'(0.2)=\\frac{1}{12h}[-25f(0.2)+48f(0.4)-36f(0.6)+16f(0.8)-3f(1.0)] = -0.1951027$$\n",
    "\n",
    "\n",
    "**b. Use a Equação (3.1) para ober uma aproximação de ${f}'(1.0)$**\n",
    "\n",
    "Para $h<0$:\n",
    "\n",
    "$${f}'(0.1)=\\frac{1}{12h}[-25f(1.0)+48f(0.8)-36f(0.6)+16f(0.4)-3f(0.2)] = 1.5414152$$\n",
    "\n",
    "\n",
    "**c. Use a Equação (3.0) para obter uma aproximação ${f}'(0.6)$**\n",
    "\n",
    "A formula 3.0 é dada por:\n",
    "\n",
    "$${f}'(x_{0})=\\frac{1}{12h}[f(x_{0}-2h)-8f(x_{0}-h)+8f(x_{0}+h)-f(x_{0}+2h)]+\\frac{h^{4}}{30}f^{(5)}(\\xi)$$\n",
    "\n",
    "Logo,\n",
    "\n",
    "$${f}'(0.6)=\\frac{1}{12h}[f(0.2)-8f(0.4)+8f(0.8 )-f(1.0)] = -0.6824174583 $$"
   ]
  },
  {
   "cell_type": "markdown",
   "metadata": {},
   "source": [
    "## Questão 25"
   ]
  },
  {
   "cell_type": "markdown",
   "metadata": {},
   "source": [
    "**No exercício 10 da seção 3.3 foram fornecidos dados descrevendo um carro viajando por uma estrada reta. Esse exercício pediu para predizer a posição e velocidade do carro quando t = 10s. Utilize a seguinte informação a respeito do tempo e da posição para predizer a velocidade em cada um dos tempos listados.**\n",
    "\n",
    "|Tempo    |0|3  |5  | 8 |10 |13 |\n",
    "|---------|-|---|---|---|---|---|\n",
    "|Distância|0|225|383|623|742|993|"
   ]
  },
  {
   "cell_type": "markdown",
   "metadata": {},
   "source": [
    "Com o conjunto de dados fornecidos é possível criar dois casos para a utilização da fórmula dos 3 pontos, ambos com $h = 5$. O primeiro conjunto teria $x_0 = 0 , \\, x_1 = 5 \\, e \\, x_2= 10$, enquanto o outro teria $x_0 = 3 , \\, x_1 = 8 \\, e \\, x_2= 13$.\n",
    "\n",
    "Para o primeiro conjunto de dados, temos:\n",
    "\n",
    "* Para $x_0$ = 0 e $h = 5$\n",
    "$$f'(x_0) = \\frac{1}{2h}[-3f(x_0) + 4f(x_0+h) - f(x_0+2h)]$$\n",
    "\n",
    "$$f'(0) = \\frac{1}{10}[-3f(0) + 4f(5) - f(10)] = \\frac{1}{10}[-0 + 4(383) - (742)] = 79$$\n",
    "\n",
    "* Para $x_1$ = 5 e $h = 5$\n",
    "$$f'(x_1) = \\frac{1}{2h}[f(x_1+h) - f(x_1-h)]$$\n",
    "\n",
    "$$f'(5) = \\frac{1}{10}[f(10) - f(0)] = \\frac{1}{10}[742-0] = 74.2$$\n",
    "\n",
    "* Para $x_2$ = 10 e $h = -5$\n",
    "$$f'(x_2) = \\frac{1}{2h}[f(x_2-2h) - 4f(x_2+h) + 3f(x_2+2h)]$$\n",
    "\n",
    "$$f'(10) = \\frac{1}{10}[f(0) - 4f(5) + 3f(10)] = \\frac{1}{10}[0 - 4(383) + 3(742)] = 69.4$$\n",
    "\n",
    "Para o segundo conjunto de dados, temos:\n",
    "\n",
    "* Para $x_0$ = 3 e $h = 5$\n",
    "$$f'(x_0) = \\frac{1}{2h}[-3f(x_0) + 4f(x_0+h) - f(x_0+2h)]$$\n",
    "\n",
    "$$f'(3) = \\frac{1}{10}[-3f(3) + 4f(8) - f(13)] = \\frac{1}{10}[-3(225) + 4(623) - (993)] = 82.4$$\n",
    "\n",
    "* Para $x_0$ = 8 e $h = 5$\n",
    "$$f'(x_1) = \\frac{1}{2h}[f(x_1+h) - f(x_1-h)]$$\n",
    "\n",
    "$$f'(8) = \\frac{1}{10}[f(13) - f(3)] = \\frac{1}{10}[993-225] = 76.8$$\n",
    "\n",
    "* Para $x_2$ = 13 e $h = -5$\n",
    "$$f'(x_2) = \\frac{1}{2h}[f(x_2-2h) - 4f(x_2+h) + 3f(x_2+2h)]$$\n",
    "\n",
    "$$f'(13) = \\frac{1}{10}[f(3) - 4f(8) + 3f(13)] = \\frac{1}{10}[225 - 4(623) + 3(993)] = 71.2$$\n",
    "\n",
    "\n",
    "Dessa forma, possuímos todos os valores para as velocidades do carro para os pontos indicados:\n",
    "\n",
    "|Tempo     |0 |3   |5   | 8  |10  |13  |\n",
    "|----------|--|----|----|----|----|----|\n",
    "|Distância |0 |225 |383 |623 |742 |993 |\n",
    "|Velocidade|79|82.4|74.2|76.8|69.4|71.2|"
   ]
  },
  {
   "cell_type": "markdown",
   "metadata": {},
   "source": [
    "## Questão 27\n",
    "\n",
    "**Todos os estudantes de cálculo sabem que a derivada de uma função $f$ em $x$ pode ser definida como**\n",
    "\n",
    "\n",
    "$$f(x)= lim_{h-0} \\frac{f(x+h) – f(x)}{h}$$\n",
    "\n",
    "\n",
    "**Escolha sua função favorita $f$, um número $x$ não-nulo e um computador ou calculadora. Gere aproximações $f_{n}’(x)$ para $f’(x)$ por**\n",
    "\n",
    "\n",
    "$$f_{n}’(x)= \\frac{f(x+10^{-n^{-n}}) – f(x)}{10^{-n}}$$\n",
    "\n",
    "**Resposta** As aproximações tenden a 0 cada vez que o numerados tende a 0. "
   ]
  },
  {
   "cell_type": "markdown",
   "metadata": {},
   "source": [
    "## Questão 29"
   ]
  },
  {
   "cell_type": "markdown",
   "metadata": {},
   "source": [
    "**Considere a função**\n",
    "\n",
    "$$ e(h) = \\frac{\\varepsilon}{h} + \\frac{h^2}{6}M$$\n",
    "\n",
    "onde $M$ é o limitante para a terceira derivada de uma função. Mostre que $e(h)$ tem um mínimo em $\\sqrt[3]{3\\varepsilon/M}$"
   ]
  },
  {
   "cell_type": "markdown",
   "metadata": {},
   "source": [
    "Uma das maneiras de obter os pontos de máximo ou mínimo de uma função é buscando a raíz de sua derivada. Utilizando esta técnica para a função que descreve $e(h)$, temos:\n",
    "\n",
    "$$e'(h) = -\\frac{\\varepsilon}{h^2} + \\frac{h}{3}M$$\n",
    "\n",
    "Utilizando a condição de que $e'(h) = 0$, e resolvendo para $h$, encontramos:\n",
    "\n",
    "$$0  =  -\\frac{\\varepsilon}{h^2} + \\frac{h}{3}M →  \\frac{\\varepsilon}{h^2} = \\frac{h}{3}M → \\frac{3\\varepsilon}{M} = h^3 → h = \\sqrt[3]{\\frac{3\\varepsilon}{M}}$$"
   ]
  },
  {
   "cell_type": "markdown",
   "metadata": {},
   "source": [
    "# Exercícios 4.2"
   ]
  },
  {
   "cell_type": "markdown",
   "metadata": {},
   "source": [
    "## Questão 7\n",
    "\n",
    "**Mostre que a fórmula de cinco pontos na equação 4.6, aplicada a $f(x) = xe^x$ em $x_0=2.0$ resulta em $N_2(0.2)$ na tabela 4.6 quando $h=0.1$ e $N_2(0.1)$ quando $h=0.05$.**"
   ]
  },
  {
   "cell_type": "markdown",
   "metadata": {},
   "source": [
    "Temos que a equação (4.6) é a fórmula dos 5 pontos, e é dada por:\n",
    "\n",
    "$$f'(x_0) = \\frac{1}{12h}[f(x_0-2h) - 8f(x_0-h) + 8f(x_0+h) - f(x_0 +2h)]$$\n",
    "\n",
    "para $h=0.1$, nosso conjunto de dados se torna:\n",
    "\n",
    "|$x_0-2h$  |$x_0-h$   | $x_0 + h$| $x_0 +2h$|\n",
    "|----------|----------|----------|----------|\n",
    "|1.8       |1.9       |2.1       |2.2       |\n",
    "|10.8893654|12.7031994|17.1489568|19.8550297|\n",
    "\n",
    "Usando estes valores na equação 4.6, temos:\n",
    "\n",
    "$$f'(2.0) = \\frac{1}{1.2}[f(1.8) - 8f(1.9) + 8f(2.1) - f(2.2)] = \\frac{1}{1.2}[10.8893654 - 8(12.7031994) + 8(17.1489568) - (19.8550297)] = 22.166995$$\n",
    "\n",
    "Já para $h=0.05$, nosso conjunto de dados é:\n",
    "\n",
    "|$x_0-2h$  |$x_0-h$   | $x_0 + h$| $x_0 +2h$|\n",
    "|----------|----------|----------|----------|\n",
    "|1.9       |1.95      |2.05      |2.1       |\n",
    "|12.7031994|13.7059408|15.9241973|17.1489568|\n",
    "\n",
    "Usando estes valores, temos:\n",
    "\n",
    "$$f'(2.0) = \\frac{1}{1.2}[f(1.9) - 8f(1.95) + 8f(2.05) - f(2.1)] = \\frac{1}{1.2}[12.7031994 - 8(13.7059408) + 8(15.9241973) - (17.1489568)] = 22.167157$$\n",
    "\n",
    "\n",
    "Podemos assim confirmar então que quando $x_0 = 2.0$ e $h=0.1$, o resultado é idêntico a $N_2(0.2)$ da tabela 4.6, e quando $h=0.05$, o resultado se torna idêntico ao $N_2(0.1)$ da mesma tabela."
   ]
  },
  {
   "cell_type": "markdown",
   "metadata": {},
   "source": [
    "## Questão 13\n",
    "\n",
    "**Suponha que a seguinte tabela de extrapolação tenha sido construída para aproximar o número M com $M = N_1(h) +K_1h^2+K_2h^4+K_3h^6$: **\n",
    "\n",
    "|                  |                   |         |\n",
    "|------------------|-------------------|---------|\n",
    "|$N_1(h)$          |                   |         |\n",
    "|$N_1(\\frac{h}{2})$|$N_2(h)$           |         |\n",
    "|$N_1(\\frac{h}{4})$|$N_2(\\frac{h}{2})$ |$N_3(h)$ |\n",
    "\n",
    "\n",
    "**a. Mostre que o polinômio interpolador linear $P_{0,1}(h)$ através de $(h^2,N_1(h))$ e ($h^2/4,N_1(h/2))$ satisfaz $P_{0,1}(0)=N_2(h)$. Da mesma forma, mostra que $P_{1,2}(0) = N_2(h/2)$**.\n",
    "\n",
    "**b. Mostre que o polinômio interpolador linear $P_{0,2}(h)$ através de $(h^4,N_2(h))$ e ($h^4/16,N_2(h/2))$ satisfaz $P_{0,2}(0)=N_3(h)$.**\n"
   ]
  },
  {
   "cell_type": "markdown",
   "metadata": {},
   "source": []
  }
 ],
 "metadata": {
  "kernelspec": {
   "display_name": "Python 3",
   "language": "python",
   "name": "python3"
  },
  "language_info": {
   "codemirror_mode": {
    "name": "ipython",
    "version": 3
   },
   "file_extension": ".py",
   "mimetype": "text/x-python",
   "name": "python",
   "nbconvert_exporter": "python",
   "pygments_lexer": "ipython3",
   "version": "3.6.2"
  }
 },
 "nbformat": 4,
 "nbformat_minor": 2
}
