{
 "cells": [
  {
   "cell_type": "markdown",
   "metadata": {},
   "source": [
    "# Exercícios 4.1 #"
   ]
  },
  {
   "cell_type": "markdown",
   "metadata": {},
   "source": [
    "## Questão 1\n",
    "**Use as fórmulas de diferenças progressivas e regressivas para completas as siguientes tabelas**"
   ]
  },
  {
   "cell_type": "markdown",
   "metadata": {},
   "source": [
    "\n",
    "|$x$ | $f(x)$       | $f'(x)$     | \n",
    "|--------------|-----------------|---------------------------------------------|\n",
    "| 0.5     | 0.4794            | 0.8520                                 |\n",
    "| 0.6     | 0.5646            | 0.8520                                 |\n",
    "| 0.7     | 0.6442            | 0.7960                                |\n",
    "\n",
    "\n",
    "\n",
    "|$x$ | $f(x)$       | $f'(x)$     | \n",
    "|--------|------------|----------------|\n",
    "|0.0 |0.00000|3.7070|\n",
    "|0.2|0.74140|3.1520|\n",
    "|0.4|1.3718|3.1520|"
   ]
  },
  {
   "cell_type": "markdown",
   "metadata": {},
   "source": [
    "## Questão 13\n",
    "\n",
    "**Use os dados a seguir e a informação de que as primeiras cinco derivadas de $f$ são limitadas, em $[1,5]$, por 2, 3, 6, 12, 23, respectivamente para obter uma aproximação de $f’(3)$ com a maior precisão possível. Encontre um limitante para o erro.** \n",
    "\n",
    "$$f'(3) = 1/12[f(1)-8f(2)+8f(4)-f(5)]=0.21062$$\n",
    "\n",
    "$$max_{1<x<5} \\frac {|f^{(5)}(x)|h^{4}}{30} < \\frac{23}{30} = 0.76$$"
   ]
  },
  {
   "cell_type": "markdown",
   "metadata": {},
   "source": [
    "## Questão 15"
   ]
  },
  {
   "cell_type": "markdown",
   "metadata": {},
   "source": [
    "**Repita o exercício 1 usando uma aproximação de 4 dígitos e compare os erros com os obtidos no exercício 3**"
   ]
  },
  {
   "cell_type": "markdown",
   "metadata": {},
   "source": [
    "## Questão 25"
   ]
  },
  {
   "cell_type": "markdown",
   "metadata": {},
   "source": [
    "**No exercício 10 da seção 3.3 foram fornecidos dados descrevendo um carro viajando por uma estrada reta. Esse exercício pediu para predizer a posição e velocidade do carro quando t = 10s. Utilize a seguinte informação a respeito do tempo e da posição para predizer a velocidade em cada um dos tempos listados.**\n",
    "\n",
    "|Tempo    |0|3  |5  | 8 |10 |13 |\n",
    "|---------|-|---|---|---|---|---|\n",
    "|Distância|0|225|383|623|742|993|"
   ]
  },
  {
   "cell_type": "markdown",
   "metadata": {},
   "source": [
    "## Questão 27\n",
    "\n",
    "**Todos os estudantes de cálculo sabem que a derivada de uma função $f$ em $x$ pode ser definida como**\n",
    "\n",
    "\n",
    "$$f(x)= lim_{h-0} \\frac{f(x+h) – f(x)}{h}$$\n",
    "\n",
    "\n",
    "**Escolha sua função favorita $f$, um número $x$ não-nulo e um computador ou calculadora. Gere aproximações $f_{n}’(x)$ para $f’(x)$ por**\n",
    "\n",
    "\n",
    "$$f_{n}’(x)= \\frac{f(x+10^{-n^{-n}}) – f(x)}{10^{-n}}$$\n",
    "\n",
    "**Resposta** As aproximações tenden a 0 cada vez que o numerados tende a 0. "
   ]
  },
  {
   "cell_type": "markdown",
   "metadata": {},
   "source": [
    "## Questão 29"
   ]
  },
  {
   "cell_type": "markdown",
   "metadata": {},
   "source": [
    "**Considere a função**\n",
    "\n",
    "$$ e(h) = \\frac{\\epsilon}{h} + \\frac{h^2}{6}M$$\n",
    "\n",
    "onde $M$ é o limitante para a terceira derivada de uma função. Mostre que $e(h)$ tem um mínimo em $\\sqrt[3]{3\\epsilon/M}$"
   ]
  },
  {
   "cell_type": "markdown",
   "metadata": {},
   "source": []
  },
  {
   "cell_type": "markdown",
   "metadata": {},
   "source": [
    "# Exercícios 4.2"
   ]
  },
  {
   "cell_type": "markdown",
   "metadata": {},
   "source": [
    "## Questão 7\n",
    "\n",
    "**Mostre que a fórmula de cinco pontos na equação 4.6, aplicada a $f(x) = xe^x$ em $x_0=2.0$ resulta em $N_2(0.2)$ na tabela 4.6 quando $h=0.1$ e $N_2(0.1)$ quando $h=0.05$.**"
   ]
  },
  {
   "cell_type": "markdown",
   "metadata": {},
   "source": []
  },
  {
   "cell_type": "markdown",
   "metadata": {},
   "source": [
    "## Questão 13\n",
    "\n",
    "**Suponha que a seguinte tabela de extrapolação tenha sido construída para aproximar o número M com $M = N_1(h) +K_1h^2+K_2h^4+K_3h^6$: **\n",
    "\n",
    "|                  |                   |         |\n",
    "|------------------|-------------------|---------|\n",
    "|$N_1(h)$          |                   |         |\n",
    "|$N_1(\\frac{h}{2})$|$N_2(h)$           |         |\n",
    "|$N_1(\\frac{h}{4})$|$N_2(\\frac{h}{2})$ |$N_3(h)$ |\n",
    "\n",
    "\n",
    "**a. Mostre que o polinômio interpolador linear $P_{0,1}(h)$ através de $(h^2,N_1(h))$ e ($h^2/4,N_1(h/2))$ satisfaz $P_{0,1}(0)=N_2(h)$. Da mesma forma, mostra que $P_{1,2}(0) = N_2(h/2)$**.\n",
    "\n",
    "**b. Mostre que o polinômio interpolador linear $P_{0,2}(h)$ através de $(h^4,N_2(h))$ e ($h^4/16,N_2(h/2))$ satisfaz $P_{0,2}(0)=N_3(h)$.**\n"
   ]
  },
  {
   "cell_type": "markdown",
   "metadata": {},
   "source": []
  }
 ],
 "metadata": {
  "kernelspec": {
   "display_name": "Python 3",
   "language": "python",
   "name": "python3"
  },
  "language_info": {
   "codemirror_mode": {
    "name": "ipython",
    "version": 3
   },
   "file_extension": ".py",
   "mimetype": "text/x-python",
   "name": "python",
   "nbconvert_exporter": "python",
   "pygments_lexer": "ipython3",
   "version": "3.6.4"
  }
 },
 "nbformat": 4,
 "nbformat_minor": 2
}
