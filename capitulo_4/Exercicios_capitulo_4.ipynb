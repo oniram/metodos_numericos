{
 "cells": [
  {
   "cell_type": "markdown",
   "metadata": {},
   "source": [
    "## Exercicios 4.1 ##\n",
    "\n",
    "1. Use as fórmulas de diferenças progressivas e regressivas para completas as siguientes tabelas"
   ]
  },
  {
   "cell_type": "markdown",
   "metadata": {},
   "source": [
    "\n",
    "|$x$ | $f(x)$       | $f'(x)$     | \n",
    "|--------------|-----------------|---------------------------------------------|\n",
    "| 0.5     | 0.4794            | 0.8520                                 |\n",
    "| 0.6     | 0.5646            | 0.8520                                 |\n",
    "| 0.7     | 0.6442            | 0.7960                                |\n",
    "\n",
    "\n",
    "\n",
    "|$x$ | $f(x)$       | $f'(x)$     | \n",
    "|--------|------------|----------------|\n",
    "|0.0 |0.00000|3.7070|\n",
    "|0.2|0.74140|3.1520|\n",
    "|0.4|1.3718|3.1520|"
   ]
  },
  {
   "cell_type": "markdown",
   "metadata": {},
   "source": [
    "**13. Use os dados a seguir e a informação de que as primeiras cinco derivadas de $f$ são limitadas, em $[1,5]$, por 2, 3, 6, 12, 23, respectivamente para obter uma aproximação de $f’(3)$ com a maior precisão possível. Encontre um limitante para o erro.** \n",
    "\n",
    "$$f'(3) = 1/12[f(1)-8f(2)+8f(4)-f(5)]=0.21062$$\n",
    "\n",
    "$$max_{1<x<5} \\frac {|f^{(5)}(x)|h^{4}}{30} < \\frac{23}{30} = 0.76$$"
   ]
  },
  {
   "cell_type": "markdown",
   "metadata": {},
   "source": [
    "**27** Todos os estudantes de cálculo sabem que a derivada de uma função $f$ em $x$ pode ser definida como\n",
    "\n",
    "\n",
    "$$f(x)= lim_{h-0} \\frac{f(x+h) – f(x)}{h}$$\n",
    "\n",
    "\n",
    "Escolha sua função favorita $f$, um número $x$ não-nulo e um computador ou calculadora. Gere aproximações $f_{n}’(x)$ para $f’(x)$ por\n",
    "\n",
    "\n",
    "$$f_{n}’(x)= \\frac{f(x+10^{-n^{-n}}) – f(x)}{10^{-n}}$$\n",
    "\n",
    "**Resposta** As aproximações tenden a 0 cada vez que o numerados tende a 0. "
   ]
  }
 ],
 "metadata": {
  "kernelspec": {
   "display_name": "Python 3",
   "language": "python",
   "name": "python3"
  },
  "language_info": {
   "codemirror_mode": {
    "name": "ipython",
    "version": 3
   },
   "file_extension": ".py",
   "mimetype": "text/x-python",
   "name": "python",
   "nbconvert_exporter": "python",
   "pygments_lexer": "ipython3",
   "version": "3.6.4"
  }
 },
 "nbformat": 4,
 "nbformat_minor": 2
}
