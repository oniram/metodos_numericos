{
 "cells": [
  {
   "cell_type": "code",
   "execution_count": 48,
   "metadata": {},
   "outputs": [],
   "source": [
    "from sympy import *\n",
    "from math import *\n",
    "import numpy as np"
   ]
  },
  {
   "cell_type": "code",
   "execution_count": 2,
   "metadata": {},
   "outputs": [],
   "source": [
    "def formula3Pontos(Lista, x):\n",
    "    if len(Lista) < 3:\n",
    "        print('Quantidade de pontos insuficientes')\n",
    "        return None\n",
    "    else:\n",
    "        h = Lista[1, 0] - Lista[0, 0]\n",
    "        i = np.argwhere(Lista == x)  ## acha o indice do valor de x\n",
    "        i = i[0, 0]\n",
    "        if (i == 0): ## Progressiva\n",
    "            d = (-3*Lista[i, 1] + 4*Lista[i+1, 1] - Lista[i+2, 1])/(2*h)\n",
    "            print(\"Progressiva; Valor de f'(x) =\", np.round(d, 7))\n",
    "            return d\n",
    "        \n",
    "        elif (i == len(Lista)-1): ## Regressiva\n",
    "            d = (-3*Lista[i, 1] + 4*Lista[i-1, 1] - Lista[i-2, 1])/(-2*h)\n",
    "            print(\"Regressiva; Valor de f'(x) =\", np.round(d, 7))\n",
    "            return d\n",
    "        \n",
    "        else: ## Média dos pontos\n",
    "            d = (Lista[i+1, 1] - Lista[i-1, 1])/(2*h)\n",
    "            print(\"Valor de f'(x) =\", np.round(d, 7))\n",
    "            return d"
   ]
  },
  {
   "cell_type": "code",
   "execution_count": 74,
   "metadata": {},
   "outputs": [
    {
     "name": "stdout",
     "output_type": "stream",
     "text": [
      "Valor de f'(x) = 22.2287793\n"
     ]
    },
    {
     "data": {
      "text/plain": [
       "22.22877926140326"
      ]
     },
     "execution_count": 74,
     "metadata": {},
     "output_type": "execute_result"
    }
   ],
   "source": [
    "t = np.zeros((5,2), dtype = np.float32)\n",
    "t[0, 0] = 1.8; t[0, 1] = 10.889365\n",
    "t[1, 0] = 1.9; t[1, 1] = 12.703199\n",
    "t[2, 0] = 2.0; t[2, 1] = 14.778112\n",
    "t[3, 0] = 2.1; t[3, 1] = 17.148957\n",
    "t[4, 0] = 2.2; t[4, 1] = 19.855030\n",
    "\n",
    "formula3Pontos(t, 2)"
   ]
  },
  {
   "cell_type": "code",
   "execution_count": 13,
   "metadata": {},
   "outputs": [],
   "source": [
    "def formula5Pontos(Lista, x):\n",
    "    if len(Lista) < 5:\n",
    "        print('Quantidade de pontos insuficientes')\n",
    "        return None\n",
    "    else:\n",
    "        h = Lista[1, 0] - Lista[0, 0]\n",
    "        i = np.argwhere(Lista == x)  ## acha o indice do valor de x\n",
    "        i = i[0, 0]\n",
    "        if (i == 0) or (i == 1): ## Progressiva\n",
    "            if(i + len(Lista)-1 < 4):\n",
    "                print('Formula dos 5 pontos não pode ser utilizada devido a quantidade de pontos')\n",
    "                return None\n",
    "            else:\n",
    "                d = (-25*Lista[i, 1] + 48*Lista[i+1, 1] - 36*Lista[i+2, 1] + 16*Lista[i+3, 1] - 3*Lista[i+4, 1])/(12*h)\n",
    "                print(\"Progressiva; Valor de f'(x) =\", np.round(d, 7))\n",
    "                return d\n",
    "        \n",
    "        elif (i == len(Lista)-1) or (i == len(Lista)-2): ## Regressiva\n",
    "            if(i < 4):\n",
    "                print('Formula dos 5 pontos não pode ser utilizada devido a quantidade de pontos')\n",
    "            else:\n",
    "                d = (-25*Lista[i, 1] + 48*Lista[i-1, 1] - 36*Lista[i-2, 1] + 16*Lista[i-3, 1] - 3*Lista[i-4, 1])/(-12*h)\n",
    "                print(\"Regressiva; Valor de f'(x) =\", np.round(d, 7))\n",
    "                return d\n",
    "        \n",
    "        else: ## Média dos pontos\n",
    "            d = (Lista[i-2, 1] - 8*Lista[i-1, 1] + 8*Lista[i+1, 1] - Lista[i+2, 1])/(12*h)\n",
    "            print(\"Valor de f'(x) =\", np.round(d, 7))\n",
    "            return d"
   ]
  },
  {
   "cell_type": "code",
   "execution_count": 14,
   "metadata": {},
   "outputs": [
    {
     "name": "stdout",
     "output_type": "stream",
     "text": [
      "Progressiva; Valor de f'(x) = 16.9379997\n"
     ]
    },
    {
     "data": {
      "text/plain": [
       "16.93799966065097"
      ]
     },
     "execution_count": 14,
     "metadata": {},
     "output_type": "execute_result"
    }
   ],
   "source": [
    "t = np.zeros((5,2), dtype = np.float32)\n",
    "t[0, 0] = 1.8; t[0, 1] = 10.889365\n",
    "t[1, 0] = 1.9; t[1, 1] = 12.703199\n",
    "t[2, 0] = 2.0; t[2, 1] = 14.778112\n",
    "t[3, 0] = 2.1; t[3, 1] = 17.148957\n",
    "t[4, 0] = 2.2; t[4, 1] = 19.855030\n",
    "\n",
    "formula5Pontos(t, 1.8)"
   ]
  },
  {
   "cell_type": "code",
   "execution_count": 110,
   "metadata": {},
   "outputs": [],
   "source": [
    "def melhorH (funcao, ponto):\n",
    "    x = Symbol('x')\n",
    "    f = sympify(funcao)\n",
    "    df = f.diff(x)\n",
    "    d3f = f.diff(x, 3)\n",
    "    tabXInf = np.zeros(7, dtype=np.float32)\n",
    "    tabXSup = np.zeros(7, dtype=np.float32)\n",
    "    tabDf = np.zeros(7, dtype=np.float32)\n",
    "    \n",
    "    hs = [0.001, 0.002, 0.005, 0.01, 0.02, 0.05, 0.1]\n",
    "    hs = np.asarray(hs, dtype = np.float32)\n",
    "    \n",
    "    for i in range(len(tabXInf)):\n",
    "        tabXInf[i] = round(f.subs(x, ponto - hs[i]), 5)\n",
    "        tabXSup[i] = round(f.subs(x, ponto + hs[i]), 5)\n",
    "        tabDf[i] = round((tabXSup[i] - tabXInf[i]) / (2*hs[i]), 5)\n",
    "    \n",
    "    print(\"##### Tabela Valores Inferiores #####\")\n",
    "    for i in range(len(tabXInf)):\n",
    "        print('x = ', round(ponto - hs[i], 3), '\\t', funcao + ' =', tabXInf[i])\n",
    "    \n",
    "    print(\"##### Tabela Valores Superiores #####\")\n",
    "    for i in range(len(tabXSup)):\n",
    "        print('x = ', round(ponto + hs[i], 3), '\\t', funcao + ' =', tabXSup[i])\n",
    "        \n",
    "    print(\"##### Aproximação #####\")\n",
    "    for i in range(len(tabXInf)):\n",
    "        print(\"h =\", hs[i], \"\\t\", \"Aproximação de f'(\"+str(ponto)+\") =\", tabDf[i], \"Erro =\", round(-df.subs(x, ponto)+tabDf[i], 5))\n",
    "        \n",
    "    r = abs(d3f.subs(x, ponto))\n",
    "    for i in range(len(tabXInf)):\n",
    "        if abs(d3f.subs(x, ponto-hs[i])) > r:\n",
    "            r = abs(d3f.subs(x, ponto-hs[i]))\n",
    "        elif abs(d3f.subs(x, ponto+hs[i])) > r:\n",
    "            r = abs(d3f.subs(x, ponto+hs[i]))\n",
    "    r = round(r, 5)\n",
    "    \n",
    "    print('Melhor h = ', round(((3*0.000005)/(r))**(1/3), 5))"
   ]
  },
  {
   "cell_type": "code",
   "execution_count": 111,
   "metadata": {},
   "outputs": [
    {
     "name": "stdout",
     "output_type": "stream",
     "text": [
      "##### Tabela Valores Inferiores #####\n",
      "x =  0.899 \t sin(x) = 0.7827\n",
      "x =  0.898 \t sin(x) = 0.78208\n",
      "x =  0.895 \t sin(x) = 0.78021\n",
      "x =  0.89 \t sin(x) = 0.77707\n",
      "x =  0.88 \t sin(x) = 0.77074\n",
      "x =  0.85 \t sin(x) = 0.75128\n",
      "x =  0.8 \t sin(x) = 0.71736\n",
      "##### Tabela Valores Superiores #####\n",
      "x =  0.901 \t sin(x) = 0.78395\n",
      "x =  0.902 \t sin(x) = 0.78457\n",
      "x =  0.905 \t sin(x) = 0.78643\n",
      "x =  0.91 \t sin(x) = 0.7895\n",
      "x =  0.92 \t sin(x) = 0.7956\n",
      "x =  0.95 \t sin(x) = 0.81342\n",
      "x =  1.0 \t sin(x) = 0.84147\n",
      "##### Aproximação #####\n",
      "h = 0.001 \t Aproximação de f'(0.9) = 0.62498 Erro = 0.00337\n",
      "h = 0.002 \t Aproximação de f'(0.9) = 0.6225 Erro = 0.00089\n",
      "h = 0.005 \t Aproximação de f'(0.9) = 0.622 Erro = 0.00039\n",
      "h = 0.01 \t Aproximação de f'(0.9) = 0.6215 Erro = -0.00011\n",
      "h = 0.02 \t Aproximação de f'(0.9) = 0.6215 Erro = -0.00011\n",
      "h = 0.05 \t Aproximação de f'(0.9) = 0.6214 Erro = -0.00021\n",
      "h = 0.1 \t Aproximação de f'(0.9) = 0.62055 Erro = -0.00106\n",
      "Melhor h =  0.02782\n"
     ]
    }
   ],
   "source": [
    "funcao = 'sin(x)'\n",
    "ponto = 0.9\n",
    "\n",
    "melhorH(funcao, ponto)"
   ]
  },
  {
   "cell_type": "code",
   "execution_count": 22,
   "metadata": {},
   "outputs": [
    {
     "name": "stdout",
     "output_type": "stream",
     "text": [
      "9\n"
     ]
    }
   ],
   "source": [
    "x = Symbol('x')\n",
    "fu = 'x^2'\n",
    "f = sympify(fu)\n",
    "print(f.subs(x, 3))"
   ]
  }
 ],
 "metadata": {
  "kernelspec": {
   "display_name": "Python 3",
   "language": "python",
   "name": "python3"
  },
  "language_info": {
   "codemirror_mode": {
    "name": "ipython",
    "version": 3
   },
   "file_extension": ".py",
   "mimetype": "text/x-python",
   "name": "python",
   "nbconvert_exporter": "python",
   "pygments_lexer": "ipython3",
   "version": "3.6.4"
  }
 },
 "nbformat": 4,
 "nbformat_minor": 2
}
