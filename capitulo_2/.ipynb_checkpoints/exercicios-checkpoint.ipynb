{
 "cells": [
  {
   "cell_type": "markdown",
   "metadata": {},
   "source": [
    "# Exercícios 2.3 #\n",
    "\n",
    "## Chamadas das funções do método de Newton, Secante e Falsa Posição ##\n",
    "\n",
    "Essas funções serão utilizadas para a resolução dos exercícios"
   ]
  },
  {
   "cell_type": "code",
   "execution_count": 16,
   "metadata": {},
   "outputs": [],
   "source": [
    "#Algoritmo para o método de Newton\n",
    "\n",
    "import sympy as sp\n",
    "\n",
    "def flinha(a,x,fx): #Retorna o valor numérico da derivada da função digitada pelo usuário\n",
    "    flinha=fx.diff(x)\n",
    "    return (flinha.subs(x,a))\n",
    "\n",
    "def metodo_Newton():\n",
    "    x = sp.symbols('x') #Define x como a variável da função f(x) a ser especificada pelo usuário \n",
    "    fx = sp.sympify(input(\"Digite a função f(x): \")) #Solicita que o usuário entre com a função f(X)\n",
    "    N = abs(float(input(('Digite o número máximo de iterações que deseja: ')))) #Solicita ao usuário o número de iterações máximo\n",
    "\n",
    "    chute = float(input('Digite o valor do chute inicial para a raiz: ')) #Solicita do usuário um chute inicial para o valor da raiz\n",
    "    p = [chute] #Inicia uma lista onde serão guardados os valores de p, com o chute já guardado como primeiro valor\n",
    "\n",
    "\n",
    "    TOL = float(input('Digite a tolerância desejada: ')) #Solicita do usuário a tolerância desejada\n",
    "    parada = abs(int(input('Selecione o critério de parada: 1 - |p-p0|;  2 - |p-p0|/|p|;  3 - f(p): '))) #Seleção do critério de parada\n",
    "\n",
    "    i = 0 #Inicia o contador de iterações para o método de Newton\n",
    "\n",
    "    if parada > 3:\n",
    "        print('Critério inválido!')\n",
    "\n",
    "    elif parada == 1:\n",
    "        while i < N:\n",
    "            z = flinha(p[i],x,fx)\n",
    "            if z==0: #Verifica se a derivada da função no ponto analisado é igual a zero\n",
    "                print ('O método falhou: A derivada da função na iteração ', i+1, ' é igual a zero') #Mostra mensagem de erro\n",
    "\n",
    "            s=p[i] - fx.subs(x,p[i])/(flinha(p[i],x,fx))  #Aplica a formula de Newton-Raphson\n",
    "            p.append(s)\n",
    "            dif = abs(p[i+1]-p[i])\n",
    "    \n",
    "            if dif < TOL:\n",
    "                print ('A raiz estimada é ',p[i])\n",
    "                break\n",
    "            else:\n",
    "                i=i+1\n",
    "                 \n",
    "    elif parada == 2:\n",
    "            while i < N:\n",
    "                z = flinha(p[i],x,fx)\n",
    "                if z==0: #Verifica se a derivada da função no ponto analisado é igual a zero\n",
    "                    print ('O método falhou: A derivada da função na iteração ', i+1, ' é igual a zero') #Mostra mensagem de erro\n",
    "\n",
    "                s=p[i] - fx.subs(x,p[i])/(flinha(p[i],x,fx))  #Aplica a formula de Newton-Raphson\n",
    "                p.append(s)\n",
    "                dif = abs(p[i+1]-p[i])/abs(p[i+1])\n",
    "\n",
    "                if dif < TOL:\n",
    "                    print ('A raiz estimada é ',p[i])\n",
    "                    break\n",
    "                else:\n",
    "                    i=i+1\n",
    "\n",
    "    elif parada == 3:\n",
    "            while i < N:\n",
    "                z = flinha(p[i],x,fx)\n",
    "                if z==0: #Verifica se a derivada da função no ponto analisado é igual a zero\n",
    "                    print ('O método falhou: A derivada da função na iteração ', i+1, ' é igual a zero') #Mostra mensagem de erro\n",
    "                    break\n",
    "\n",
    "                s=p[i] - fx.subs(x,p[i])/(flinha(p[i],x,fx))  #Aplica a formula de Newton-Raphson\n",
    "                p.append(s)\n",
    "                dif = abs(fx.subs(x,p[i+1]))\n",
    "\n",
    "                if dif < TOL:\n",
    "                    print ('A raiz estimada é ',p[i+1],', de acordo com a tolerância estabelecida')\n",
    "                    break\n",
    "                else:\n",
    "                    i=i+1\n",
    "\n",
    "    if i==N:\n",
    "        print('O método foi encerrado pois atingiu o número máximo de iterações, sem atender ao critério estabelecido.')\n",
    "        print('\\t O valor estimado para a raiz até esse ponto é: ', p[i])\n",
    "        print('\\t O valor do erro estimado é: ', dif)\n",
    "    \n",
    "    else:\n",
    "        print('O método encontrou uma aproximação da raiz após', i+1, 'iterações!')\n",
    "        print('\\t O valor estimado para a raiz é: ', p[i])\n",
    "        print('\\t O valor do erro estimado é: ', dif)\n",
    "    # return p[i]"
   ]
  },
  {
   "cell_type": "code",
   "execution_count": 5,
   "metadata": {},
   "outputs": [],
   "source": [
    "#Função Método da Secante para encontrar raízes de uma equação do tipo f(x)=0\n",
    "\n",
    "from numpy import *\n",
    "\n",
    "def metodo_Secante(f, p0, p1, tipo_tol, tol, N0):\n",
    "    # Parâmetros: \n",
    "    # f: função do tipo f(x)=0 a qual se deseja encontrar a raiz\n",
    "    # p0 e p1: aproximações iniciais para a raiz\n",
    "    # tipo_tol: tipo de tolerância: 1: |p[n] - p[n-1]|; 2: |p[n] - p[n-1]|/|p[n]|; 3: |f(p[n])| ~= 0\n",
    "    # tol: valor da tolerância | N0: número máximo de iterações\n",
    "    \n",
    "    # variáveis extras para o cálculo\n",
    "    val_tol=0.0\n",
    "    p = 0.0\n",
    "    q = 0.0\n",
    "    q0 = f(p0) \n",
    "    q1 = f(p1)\n",
    "\n",
    "    print (\"Método da Secante, com p0 =\", p0, \"e p1 =\", p1, \" tolerância de\", tol, \"\\nn\\t pn\\t         f(pn)\")\n",
    "    print (0, '\\t', \"{:.10f}\".format(p0), '\\t', \"{:.10f}\".format(q0))\n",
    "    print (1, '\\t', \"{:.10f}\".format(p1), '\\t', \"{:.10f}\".format(q1))\n",
    "\n",
    "    # aplica o método da Secante\n",
    "    for n in range (2, N0+1):\n",
    "        p = p1 - (q1*(p1-p0))/(q1-q0) # aplica a aproximação do método da Secante\n",
    "        q = f(p) # guarda o valor de f(p)\n",
    "        # calcula as condições de parada\n",
    "        if (tipo_tol == 2 and p != 0.0): # a condição de parada será |p[n] - p[n-1]|/|p[n]|\n",
    "            val_tol = abs((p-p1)/p)\n",
    "        elif (tipo_tol == 3):\n",
    "            val_tol = abs(q) # a condição de parada será |f(p[n])| -= 0\n",
    "        else: #se não foi escolhida a condição 2 ou 3, assume a condição 1\n",
    "            val_tol = abs(p-p1) # a condição de parada será |p[n] - p[n-1]|\n",
    "        # imprime os resultados da iteração n\n",
    "        print (n, '\\t', \"{:.10f}\".format(p), '\\t', \"{:.10f}\".format(q))\n",
    "        # testa as condições de parada\n",
    "        if (val_tol <= tol):\n",
    "            print (\"A raiz da função, dentro dos parâmetros de tolerância, é\", p)\n",
    "            break\n",
    "        # atualiza os valores\n",
    "        q0 = q1\n",
    "        p0 = p1\n",
    "        q1 = q\n",
    "        p1 = p\n",
    "    print (\"O método da Secante foi encerrado após\", n, \"iterações.\")\n",
    "    # return p"
   ]
  },
  {
   "cell_type": "code",
   "execution_count": 6,
   "metadata": {},
   "outputs": [],
   "source": [
    "#Função Método da Falsa Posição para encontrar raízes de uma equação do tipo f(x)=0\n",
    "\n",
    "from numpy import *\n",
    "\n",
    "def falsa_posicao(f, p0, p1, tipo_tol, tol, N0):\n",
    "    # Parâmetros: \n",
    "    # f: função do tipo f(x)=0 a qual se deseja encontrar a raiz\n",
    "    # p0 e p1: aproximações iniciais para a raiz\n",
    "    # tipo_tol: tipo de tolerância: 1: |p[n] - p[n-1]|; 2: |p[n] - p[n-1]|/|p[n]|; 3: |f(p[n])| ~= 0\n",
    "    # tol: valor da tolerância | N0: número máximo de iterações\n",
    "    \n",
    "    # variáveis extras para o cálculo\n",
    "    val_tol=0.0\n",
    "    p = 0.0\n",
    "    q = 0.0\n",
    "    q0 = f(p0) \n",
    "    q1 = f(p1)\n",
    "\n",
    "    print (\"Raiz de f(x) = 0, pelo método da Falsa Posição \\nn\\t pn\\t         f(pn)\")\n",
    "    print (0, '\\t', \"{:.10f}\".format(p0), '\\t', \"{:.10f}\".format(q0))\n",
    "    print (1, '\\t', \"{:.10f}\".format(p1), '\\t', \"{:.10f}\".format(q1))\n",
    "\n",
    "    # Essa parte é igual o metodo da secante\n",
    "    for n in range (2, N0+1):\n",
    "        p = p1 - (q1*(p1-p0))/(q1-q0) # aplica a aproximação do método da Secante\n",
    "        q = f(p) # guarda o valor de f(p)\n",
    "        # calcula as condições de parada\n",
    "        if (tipo_tol == 2 and p != 0.0): # a condição de parada será |p[n] - p[n-1]|/|p[n]|\n",
    "            val_tol = abs((p-p1)/p)\n",
    "        elif (tipo_tol == 3):\n",
    "            val_tol = abs(q) # a condição de parada será |f(p[n])| -= 0\n",
    "        else: #se não foi escolhida a condição 2 ou 3, assume a condição 1\n",
    "            val_tol = abs(p-p1) # a condição de parada será |p[n] - p[n-1]|\n",
    "        # imprime os resultados da iteração n\n",
    "        print (n, '\\t', \"{:.10f}\".format(p), '\\t', \"{:.10f}\".format(q))\n",
    "        # testa as condições de parada\n",
    "        if (val_tol <= tol):\n",
    "            print (\"A raiz da função, dentro dos parâmetros de tolerância, é\", p)\n",
    "            break\n",
    "        \n",
    "        #a partir daqui difere do metodo da secante\n",
    "        q = f(p)\n",
    "        if(q * q1 < 0):\n",
    "            p0 = p1\n",
    "            q0 = q1\n",
    "        p1 = p\n",
    "        q1 = q\n",
    "    print (\"O método da Falsa Posição foi encerrado após\", n, \"iterações.\")\n",
    "    # return p"
   ]
  },
  {
   "cell_type": "markdown",
   "metadata": {},
   "source": [
    "# Exercícios 2.3 #"
   ]
  },
  {
   "cell_type": "markdown",
   "metadata": {},
   "source": [
    "## (3) ##\n",
    "\n",
    "Seja $f(x) = x^{2} - 6$. Com ${p}_{0} = 3$ e ${p}_{1} = 2$, determine ${p}_{3}$.\n",
    "\n",
    "**a.** Utilize o método da Secante.\n",
    "\n",
    "**b.** Utilize o método da Falsa Posição.\n",
    "\n",
    "**c.** Qual é o resultado mais próximo de $\\sqrt{6}$, (a) ou (b)?"
   ]
  },
  {
   "cell_type": "code",
   "execution_count": 12,
   "metadata": {},
   "outputs": [
    {
     "name": "stdout",
     "output_type": "stream",
     "text": [
      "3.a)\n",
      "Método da Secante, com p0 = 3.0 e p1 = 2.0  tolerância de 0.0 \n",
      "n\t pn\t         f(pn)\n",
      "0 \t 3.0000000000 \t 3.0000000000\n",
      "1 \t 2.0000000000 \t -2.0000000000\n",
      "2 \t 2.4000000000 \t -0.2400000000\n",
      "3 \t 2.4545454545 \t 0.0247933884\n",
      "O método da Secante foi encerrado após 3 iterações.\n"
     ]
    },
    {
     "data": {
      "text/plain": [
       "2.4545454545454546"
      ]
     },
     "execution_count": 12,
     "metadata": {},
     "output_type": "execute_result"
    }
   ],
   "source": [
    "print(\"3.a)\"); metodo_Secante(lambda x:(x**2 - 6), 3.0, 2.0, 1, 0.0, 3)"
   ]
  },
  {
   "cell_type": "code",
   "execution_count": 13,
   "metadata": {},
   "outputs": [
    {
     "name": "stdout",
     "output_type": "stream",
     "text": [
      "3.b)\n",
      "Raiz de f(x) = 0, pelo método da Falsa Posição \n",
      "n\t pn\t         f(pn)\n",
      "0 \t 3.0000000000 \t 3.0000000000\n",
      "1 \t 2.0000000000 \t -2.0000000000\n",
      "2 \t 2.4000000000 \t -0.2400000000\n",
      "3 \t 2.4444444444 \t -0.0246913580\n",
      "O método da Falsa Posição foi encerrado após 3 iterações.\n"
     ]
    },
    {
     "data": {
      "text/plain": [
       "2.444444444444444"
      ]
     },
     "execution_count": 13,
     "metadata": {},
     "output_type": "execute_result"
    }
   ],
   "source": [
    "print(\"3.b)\"); falsa_posicao(lambda x:(x**2 - 6), 3.0, 2.0, 1, 0.0, 3)"
   ]
  },
  {
   "cell_type": "markdown",
   "metadata": {},
   "source": [
    "3.c)\n",
    "\n",
    "A tabela abaixo demonstra o resultado:\n",
    "\n",
    "|     Método    |            Valor              | Módulo do Erro |\n",
    "|:-------------:|:-----------------------------:|:--------------:|\n",
    "|   Raiz Real   | $\\sqrt{6} = 2.44948974278$    |       0        |\n",
    "|    Secante    |  ${p}_{3} = 2.45454545455$    | 0.00505571176  |\n",
    "| Falsa Posição |  ${p}_{3} = 2.44444444444$    | 0.00504529834  |\n",
    "\n",
    "O método da Secante e Falsa Posição diferem no resultado em ${p}_{3}$, pois o método da Falsa Posição escolhe um intervalo onde a raiz se encontra, o que se mostrou um pouco mais vantajoso, já que reduziu o erro em relação a raiz real $p^{*} = \\sqrt{6}$"
   ]
  },
  {
   "cell_type": "markdown",
   "metadata": {},
   "source": [
    "## (9) - Repita o exercício 5, utilizando método da falsa posição"
   ]
  },
  {
   "cell_type": "markdown",
   "metadata": {},
   "source": [
    "### (9.A) - $x^3 - 2*x^2 - 5 = 0, [1,4]$"
   ]
  },
  {
   "cell_type": "code",
   "execution_count": 7,
   "metadata": {},
   "outputs": [
    {
     "name": "stdout",
     "output_type": "stream",
     "text": [
      "Raiz de f(x) = 0, pelo método da Falsa Posição \n",
      "n\t pn\t         f(pn)\n",
      "0 \t 1.0000000000 \t -6.0000000000\n",
      "1 \t 4.0000000000 \t 27.0000000000\n",
      "2 \t 1.5454545455 \t -6.0856498873\n",
      "3 \t 1.9969343961 \t -5.0122248528\n",
      "4 \t 2.3105588082 \t -3.3420252785\n",
      "5 \t 2.4966424700 \t -1.9043164236\n",
      "6 \t 2.5956888682 \t -0.9864862639\n",
      "7 \t 2.6451889601 \t -0.4855969518\n",
      "8 \t 2.6691248460 \t -0.2330024091\n",
      "9 \t 2.6805116594 \t -0.1104265800\n",
      "10 \t 2.6858862183 \t -0.0520272619\n",
      "11 \t 2.6884135609 \t -0.0244445378\n",
      "12 \t 2.6895999359 \t -0.0114700503\n",
      "13 \t 2.6901563793 \t -0.0053787639\n",
      "14 \t 2.6904172658 \t -0.0025215914\n",
      "15 \t 2.6905395593 \t -0.0011819752\n",
      "16 \t 2.6905968809 \t -0.0005540062\n",
      "A raiz da função, dentro dos parâmetros de tolerância, é 2.690596880893969\n",
      "O método da Falsa Posição foi encerrado após 16 iterações.\n"
     ]
    },
    {
     "data": {
      "text/plain": [
       "2.690596880893969"
      ]
     },
     "execution_count": 7,
     "metadata": {},
     "output_type": "execute_result"
    }
   ],
   "source": [
    "## 9.A - Solução:\n",
    "## O valor da raiz bate com a solução do livro, mas o número de iterações difere(no livro retorna com p11)\n",
    "falsa_posicao(lambda x:(math.pow(x,3) - 2*math.pow(x,2) - 5), 1, 4, 1, math.pow(10,-4), 20)"
   ]
  },
  {
   "cell_type": "markdown",
   "metadata": {},
   "source": [
    "### (9.B) - $ x^3 + 3*x^2 -1 = 0$, [-3,-2]"
   ]
  },
  {
   "cell_type": "code",
   "execution_count": 8,
   "metadata": {},
   "outputs": [
    {
     "name": "stdout",
     "output_type": "stream",
     "text": [
      "Raiz de f(x) = 0, pelo método da Falsa Posição \n",
      "n\t pn\t         f(pn)\n",
      "0 \t -3.0000000000 \t -1.0000000000\n",
      "1 \t -2.0000000000 \t 3.0000000000\n",
      "2 \t -2.7500000000 \t 0.8906250000\n",
      "3 \t -2.8677685950 \t 0.0874838631\n",
      "4 \t -2.8784060992 \t 0.0074324220\n",
      "5 \t -2.8793031690 \t 0.0006234072\n",
      "6 \t -2.8793783654 \t 0.0000522330\n",
      "A raiz da função, dentro dos parâmetros de tolerância, é -2.8793783653904685\n",
      "O método da Falsa Posição foi encerrado após 6 iterações.\n"
     ]
    },
    {
     "data": {
      "text/plain": [
       "-2.8793783653904685"
      ]
     },
     "execution_count": 8,
     "metadata": {},
     "output_type": "execute_result"
    }
   ],
   "source": [
    "## 9.B - Solução:\n",
    "## O valor da raiz bate com a solução do livro, mas o número de iterações difere(no livro retorna com p7)\n",
    "falsa_posicao(lambda x:(math.pow(x,3) + 3*math.pow(x,2)-1), -3, -2, 1, math.pow(10,-4), 20)"
   ]
  },
  {
   "cell_type": "markdown",
   "metadata": {},
   "source": [
    "### (9.C) - $ x - cos(x)  = 0$, [0,$\\pi$/2]"
   ]
  },
  {
   "cell_type": "code",
   "execution_count": 9,
   "metadata": {},
   "outputs": [
    {
     "name": "stdout",
     "output_type": "stream",
     "text": [
      "Raiz de f(x) = 0, pelo método da Falsa Posição \n",
      "n\t pn\t         f(pn)\n",
      "0 \t 0.0000000000 \t -1.0000000000\n",
      "1 \t 1.5707963268 \t 1.5707963268\n",
      "2 \t 0.6110154704 \t -0.2080503951\n",
      "3 \t 0.7232695414 \t -0.0263762877\n",
      "4 \t 0.7372659061 \t -0.0030434567\n",
      "5 \t 0.7388777688 \t -0.0003470316\n",
      "6 \t 0.7390615217 \t -0.0000395164\n",
      "7 \t 0.7390824450 \t -0.0000044990\n",
      "A raiz da função, dentro dos parâmetros de tolerância, é 0.7390824450103588\n",
      "O método da Falsa Posição foi encerrado após 7 iterações.\n"
     ]
    },
    {
     "data": {
      "text/plain": [
       "0.7390824450103588"
      ]
     },
     "execution_count": 9,
     "metadata": {},
     "output_type": "execute_result"
    }
   ],
   "source": [
    "## 9.C - Solução:\n",
    "## O valor da raiz bate com a solução do livro, mas o número de iterações difere(no livro retorna com p6)\n",
    "falsa_posicao(lambda x:(x-cos(x)), 0, math.pi/2, 1, math.pow(10,-4), 20)"
   ]
  },
  {
   "cell_type": "markdown",
   "metadata": {},
   "source": [
    "### (9.D) - $ x - 0.8 - 0.2 * sin(x)  = 0 $, [0,$\\pi$/2]"
   ]
  },
  {
   "cell_type": "code",
   "execution_count": 10,
   "metadata": {},
   "outputs": [
    {
     "name": "stdout",
     "output_type": "stream",
     "text": [
      "Raiz de f(x) = 0, pelo método da Falsa Posição \n",
      "n\t pn\t         f(pn)\n",
      "0 \t 0.0000000000 \t -0.8000000000\n",
      "1 \t 1.5707963268 \t 0.5707963268\n",
      "2 \t 0.9167204762 \t -0.0420016325\n",
      "3 \t 0.9615513264 \t -0.0024647334\n",
      "4 \t 0.9641707726 \t -0.0001445190\n",
      "5 \t 0.9643243242 \t -0.0000084733\n",
      "6 \t 0.9643333270 \t -0.0000004968\n",
      "A raiz da função, dentro dos parâmetros de tolerância, é 0.9643333269804453\n",
      "O método da Falsa Posição foi encerrado após 6 iterações.\n"
     ]
    },
    {
     "data": {
      "text/plain": [
       "0.9643333269804453"
      ]
     },
     "execution_count": 10,
     "metadata": {},
     "output_type": "execute_result"
    }
   ],
   "source": [
    "## 9.D - Solução:\n",
    "## O valor da raiz bate com a solução do livro, mas o número de iterações difere(no livro retorna com p5)\n",
    "falsa_posicao(lambda x:(x- 0.8 -0.2*sin(x)), 0, math.pi/2, 1, math.pow(10,-4), 20)"
   ]
  },
  {
   "cell_type": "markdown",
   "metadata": {},
   "source": [
    "## (15) ##\n",
    "\n",
    "O seguinte enunciado descreve o método de Newton de forma gráfica: suponha que $f'(x)$ exista em $[a, b]$ e que $f'(x) \\neq 0$ em $[a, b]$. Suponha também que exista um $p \\in [a, b]$, tal que $f(p) = 0$, e seja ${p}_{0} \\in [a, b]$ arbitrário. Seja ${p}_{1}$ o ponto no qual a reta tangente a $f$ em $({p}_{0}, f({p}_{0}))$ cruza o eixo x. Para cada $n \\geqslant 1$, seja ${p}_{n}$ a interseção da reta tangente a $f$ em $({p}_{n-1}, f({p}_{n-1}))$ com o eixo x. Deduza a fórmula que descreve esse método.\n",
    "\n",
    "**Resposta:**\n",
    "\n",
    "Como para cada $n \\geqslant 1$, ${p}_{n}$ será a interseção da reta tangente a $f$ em $({p}_{n-1}, f({p}_{n-1}))$ com o eixo x, podemos escrever a equação desta reta tangente e determinar uma fórmula que retorne o valor de x para o qual a reta tangente toca o eixo x, determinando assim ${p}_{n}$ em cada ireração.\n",
    "\n",
    "A forma fundamental de uma equação linear é representada por $(y - {y}_{1}) = m . (x - {x}_{1})$, onde $m$ representa o declive (coeficiente angular da reta) e $(x - {x}_{1})$ representa um ponto da reta. A inclinação $m$ da reta tangente a $f$ em $({p}_{n-1}, f({p}_{n-1}))$ é dada pela derivada primeira neste ponto:\n",
    "\n",
    "$$m = f'({p}_{n-1}).$$\n",
    "\n",
    "Como queremos o ponto x onde a reta tangente toca o eixo x, isso significa encontrar um x, chamado de ${p}_{n}$, tal que leve a $y = 0$. Desta forma, a equação linear da reta tangente pode ser escrita como:\n",
    "\n",
    "$$(y - {y}_{1}) = m . (x - {x}_{1})$$\n",
    "\n",
    "$$(0 - f({p}_{n-1})) = f'({p}_{n-1}) . ({p}_{n} - {p}_{n-1})$$\n",
    "\n",
    "Isolando ${p}_{n}$ obtém-se:\n",
    "\n",
    "$$\\frac{-f({p}_{n-1})}{f'({p}_{n-1})} + {p}_{n-1} = {p}_{n}\\text{, reagrupando: } {p}_{n} = {p}_{n-1} - \\frac{f({p}_{n-1})}{f'({p}_{n-1})},$$\n",
    "\n",
    "que é a fórmula para a aplicação do método de Newton."
   ]
  },
  {
   "cell_type": "markdown",
   "metadata": {},
   "source": [
    "## (17) ##\n",
    "\n",
    "O polinômio de quarto grau $$f(x) = 230 x^{4} + 18 x^{3} + 9 x^{2} - 221 x - 9$$tem dois zeros reais, um em $[-1, 0]$ e outro em $[0, 1]$. Tente encontrar a aproximação desses zeros com a precisão de $10^{-6}$, utilizando os seguintes métodos:\n",
    "\n",
    "**a.** Método da Falsa Posição;\n",
    "\n",
    "**b.** Método da Secante;\n",
    "\n",
    "**c.** Método de Newton.\n",
    "\n",
    "Utilize as extremidades de cada intervalo como aproximações iniciais em (a) e (b) e os pontos médios como as aproximações iniciais em (c).\n",
    "\n",
    "**Resposta:**\n",
    "\n",
    "Apesar do método de Newton (4 iterações), seguido pelo método da Secante (5 iterações), terem mostrado uma convergência mais rápida para a primeira raiz no intervalo $[-1, 0]$ em relação ao método da Falsa Posição (17 iterações), eles falharam em convergir para a segunda raiz no intervalo $[0, 1]$, convergindo novamente para a mesma raiz do intervalo $[-1, 0]$. Somente o método da Falsa Posição foi capaz de convergir corretamente para a raiz no intervalo $[0, 1]$, devido a sua condição de sempre escolher novos subintervalos onde a raiz sempre esteja contida.\n",
    "\n",
    "Os resultados das iterações para os métodos da Falsa Posição, Secante e Newton seguem abaixo:"
   ]
  },
  {
   "cell_type": "code",
   "execution_count": 14,
   "metadata": {},
   "outputs": [
    {
     "name": "stdout",
     "output_type": "stream",
     "text": [
      "17.a) 230*(x**4) + 18*(x**3) + 9*(x**2) - 221*x - 9, com p0 = -1 e p1 = 0\n",
      "Raiz de f(x) = 0, pelo método da Falsa Posição \n",
      "n\t pn\t         f(pn)\n",
      "0 \t -1.0000000000 \t 433.0000000000\n",
      "1 \t 0.0000000000 \t -9.0000000000\n",
      "2 \t -0.0203619910 \t -4.4963809278\n",
      "3 \t -0.0304302472 \t -2.2668913670\n",
      "4 \t -0.0354798141 \t -1.1480711912\n",
      "5 \t -0.0380304136 \t -0.5827707397\n",
      "6 \t -0.0393233795 \t -0.2961607508\n",
      "7 \t -0.0399800082 \t -0.1505952314\n",
      "8 \t -0.0403137822 \t -0.0765991444\n",
      "9 \t -0.0404835239 \t -0.0389674676\n",
      "10 \t -0.0405698670 \t -0.0198250271\n",
      "11 \t -0.0406137928 \t -0.0100865434\n",
      "12 \t -0.0406361407 \t -0.0051319162\n",
      "13 \t -0.0406475110 \t -0.0026110858\n",
      "14 \t -0.0406532961 \t -0.0013285104\n",
      "15 \t -0.0406562395 \t -0.0006759428\n",
      "16 \t -0.0406577371 \t -0.0003439184\n",
      "17 \t -0.0406584990 \t -0.0001749852\n",
      "A raiz da função, dentro dos parâmetros de tolerância, é -0.04065849904334182\n",
      "O método da Falsa Posição foi encerrado após 17 iterações.\n",
      "\n",
      "17.a) 230*(x**4) + 18*(x**3) + 9*(x**2) - 221*x - 9, com p0 = 0 e p1 = 1\n",
      "Raiz de f(x) = 0, pelo método da Falsa Posição \n",
      "n\t pn\t         f(pn)\n",
      "0 \t 0.0000000000 \t -9.0000000000\n",
      "1 \t 1.0000000000 \t 27.0000000000\n",
      "2 \t 0.2500000000 \t -62.5078125000\n",
      "3 \t 0.7737627651 \t -83.8305202790\n",
      "4 \t 0.9448851695 \t -11.2651302499\n",
      "5 \t 0.9611107968 \t -0.8558678232\n",
      "6 \t 0.9623056624 \t -0.0618023693\n",
      "7 \t 0.9623917468 \t -0.0044461808\n",
      "8 \t 0.9623979389 \t -0.0003197810\n",
      "9 \t 0.9623983842 \t -0.0000229991\n",
      "A raiz da função, dentro dos parâmetros de tolerância, é 0.9623983842387566\n",
      "O método da Falsa Posição foi encerrado após 9 iterações.\n"
     ]
    },
    {
     "data": {
      "text/plain": [
       "0.9623983842387566"
      ]
     },
     "execution_count": 14,
     "metadata": {},
     "output_type": "execute_result"
    }
   ],
   "source": [
    "# Exercícios 2.3 - Questão 17.a)\n",
    "# Método da Falsa Posição\n",
    "\n",
    "print(\"17.a) 230*(x**4) + 18*(x**3) + 9*(x**2) - 221*x - 9, com p0 = -1 e p1 = 0\") \n",
    "falsa_posicao(lambda x:(230*(x**4) + 18*(x**3) + 9*(x**2) - 221*x - 9), -1.0, 0.0, 1, 0.000001, 30)\n",
    "\n",
    "print(\"\\n17.a) 230*(x**4) + 18*(x**3) + 9*(x**2) - 221*x - 9, com p0 = 0 e p1 = 1\") \n",
    "falsa_posicao(lambda x:(230*(x**4) + 18*(x**3) + 9*(x**2) - 221*x - 9), 0.0, 1.0, 1, 0.000001, 30)"
   ]
  },
  {
   "cell_type": "code",
   "execution_count": 15,
   "metadata": {},
   "outputs": [
    {
     "name": "stdout",
     "output_type": "stream",
     "text": [
      "17.b) 230*(x**4) + 18*(x**3) + 9*(x**2) - 221*x - 9, com p0 = -1 e p1 = 0\n",
      "Método da Secante, com p0 = -1.0 e p1 = 0.0  tolerância de 1e-06 \n",
      "n\t pn\t         f(pn)\n",
      "0 \t -1.0000000000 \t 433.0000000000\n",
      "1 \t 0.0000000000 \t -9.0000000000\n",
      "2 \t -0.0203619910 \t -4.4963809278\n",
      "3 \t -0.0406912564 \t 0.0070874832\n",
      "4 \t -0.0406592626 \t -0.0000057062\n",
      "5 \t -0.0406592883 \t -0.0000000000\n",
      "A raiz da função, dentro dos parâmetros de tolerância, é -0.040659288315725135\n",
      "O método da Secante foi encerrado após 5 iterações.\n",
      "\n",
      "17.b) 230*(x**4) + 18*(x**3) + 9*(x**2) - 221*x - 9, com p0 = 0 e p1 = 1\n",
      "Método da Secante, com p0 = 0.0 e p1 = 1.0  tolerância de 1e-06 \n",
      "n\t pn\t         f(pn)\n",
      "0 \t 0.0000000000 \t -9.0000000000\n",
      "1 \t 1.0000000000 \t 27.0000000000\n",
      "2 \t 0.2500000000 \t -62.5078125000\n",
      "3 \t 0.7737627651 \t -83.8305202790\n",
      "4 \t -1.2854177835 \t 879.6389856119\n",
      "5 \t 0.5945955204 \t -104.6913894787\n",
      "6 \t 0.3946411047 \t -88.1289403624\n",
      "7 \t -0.6693181356 \t 183.7131597404\n",
      "8 \t 0.0497143976 \t -19.9610215816\n",
      "9 \t -0.0207541508 \t -4.4095742941\n",
      "10 \t -0.0407353329 \t 0.0168594734\n",
      "11 \t -0.0406592282 \t -0.0000133184\n",
      "12 \t -0.0406592883 \t -0.0000000000\n",
      "A raiz da função, dentro dos parâmetros de tolerância, é -0.04065928831557162\n",
      "O método da Secante foi encerrado após 12 iterações.\n"
     ]
    },
    {
     "data": {
      "text/plain": [
       "-0.04065928831557162"
      ]
     },
     "execution_count": 15,
     "metadata": {},
     "output_type": "execute_result"
    }
   ],
   "source": [
    "print(\"17.b) 230*(x**4) + 18*(x**3) + 9*(x**2) - 221*x - 9, com p0 = -1 e p1 = 0\") \n",
    "metodo_Secante(lambda x:(230*(x**4) + 18*(x**3) + 9*(x**2) - 221*x - 9), -1.0, 0.0, 1, 0.000001, 30)\n",
    "\n",
    "print(\"\\n17.b) 230*(x**4) + 18*(x**3) + 9*(x**2) - 221*x - 9, com p0 = 0 e p1 = 1\") \n",
    "metodo_Secante(lambda x:(230*(x**4) + 18*(x**3) + 9*(x**2) - 221*x - 9), 0.0, 1.0, 1, 0.000001, 30)"
   ]
  },
  {
   "cell_type": "code",
   "execution_count": 17,
   "metadata": {},
   "outputs": [
    {
     "name": "stdout",
     "output_type": "stream",
     "text": [
      "Digite a função f(x): 230*(x**4) + 18*(x**3) + 9*(x**2) - 221*x - 9\n",
      "Digite o número máximo de iterações que deseja: 30\n",
      "Digite o valor do chute inicial para a raiz: -0.5\n",
      "Digite a tolerância desejada: 0.000001\n",
      "Selecione o critério de parada: 1 - |p-p0|;  2 - |p-p0|/|p|;  3 - f(p): 1\n",
      "A raiz estimada é  -0.0406593434973293\n",
      "O método encontrou uma aproximação da raiz após 4 iterações!\n",
      "\t O valor estimado para a raiz é:  -0.0406593434973293\n",
      "\t O valor do erro estimado é:  5.51815703478398e-8\n",
      "\n",
      "\n",
      "Digite a função f(x): 230*(x**4) + 18*(x**3) + 9*(x**2) - 221*x - 9\n",
      "Digite o número máximo de iterações que deseja: 30\n",
      "Digite o valor do chute inicial para a raiz: 0.5\n",
      "Digite a tolerância desejada: 0.000001\n",
      "Selecione o critério de parada: 1 - |p-p0|;  2 - |p-p0|/|p|;  3 - f(p): 1\n",
      "A raiz estimada é  -0.0406592883453349\n",
      "O método encontrou uma aproximação da raiz após 6 iterações!\n",
      "\t O valor estimado para a raiz é:  -0.0406592883453349\n",
      "\t O valor do erro estimado é:  2.95760776980458e-11\n"
     ]
    }
   ],
   "source": [
    "metodo_Newton()\n",
    "print('\\n')\n",
    "metodo_Newton()"
   ]
  },
  {
   "cell_type": "markdown",
   "metadata": {},
   "source": [
    "## (31) ##\n",
    "\n",
    "O modelo de crescimento populacional logístico é descrito por uma equação na forma\n",
    "\n",
    "$$P(t) = \\frac{{P}_{L}}{1 - ce^{-kt}},$$\n",
    "\n",
    "onde ${P}_{L}$, $c$ e $k > 0$ são constantes, e $P(t)$ é a população no instante $t$. ${P}_{L}$ representa o valor-limite da população, pois $\\lim_{t \\to \\infty} P(t) = {P}_{L}$. Utilize os dados do censo dos anos 1950, 1960 e 1970 fornecidos na tabela da página 101 para determinar as constantes ${P}_{L}$, $c$ e $k$ para um modelo de crescimento logístico.  Utilize o modelo logístico para calcular a população dos Estados Unidos em 1980 e 2010, supondo $t = 0$ em 1950. Compare os resultados obtidos para 1980 com o valor real.\n",
    "\n",
    "**Resposta:**\n",
    "\n",
    "Existem três constante que são incógnitas (${P}_{L}$, $c$ e $k > 0$) e é possível escrever três equações com os dados dos anos de 1950, 1960 e 1970 (uma para cada ano). Desta forma, é possível reescrever a equação do modelo de crescimento logístico em função de uma única incógnita. A incógnita escolhida será o $c$, pois ela se mostra mais fácil de ser isolada.\n",
    "\n",
    "**Para 1950 (t = 0, população em milhares):**\n",
    "\n",
    "$$P(0) = 151326 = \\frac{{P}_{L}}{1 - ce^{-k.0}}$$\n",
    "\n",
    "$$151326 = \\frac{{P}_{L}}{1 - ce^{0}}$$\n",
    "\n",
    "$$151326 = \\frac{{P}_{L}}{1 - c}$$\n",
    "\n",
    "$${P}_{L} = 151326(1 - c)$$\n",
    "\n",
    "**Para 1960 (t = 10, população em milhares):**\n",
    "\n",
    "$$P(10) = 179323 = \\frac{{P}_{L}}{1 - ce^{-k.10}}$$\n",
    "\n",
    "$$179323 = \\frac{{P}_{L}}{1 - ce^{-k.10}}$$\n",
    "\n",
    "$$1 - ce^{-k.10} = \\frac{{P}_{L}}{179323}$$\n",
    "\n",
    "$$-ce^{-k.10} = \\frac{{P}_{L}}{179323} - 1$$\n",
    "\n",
    "$$ce^{-k.10} = 1 - \\frac{{P}_{L}}{179323}$$\n",
    "\n",
    "$$ce^{-k.10} = \\frac{179323 - {P}_{L}}{179323}$$\n",
    "\n",
    "$$e^{-k.10} = \\frac{179323 - {P}_{L}}{179323 c}$$\n",
    "\n",
    "substituindo ${P}_{L}$ pela relação encontrada na equação do ano de 1950:\n",
    "\n",
    "$$e^{-k.10} = \\frac{179323 - 151326(1 - c)}{179323 c}$$\n",
    "\n",
    "$$e^{-k.10} = \\frac{27997 + 151326 c}{179323 c}$$\n",
    "\n",
    "aplicando $ln()$ em ambos os lados:\n",
    "\n",
    "$$\\ln(e^{-k.10}) = \\ln(\\frac{27997 + 151326 c}{179323 c})$$\n",
    "\n",
    "$$-10k \\ln(e) = \\ln(\\frac{27997 + 151326 c}{179323 c})$$\n",
    "\n",
    "$$-10k = \\ln(\\frac{27997 + 151326 c}{179323 c})$$\n",
    "\n",
    "$$k = - \\ln(\\frac{27997 + 151326 c}{179323 c}) / 10$$\n",
    "\n",
    "**Para 1970 (t = 20, população em milhares):**\n",
    "\n",
    "$$P(20) = 203302 = \\frac{{P}_{L}}{1 - ce^{-k.20}}$$\n",
    "\n",
    "$$203302 = \\frac{{P}_{L}}{1 - ce^{-k.20}}$$\n",
    "\n",
    "substituindo ${P}_{L}$ e $-k$ pelos valores encontrados em 1950 e 1960, a equação se torna de uma única variável, em c, que pode ser determinada através de um dos métodos iterativos para determinação de raízes de funções de uma variável.\n",
    "\n",
    "$$203302 = \\frac{151326(1 - c)}{1 - ce^{(\\ln(\\frac{27997 + 151326 c}{179323 c})/10).20}}$$\n",
    "\n",
    "$$203302 = \\frac{151326(1 - c)}{1 - c(e^{\\ln(\\frac{27997 + 151326 c}{179323 c})})^{2}}$$\n",
    "\n",
    "$$203302 = \\frac{151326(1 - c)}{1 - c(\\frac{27997 + 151326 c}{179323 c})^{2}}$$\n",
    "\n",
    "$$\\frac{151326(1 - c)}{1 - c(\\frac{27997 + 151326 c}{179323 c})^{2}} - 203302 = 0.$$\n",
    "\n",
    "Plotando o gráfico desta equação para obter as aproximações ${p}_{0}$ e ${p}_{1}$ para o método da Secante, e aplicando o método, com uma precisão de $10^{-7}$ para $|{p}_{n} - {p}_{n-1}|$ obtém-se $c$ = -0,7565812558.\n",
    "\n",
    "Substituindo $c = -0,7565812558$ nas relações de ${P}_{L}$ e $k$, encontradas anteriormente, obtêm-se:\n",
    "\n",
    "$${P}_{L} = 151326(1 - c) = 151326(1 + 0,7565812558) = 265816,415115$$\n",
    "\n",
    "$$k = - \\ln(\\frac{27997 + 151326 c}{179323 c}) / 10 = - \\ln(\\frac{27997 + 151326 (-0,7565812558)}{179323 (-0,7565812558)})  / 10 = 0,045017502246$$\n",
    "\n",
    "Para **1980 (t = 30)**, usando os valores encontrados para ${P}_{L}$, $c$ e $k$, a população, em milhares, é:\n",
    "\n",
    "$$P(t) = \\frac{{P}_{L}}{1 - ce^{-kt}}$$\n",
    "\n",
    "$$P(30) = \\frac{265816,415115}{1 - (-0,7565812558)e^{-0,045017502246 . 30}}$$\n",
    "\n",
    "$$P(30) \\approx 222.248$$\n",
    "\n",
    "Comparado ao valor real, que é de 226.542, houve uma diferença de 4.294 (4 milhões e 294 mil pessoas) para menos. Isso demonstra que este modelo depende de ajustes das constantes a cada década, principalmente o valor-limite da população (${P}_{L}$).\n",
    "\n",
    "Para **2010 (t = 60)** o modelo mostra uma discrepância ainda maior (população em milhares):\n",
    "\n",
    "$$P(t) = \\frac{{P}_{L}}{1 - ce^{-kt}}$$\n",
    "\n",
    "$$P(60) = \\frac{265816,415115}{1 - (-0,7565812558)e^{-0,045017502246 . 60}}$$\n",
    "\n",
    "$$P(60) \\approx 252.967$$\n",
    "\n",
    "Quando o censo mostra que em 2010 a população dos Estados Unidos era de 309.300 milhares de habitantes."
   ]
  },
  {
   "cell_type": "code",
   "execution_count": 19,
   "metadata": {},
   "outputs": [
    {
     "data": {
      "image/png": "[encoded data removed]",
      "text/plain": [
       "<matplotlib.figure.Figure at 0x9a02518>"
      ]
     },
     "metadata": {},
     "output_type": "display_data"
    },
    {
     "name": "stdout",
     "output_type": "stream",
     "text": [
      "Questão 31. Achando c do modelo de crescimento logístico, com p0 = -1.0 e p1 = -0.5\n",
      "Método da Secante, com p0 = -1.0 e p1 = -0.5  tolerância de 1e-07 \n",
      "n\t pn\t         f(pn)\n",
      "0 \t -1.0000000000 \t 2164.8071511812\n",
      "1 \t -0.5000000000 \t -4417.5281174863\n",
      "2 \t -0.8355593370 \t 835.1700189980\n",
      "3 \t -0.7822059764 \t 288.6818170479\n",
      "4 \t -0.7540221199 \t -29.8614330685\n",
      "5 \t -0.7566641797 \t 0.9643710972\n",
      "6 \t -0.7565815241 \t 0.0031211207\n",
      "7 \t -0.7565812557 \t -0.0000003272\n",
      "8 \t -0.7565812558 \t 0.0000000000\n",
      "A raiz da função, dentro dos parâmetros de tolerância, é -0.7565812557706082\n",
      "O método da Secante foi encerrado após 8 iterações.\n"
     ]
    },
    {
     "data": {
      "text/plain": [
       "-0.7565812557706082"
      ]
     },
     "execution_count": 19,
     "metadata": {},
     "output_type": "execute_result"
    }
   ],
   "source": [
    "# Exercícios 2.3 - Questão 31.\n",
    "\n",
    "from numpy import *\n",
    "import matplotlib.pyplot as plt\n",
    "\n",
    "def f(c): # função f(c) para encontrar o c do modelo de crescimento logístico\n",
    "    return ((151326*(1 - c)) / (1 - c*(((27997 + 151326*c) / (179323*c)))**2)) - 203302\n",
    "\n",
    "# Plota o gráfico da função\n",
    "plt.rcParams['figure.figsize'] = 10, 10 # Tamanho da figura\n",
    "x = arange(-5, 5, 0.05)\n",
    "plt.plot(x, f(x), label=\"Função para determinar c\")\n",
    "plt.legend(); plt.grid(); plt.show()\n",
    "\n",
    "print(\"Questão 31. Achando c do modelo de crescimento logístico, com p0 = -1.0 e p1 = -0.5\") \n",
    "metodo_Secante(f, -1.0, -0.5, 1, 0.0000001, 30)"
   ]
  }
 ],
 "metadata": {
  "kernelspec": {
   "display_name": "Python 3",
   "language": "python",
   "name": "python3"
  },
  "language_info": {
   "codemirror_mode": {
    "name": "ipython",
    "version": 3
   },
   "file_extension": ".py",
   "mimetype": "text/x-python",
   "name": "python",
   "nbconvert_exporter": "python",
   "pygments_lexer": "ipython3",
   "version": "3.6.4"
  }
 },
 "nbformat": 4,
 "nbformat_minor": 2
}
