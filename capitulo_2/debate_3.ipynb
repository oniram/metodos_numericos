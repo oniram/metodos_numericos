{
 "cells": [
  {
   "cell_type": "markdown",
   "metadata": {},
   "source": [
    "## Método de Newton\n",
    "Dada uma função $f(x)$ que desejamos descobrir sua raiz, devemos fazer:\n",
    "\n",
    "1 - Escolhe-se um ponto $p_n$ qualquer do seu domínio (Aproximação inicial da raiz) \n",
    "\n",
    "2 - Traçamos a tangente naquele ponto (calculando a derivada).\n",
    "\n",
    "Essa tangente, em um certo momento irá cortar o eixo x. Teremos aí um novo ponto ${p}_{n+1}$ e repetimos as etapas 1 e 2 acima.\n",
    "Essas etapas serão repetidas até que o valor de pn atenda aos critérios de tolerância de erro aceitavéis para ser considerado a raiz da função $f(x)$ inicial\n",
    "\n",
    "O Teorema 2.5 trata da escolha do ponto inicial $p_0$. Detalhar o teorema\n",
    "\n",
    "Desvantagem do método: O cálculo de uma derivada em cada iteração.\n",
    "\n",
    "## Método da secante\n",
    "Afim de eliminar o problema do cálculo de dericada no método de Newton, esse método da secante apresenta uma nova maneira de se obter o novo ponto pn\n",
    "Para esse método será necesário ter como entrada duas aproximações iniciais $p_0$ e $p_1$\n",
    "\n",
    "## Método da falsa posição\n",
    "O método da secante pode ser divergente. Para esses casos, seria vantagem utilizar o método da falsa posição que terá convergência garantida.\n",
    "\n",
    "Na verdade ele é o próprio método da secante com uma diferença:\n",
    "\n",
    "Ele inclui um teste para assegurar que a raiz esteja dentro do intervalo dos pontos $p_n$ e ${p}_{n+1}$ atualizados.\n",
    "\n",
    "Ele só vai atualizar os pontos $p_0$ e $q_0$, se a condição $q * q_1 < 0$ for satisfeita.\n",
    "Isso evita com que em algum momento o pn desaproxime da raiz.\n",
    "Esse teste adicional acaba gerando iterações adicionais no cáculo da raiz quando comparado com a execução do método da secante, considerando os mesmos parâmetros de entrada.\n",
    "\n",
    "\n",
    "![Comparação Métodos Secante x Falsa Posição](img/secante_falsa_posicao.png)\n",
    "Fonte: CHAPRA(2008)\n",
    "\n",
    "A inferioridade do método da falsa posição perante o da secante resulta de uma extremidade permanecer fixa para continuar a delimitar a raiz. \n",
    "\n",
    "Segundo SOUZA(2010):\n",
    "A grande vantagem do Método da Falsa Posição é que ela é uma técnica robusta, que\n",
    "converge independentemente da forma do gráfico de f no intervalo [a, b].\n",
    "\n",
    "Entretanto, quando a convergência para a raiz só se faz a partir de um extremo do\n",
    "intervalo [a, b] e a imagem desse ponto fixo tem um valor muito elevado, a convergência é\n",
    "lenta. \n",
    "Podemos ver melhor a convergência do método da falsa posição na imagem abaixo:\n",
    "\n",
    "![Convergência Método Falsa Posição](img/convergencia_falsa_posicao.png)\n",
    "Fonte: CHAPRA(2013)\n",
    "\n",
    "\n",
    "\n",
    "Vantagens:\n",
    "* Estabilidade e convergência para a solução procurada; \n",
    "* Cálculos mais simples que o método de Newton\n",
    "\n",
    "Desvantagens:\n",
    "* Lentidão do processo de convergência (requer o cálculo de f (x) em um elevado número de iterações); \n",
    "* Necessidade de conhecimento prévio da região na qual se encontra a raiz de interesse (o que nem sempre é possível). \n",
    "\n",
    "\n",
    "Referências:\n",
    "\n",
    "SOUZA, Marcone. Equações Algébricas e Transcendentes, 2010. 17 f. Notas de Aula.Disponível em http://www.decom.ufop.br/marcone/Disciplinas/CalculoNumerico/Equacoes.pdf\n",
    "\n",
    "CHAPRA, Steven C.; CANALE, Raymond P. Métodos numéricos para engenharia. McGraw-Hill, 2008.\n",
    "\n",
    "CHAPRA, Steven C. Métodos Numéricos Aplicados com MATLAB® para Engenheiros e Cientistas-3. AMGH Editora, 2013.\n"
   ]
  },
  {
   "cell_type": "markdown",
   "metadata": {},
   "source": []
  },
  {
   "cell_type": "code",
   "execution_count": null,
   "metadata": {},
   "outputs": [],
   "source": []
  }
 ],
 "metadata": {
  "kernelspec": {
   "display_name": "Python 3",
   "language": "python",
   "name": "python3"
  },
  "language_info": {
   "codemirror_mode": {
    "name": "ipython",
    "version": 3
   },
   "file_extension": ".py",
   "mimetype": "text/x-python",
   "name": "python",
   "nbconvert_exporter": "python",
   "pygments_lexer": "ipython3",
   "version": "3.6.4"
  }
 },
 "nbformat": 4,
 "nbformat_minor": 2
}
