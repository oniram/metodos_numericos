{
 "cells": [
  {
   "cell_type": "markdown",
   "metadata": {},
   "source": [
    "# Exercícios 2.3 #\n",
    "\n",
    "## Chamadas das funções do método de Newton, Secante e Falsa Posição ##\n",
    "\n",
    "Essas funções serão utilizadas para a resolução dos exercícios"
   ]
  },
  {
   "cell_type": "code",
   "execution_count": 5,
   "metadata": {},
   "outputs": [],
   "source": [
    "#Algorítmo para método de Newton\n",
    "import numpy as np\n",
    "import sympy as sp\n",
    "import matplotlib.pyplot as plt\n",
    "\n",
    "def flinha(a,x,fx): #Retorna o valor numérico da derivada da função digitada pelo usuário\n",
    "    flinha=fx.diff(x)\n",
    "    return (flinha.subs(x,a))\n",
    "\n",
    "def validar_input(mensagem): #Função para verificar se a entrada fornecida pelo usuário é um número, mesmo que seja negativo\n",
    "    while True:\n",
    "        try:\n",
    "            entrada = float(input(mensagem))\n",
    "        except ValueError:\n",
    "            print (\"O valor fornecido é inválido. Por favor, entre com um valor válido.\")\n",
    "        else:\n",
    "            return entrada\n",
    "            break\n",
    "\n",
    "            \n",
    "def metodo_Newton():\n",
    "    x = sp.symbols('x') #Define x como a variável da função f(x) a ser especificada pelo usuário \n",
    "    fx = sp.sympify(input(\"Digite a função f(x): \")) #Solicita que o usuário entre com a função f(X)\n",
    "\n",
    "    #Pergunta ao usuário se ele deseja ou não plotar o gráfico do método ao final, para facilitar a visualização\n",
    "    while True:\n",
    "        grafico = input('Deseja plotar o gráfico ao final? (s/n) ')\n",
    "    \n",
    "        if grafico not in ['s','n']:\n",
    "            print ('Opção inválida. Por favor, selecione s para sim ou n para não.')\n",
    "            continue\n",
    "        else:\n",
    "            break\n",
    "\n",
    "    #Pergunta ao usuário se ele deseja ou não visualizar a tabela contendo todas as iterações ao final\n",
    "    while True:\n",
    "        tabela = input('Deseja visualizar a tabela de iterações ao final? (s/n) ')\n",
    "    \n",
    "        if tabela not in ['s','n']:\n",
    "            print ('Opção inválida. Por favor, selecione s para sim ou n para não.')\n",
    "            continue\n",
    "        else:\n",
    "            break\n",
    "\n",
    "    N = abs(validar_input('Digite o número máximo de iterações que deseja: ')) #Solicita ao usuário o número de iterações máximo\n",
    "\n",
    "    #Solicita ao usuário um chute inicial para o valor da raiz, e inicia uma lista que guardará todos os valores estimados\n",
    "    chute = validar_input('Digite o valor do chute inicial para a raiz: ')\n",
    "    p = [chute]\n",
    "\n",
    "\n",
    "    TOL = abs(validar_input('Digite a tolerância desejada: ')) #Solicita do usuário a tolerância desejada\n",
    "\n",
    "\n",
    "    # Solicita que o usuário selecione o critério de parada entre as opções fornecida, e valida a escolha.\n",
    "    while True:\n",
    "        try:\n",
    "            parada = abs(int(input('Selecione o critério de parada: 1 - |p-p0|;  2 - |p-p0|/|p|;  3 - f(p): '))) #Seleção do critério de parada\n",
    "        except ValueError:\n",
    "            print('Critério inválido!')\n",
    "            continue\n",
    "        if parada > 3:\n",
    "            print('Critério inválido!')\n",
    "            continue\n",
    "        else:\n",
    "            break\n",
    "\n",
    "\n",
    "    i = 0 #Inicia o contador de iterações para o método de Newton\n",
    "\n",
    "    if parada == 1:\n",
    "        if tabela == 's':\n",
    "            print('\\nIteração \\t pn \\t\\t\\t |p_n-p_(n-1)|')\n",
    "        while i < N:\n",
    "            z = flinha(p[i],x,fx)\n",
    "            if z==0: #Verifica se a derivada da função no ponto analisado é igual a zero\n",
    "                print ('O método de Newton-Raphson falhou: A derivada da função na', '\\033[1m' + str(i) + 'ª' + '\\033[0m' , ' iteração é igual a zero') #Mostra mensagem de erro\n",
    "\n",
    "            s=p[i] - fx.subs(x,p[i])/(flinha(p[i],x,fx))  #Aplica a formula de Newton-Raphson\n",
    "            p.append(s)\n",
    "            dif = abs(p[i+1]-p[i]) #Calcula o valor da diferença entre p_n e p_n-1\n",
    "        \n",
    "            if tabela == 's':\n",
    "                print(i, '\\t\\t', \"{:.10f}\".format(p[i]), '\\t\\t', '{:.10f}'.format(dif))\n",
    "            \n",
    "            if dif < TOL: #Termina o método caso a tolerância seja atingida\n",
    "                break\n",
    "            else:\n",
    "                i=i+1\n",
    "                 \n",
    "    elif parada == 2:\n",
    "        if tabela == 's':\n",
    "            print('\\nIteração \\t pn \\t\\t\\t |p_n - p_(n-1)|/|p_n|')\n",
    "        while i < N:\n",
    "            z = flinha(p[i],x,fx)\n",
    "            if z==0: #Verifica se a derivada da função no ponto analisado é igual a zero\n",
    "                print ('O método de Newton-Raphson falhou: A derivada da função na', '\\033[1m' + str(i) + 'ª' + '\\033[0m' , ' iteração é igual a zero') #Mostra mensagem de erro\n",
    "\n",
    "            s=p[i] - fx.subs(x,p[i])/(flinha(p[i],x,fx))  #Aplica a formula de Newton-Raphson\n",
    "            p.append(s)\n",
    "            dif = abs(p[i+1]-p[i])/abs(p[i+1]) #Calcula a diferença relativa entre o valor de p_n e p_n-1\n",
    "        \n",
    "            if tabela == 's': #Imprime mais uma linha da tabela\n",
    "                print(i, '\\t\\t', \"{:.10f}\".format(p[i]), '\\t\\t', '{:.10f}'.format(dif))\n",
    "        \n",
    "            if dif < TOL: #Termina o método caso a tolerância seja atingida\n",
    "                break\n",
    "            else:\n",
    "                i=i+1\n",
    "\n",
    "    elif parada == 3:\n",
    "        if tabela == 's':\n",
    "            print('\\nIteração \\t pn \\t\\t\\t f(p_n)')\n",
    "        while i < N:\n",
    "            z = flinha(p[i],x,fx)\n",
    "            if z==0: #Verifica se a derivada da função no ponto analisado é igual a zero\n",
    "                print ('O método de Newton-Raphson falhou: A derivada da função na', '\\033[1m' + str(i) + 'ª' + '\\033[0m' , ' iteração é igual a zero') #Mostra mensagem de erro\n",
    "                break\n",
    "\n",
    "            s=p[i] - fx.subs(x,p[i])/(flinha(p[i],x,fx))  #Aplica a formula de Newton-Raphson\n",
    "            p.append(s)\n",
    "            dif = abs(fx.subs(x,p[i+1])) #Calcula o valor de f(p_n)\n",
    "        \n",
    "            if tabela == 's': #Imprime mais uma linha da tabela\n",
    "                print(i, '\\t\\t', \"{:.10f}\".format(p[i]), '\\t\\t', '{:.10f}'.format(dif))\n",
    "            \n",
    "            if dif < TOL: #Termina o método caso a tolerância seja atingida\n",
    "                break\n",
    "            else:\n",
    "                i=i+1\n",
    "\n",
    "    if i==N:\n",
    "        print('\\nO método de Newton-Raphson foi encerrado pois atingiu o número máximo de iterações, sem atender ao critério estabelecido.')\n",
    "        print('\\t • O valor estimado para a raiz até esse ponto é: ', '\\033[1m' + str(p[i]) + '\\033[0m' )\n",
    "        print('\\t • O valor do erro estimado é: ', '\\033[1m' + str(dif) +'\\033[0m' )\n",
    "    \n",
    "    else:\n",
    "        print('\\nO método de Newton-Raphson encontrou uma aproximação da raiz após', '\\033[1m' + str(i) + '\\033[0m', 'iterações!')\n",
    "        print('\\t • O valor estimado para a raiz é: ','\\033[1m' + str(p[i]) +'\\033[0m')\n",
    "        print('\\t • O valor do erro estimado é: ', '\\033[1m' + str(dif) + '\\033[0m')\n",
    "    \n",
    "    if grafico == 's': #Plot ao gráfico ao final, se o usuário assim decidiu\n",
    "        dominio = np.arange(min(p)-1,max(p)+1,0.2) #Cria uma lista com valores entre o menor valor de p -1 e o maior valor de p +1\n",
    "        imagem = [] #Cria uma lista vazia que abrigará o conjunto de pontos f(dominio)\n",
    "        pontos = [] #Cria uma lista vazia que abrigará o conjunto de pontos f(p)\n",
    "    \n",
    "        for t in p: #Calcula os pontos f(p)\n",
    "            pontos.append(fx.subs(x,t))\n",
    "\n",
    "        for u in dominio: #Calcula os pontos f(domínio)\n",
    "            imagem.append(fx.subs(x,u))\n",
    "            \n",
    "        plt.plot(p,pontos,'ro')\n",
    "        plt.plot(dominio,imagem,linewidth=2)\n",
    "        plt.show()\n",
    "    #return p[i]"
   ]
  },
  {
   "cell_type": "code",
   "execution_count": 1,
   "metadata": {},
   "outputs": [],
   "source": [
    "#Função Método da Secante para encontrar raízes de uma equação do tipo f(x)=0\n",
    "\n",
    "from numpy import *\n",
    "\n",
    "def metodo_Secante(f, p0, p1, tipo_tol, tol, N0):\n",
    "    # Parâmetros: \n",
    "    # f: função do tipo f(x)=0 a qual se deseja encontrar a raiz\n",
    "    # p0 e p1: aproximações iniciais para a raiz\n",
    "    # tipo_tol: tipo de tolerância: 1: |p[n] - p[n-1]|; 2: |p[n] - p[n-1]|/|p[n]|; 3: |f(p[n])| ~= 0\n",
    "    # tol: valor da tolerância | N0: número máximo de iterações\n",
    "    \n",
    "    # variáveis extras para o cálculo\n",
    "    val_tol=0.0\n",
    "    p = 0.0\n",
    "    q = 0.0\n",
    "    q0 = f(p0) \n",
    "    q1 = f(p1)\n",
    "\n",
    "    print (\"Método da Secante, com p0 =\", p0, \"e p1 =\", p1, \" tolerância de\", tol, \"\\nn\\t pn\\t         f(pn)\")\n",
    "    print (0, '\\t', \"{:.10f}\".format(p0), '\\t', \"{:.10f}\".format(q0))\n",
    "    print (1, '\\t', \"{:.10f}\".format(p1), '\\t', \"{:.10f}\".format(q1))\n",
    "\n",
    "    # aplica o método da Secante\n",
    "    for n in range (2, N0+1):\n",
    "        p = p1 - (q1*(p1-p0))/(q1-q0) # aplica a aproximação do método da Secante\n",
    "        q = f(p) # guarda o valor de f(p)\n",
    "        # calcula as condições de parada\n",
    "        if (tipo_tol == 2 and p != 0.0): # a condição de parada será |p[n] - p[n-1]|/|p[n]|\n",
    "            val_tol = abs((p-p1)/p)\n",
    "        elif (tipo_tol == 3):\n",
    "            val_tol = abs(q) # a condição de parada será |f(p[n])| -= 0\n",
    "        else: #se não foi escolhida a condição 2 ou 3, assume a condição 1\n",
    "            val_tol = abs(p-p1) # a condição de parada será |p[n] - p[n-1]|\n",
    "        # imprime os resultados da iteração n\n",
    "        print (n, '\\t', \"{:.10f}\".format(p), '\\t', \"{:.10f}\".format(q))\n",
    "        # testa as condições de parada\n",
    "        if (val_tol <= tol):\n",
    "            print (\"A raiz da função, dentro dos parâmetros de tolerância, é\", p)\n",
    "            break\n",
    "        # atualiza os valores\n",
    "        q0 = q1\n",
    "        p0 = p1\n",
    "        q1 = q\n",
    "        p1 = p\n",
    "    print (\"O método da Secante foi encerrado após\", n, \"iterações.\")\n",
    "    # return p"
   ]
  },
  {
   "cell_type": "code",
   "execution_count": 4,
   "metadata": {},
   "outputs": [],
   "source": [
    "#Função Método da Falsa Posição para encontrar raízes de uma equação do tipo f(x)=0\n",
    "\n",
    "from numpy import *\n",
    "\n",
    "def falsa_posicao(f, p0, p1, tipo_tol, tol, N0):\n",
    "    # Parâmetros: \n",
    "    # f: função do tipo f(x)=0 a qual se deseja encontrar a raiz\n",
    "    # p0 e p1: aproximações iniciais para a raiz\n",
    "    # tipo_tol: tipo de tolerância: 1: |p[n] - p[n-1]|; 2: |p[n] - p[n-1]|/|p[n]|; 3: |f(p[n])| ~= 0\n",
    "    # tol: valor da tolerância | N0: número máximo de iterações\n",
    "    \n",
    "    # variáveis extras para o cálculo\n",
    "    val_tol=0.0\n",
    "    p = 0.0\n",
    "    q = 0.0\n",
    "    q0 = f(p0) \n",
    "    q1 = f(p1)\n",
    "\n",
    "    print (\"Raiz de f(x) = 0, pelo método da Falsa Posição \\nn\\t pn\\t         f(pn)\")\n",
    "    print (0, '\\t', \"{:.10f}\".format(p0), '\\t', \"{:.10f}\".format(q0))\n",
    "    print (1, '\\t', \"{:.10f}\".format(p1), '\\t', \"{:.10f}\".format(q1))\n",
    "\n",
    "    # Essa parte é igual o metodo da secante\n",
    "    for n in range (2, N0+1):\n",
    "        p = p1 - (q1*(p1-p0))/(q1-q0) # aplica a aproximação do método da Secante\n",
    "        q = f(p) # guarda o valor de f(p)\n",
    "        # calcula as condições de parada\n",
    "        if (tipo_tol == 2 and p != 0.0): # a condição de parada será |p[n] - p[n-1]|/|p[n]|\n",
    "            val_tol = abs((p-p1)/p)\n",
    "        elif (tipo_tol == 3):\n",
    "            val_tol = abs(q) # a condição de parada será |f(p[n])| -= 0\n",
    "        else: #se não foi escolhida a condição 2 ou 3, assume a condição 1\n",
    "            val_tol = abs(p-p1) # a condição de parada será |p[n] - p[n-1]|\n",
    "        # imprime os resultados da iteração n\n",
    "        print (n, '\\t', \"{:.10f}\".format(p), '\\t', \"{:.10f}\".format(q))\n",
    "        # testa as condições de parada\n",
    "        if (val_tol <= tol):\n",
    "            print (\"A raiz da função, dentro dos parâmetros de tolerância, é\", p)\n",
    "            break\n",
    "        \n",
    "        #a partir daqui difere do metodo da secante\n",
    "        q = f(p)\n",
    "        if(q * q1 < 0):\n",
    "            p0 = p1\n",
    "            q0 = q1\n",
    "        p1 = p\n",
    "        q1 = q\n",
    "    print (\"O método da Falsa Posição foi encerrado após\", n, \"iterações.\")\n",
    "    # return p"
   ]
  },
  {
   "cell_type": "markdown",
   "metadata": {},
   "source": [
    "# Exercícios 2.3 #"
   ]
  },
  {
   "cell_type": "markdown",
   "metadata": {},
   "source": [
    "## (1) ##\n",
    "\n",
    "Seja $f(x) = x^2 -6$ e $p_0 = 1$ . Utilize o método de Newton para determinar $p_2$"
   ]
  },
  {
   "cell_type": "code",
   "execution_count": 49,
   "metadata": {},
   "outputs": [
    {
     "name": "stdout",
     "output_type": "stream",
     "text": [
      "Digite a função f(x): x^2 -6\n",
      "Deseja plotar o gráfico ao final? (s/n) s\n",
      "Deseja visualizar a tabela de iterações ao final? (s/n) s\n",
      "Digite o número máximo de iterações que deseja: 5\n",
      "Digite o valor do chute inicial para a raiz: 1\n",
      "Digite a tolerância desejada: 0.000001\n",
      "Selecione o critério de parada: 1 - |p-p0|;  2 - |p-p0|/|p|;  3 - f(p): 1\n",
      "\n",
      "Iteração \t pn \t\t\t |p_n-p_(n-1)|\n",
      "0 \t\t 1.0000000000 \t\t 2.5000000000\n",
      "1 \t\t 3.5000000000 \t\t 0.8928571429\n",
      "2 \t\t 2.6071428571 \t\t 0.1528864971\n",
      "3 \t\t 2.4542563601 \t\t 0.0047619885\n",
      "4 \t\t 2.4494943716 \t\t 0.0000046288\n",
      "\n",
      "O método de Newton-Raphson foi encerrado pois atingiu o número máximo de iterações, sem atender ao critério estabelecido.\n",
      "\t • O valor estimado para a raiz até esse ponto é:  \u001b[1m2.44948974278755\u001b[0m\n",
      "\t • O valor do erro estimado é:  \u001b[1m4.62881941354354e-6\u001b[0m\n"
     ]
    },
    {
     "data": {
      "image/png": "[encoded data removed]",
      "text/plain": [
       "<matplotlib.figure.Figure at 0x7f1e644b6358>"
      ]
     },
     "metadata": {},
     "output_type": "display_data"
    }
   ],
   "source": [
    "metodo_Newton()"
   ]
  },
  {
   "cell_type": "markdown",
   "metadata": {},
   "source": [
    "## (3) ##\n",
    "\n",
    "Seja $f(x) = x^{2} - 6$. Com ${p}_{0} = 3$ e ${p}_{1} = 2$, determine ${p}_{3}$.\n",
    "\n",
    "**a.** Utilize o método da Secante.\n",
    "\n",
    "**b.** Utilize o método da Falsa Posição.\n",
    "\n",
    "**c.** Qual é o resultado mais próximo de $\\sqrt{6}$, (a) ou (b)?"
   ]
  },
  {
   "cell_type": "code",
   "execution_count": 12,
   "metadata": {
    "scrolled": true
   },
   "outputs": [
    {
     "name": "stdout",
     "output_type": "stream",
     "text": [
      "3.a)\n",
      "Método da Secante, com p0 = 3.0 e p1 = 2.0  tolerância de 0.0 \n",
      "n\t pn\t         f(pn)\n",
      "0 \t 3.0000000000 \t 3.0000000000\n",
      "1 \t 2.0000000000 \t -2.0000000000\n",
      "2 \t 2.4000000000 \t -0.2400000000\n",
      "3 \t 2.4545454545 \t 0.0247933884\n",
      "O método da Secante foi encerrado após 3 iterações.\n"
     ]
    },
    {
     "data": {
      "text/plain": [
       "2.4545454545454546"
      ]
     },
     "execution_count": 12,
     "metadata": {},
     "output_type": "execute_result"
    }
   ],
   "source": [
    "print(\"3.a)\"); metodo_Secante(lambda x:(x**2 - 6), 3.0, 2.0, 1, 0.0, 3)"
   ]
  },
  {
   "cell_type": "code",
   "execution_count": 13,
   "metadata": {},
   "outputs": [
    {
     "name": "stdout",
     "output_type": "stream",
     "text": [
      "3.b)\n",
      "Raiz de f(x) = 0, pelo método da Falsa Posição \n",
      "n\t pn\t         f(pn)\n",
      "0 \t 3.0000000000 \t 3.0000000000\n",
      "1 \t 2.0000000000 \t -2.0000000000\n",
      "2 \t 2.4000000000 \t -0.2400000000\n",
      "3 \t 2.4444444444 \t -0.0246913580\n",
      "O método da Falsa Posição foi encerrado após 3 iterações.\n"
     ]
    },
    {
     "data": {
      "text/plain": [
       "2.444444444444444"
      ]
     },
     "execution_count": 13,
     "metadata": {},
     "output_type": "execute_result"
    }
   ],
   "source": [
    "print(\"3.b)\"); falsa_posicao(lambda x:(x**2 - 6), 3.0, 2.0, 1, 0.0, 3)"
   ]
  },
  {
   "cell_type": "markdown",
   "metadata": {},
   "source": [
    "3.c)\n",
    "\n",
    "A tabela abaixo demonstra o resultado:\n",
    "\n",
    "|     Método    |            Valor              | Módulo do Erro |\n",
    "|:-------------:|:-----------------------------:|:--------------:|\n",
    "|   Raiz Real   | $\\sqrt{6} = 2.44948974278$    |       0        |\n",
    "|    Secante    |  ${p}_{3} = 2.45454545455$    | 0.00505571176  |\n",
    "| Falsa Posição |  ${p}_{3} = 2.44444444444$    | 0.00504529834  |\n",
    "\n",
    "O método da Secante e Falsa Posição diferem no resultado em ${p}_{3}$, pois o método da Falsa Posição escolhe um intervalo onde a raiz se encontra, o que se mostrou um pouco mais vantajoso, já que reduziu o erro em relação a raiz real $p^{*} = \\sqrt{6}$"
   ]
  },
  {
   "cell_type": "markdown",
   "metadata": {},
   "source": [
    "## 7) - Repita o Exercicio 5, utilizando o método da Secante."
   ]
  },
  {
   "cell_type": "markdown",
   "metadata": {},
   "source": [
    "---\n",
    "\n",
    "#### Resolução - Letra A\n",
    "\n",
    "$x^{3}-2x^{2}-5=0 $   $,   [1,4]$"
   ]
  },
  {
   "cell_type": "code",
   "execution_count": null,
   "metadata": {},
   "outputs": [],
   "source": [
    "metodo_Secante(lambda x: ((x**3)-2*(x**2)-5), 1, 4, 1, 10**(-4), 20)"
   ]
  },
  {
   "cell_type": "markdown",
   "metadata": {},
   "source": [
    "-----\n",
    "\n",
    "#### Resolução - Letra B\n",
    "\n",
    "$x^{3}-3x^{2}-1=0 $   $,   [-3,-2]$"
   ]
  },
  {
   "cell_type": "code",
   "execution_count": null,
   "metadata": {},
   "outputs": [],
   "source": [
    "metodo_Secante(lambda x:((x**3)-3*(x**2)-1), -3, -2, 1, 10**(-4), 100)"
   ]
  },
  {
   "cell_type": "markdown",
   "metadata": {},
   "source": [
    "---\n",
    "### Resolução - Letra C\n",
    "\n",
    "$x-co(x)=0 $   $,   [0,\\frac{\\pi}{2}]$"
   ]
  },
  {
   "cell_type": "code",
   "execution_count": null,
   "metadata": {},
   "outputs": [],
   "source": [
    "metodo_Secante(lambda x:(x-cos(x)), 0, pi/2, 1, 10**(-4), 100) "
   ]
  },
  {
   "cell_type": "markdown",
   "metadata": {},
   "source": [
    "---\n",
    "### Resolução - Letra D\n",
    "\n",
    "$x-0.8-0.2sen(x)=0 $   $,   [0,\\frac{\\pi}{2}]$"
   ]
  },
  {
   "cell_type": "code",
   "execution_count": null,
   "metadata": {},
   "outputs": [],
   "source": [
    "metodo_Secante(lambda x:(x-0.8-0.2*sin(x)), 0, pi/2, 1, 10**(-4), 100)"
   ]
  },
  {
   "cell_type": "markdown",
   "metadata": {},
   "source": [
    "## (9) ##\n",
    "\n",
    "Repita o exercício 5, utilizando método da falsa posição"
   ]
  },
  {
   "cell_type": "markdown",
   "metadata": {},
   "source": [
    "**a)** - $x^3 - 2*x^2 - 5 = 0, [1,4]$"
   ]
  },
  {
   "cell_type": "code",
   "execution_count": 7,
   "metadata": {},
   "outputs": [
    {
     "name": "stdout",
     "output_type": "stream",
     "text": [
      "Raiz de f(x) = 0, pelo método da Falsa Posição \n",
      "n\t pn\t         f(pn)\n",
      "0 \t 1.0000000000 \t -6.0000000000\n",
      "1 \t 4.0000000000 \t 27.0000000000\n",
      "2 \t 1.5454545455 \t -6.0856498873\n",
      "3 \t 1.9969343961 \t -5.0122248528\n",
      "4 \t 2.3105588082 \t -3.3420252785\n",
      "5 \t 2.4966424700 \t -1.9043164236\n",
      "6 \t 2.5956888682 \t -0.9864862639\n",
      "7 \t 2.6451889601 \t -0.4855969518\n",
      "8 \t 2.6691248460 \t -0.2330024091\n",
      "9 \t 2.6805116594 \t -0.1104265800\n",
      "10 \t 2.6858862183 \t -0.0520272619\n",
      "11 \t 2.6884135609 \t -0.0244445378\n",
      "12 \t 2.6895999359 \t -0.0114700503\n",
      "13 \t 2.6901563793 \t -0.0053787639\n",
      "14 \t 2.6904172658 \t -0.0025215914\n",
      "15 \t 2.6905395593 \t -0.0011819752\n",
      "16 \t 2.6905968809 \t -0.0005540062\n",
      "A raiz da função, dentro dos parâmetros de tolerância, é 2.690596880893969\n",
      "O método da Falsa Posição foi encerrado após 16 iterações.\n"
     ]
    },
    {
     "data": {
      "text/plain": [
       "2.690596880893969"
      ]
     },
     "execution_count": 7,
     "metadata": {},
     "output_type": "execute_result"
    }
   ],
   "source": [
    "## 9.A - Solução:\n",
    "## O valor da raiz bate com a solução do livro, mas o número de iterações difere(no livro retorna com p11)\n",
    "falsa_posicao(lambda x:(math.pow(x,3) - 2*math.pow(x,2) - 5), 1, 4, 1, math.pow(10,-4), 20)"
   ]
  },
  {
   "cell_type": "markdown",
   "metadata": {},
   "source": [
    "**b)** - $ x^3 + 3*x^2 -1 = 0$, [-3,-2]"
   ]
  },
  {
   "cell_type": "code",
   "execution_count": 8,
   "metadata": {},
   "outputs": [
    {
     "name": "stdout",
     "output_type": "stream",
     "text": [
      "Raiz de f(x) = 0, pelo método da Falsa Posição \n",
      "n\t pn\t         f(pn)\n",
      "0 \t -3.0000000000 \t -1.0000000000\n",
      "1 \t -2.0000000000 \t 3.0000000000\n",
      "2 \t -2.7500000000 \t 0.8906250000\n",
      "3 \t -2.8677685950 \t 0.0874838631\n",
      "4 \t -2.8784060992 \t 0.0074324220\n",
      "5 \t -2.8793031690 \t 0.0006234072\n",
      "6 \t -2.8793783654 \t 0.0000522330\n",
      "A raiz da função, dentro dos parâmetros de tolerância, é -2.8793783653904685\n",
      "O método da Falsa Posição foi encerrado após 6 iterações.\n"
     ]
    },
    {
     "data": {
      "text/plain": [
       "-2.8793783653904685"
      ]
     },
     "execution_count": 8,
     "metadata": {},
     "output_type": "execute_result"
    }
   ],
   "source": [
    "## 9.B - Solução:\n",
    "## O valor da raiz bate com a solução do livro, mas o número de iterações difere(no livro retorna com p7)\n",
    "falsa_posicao(lambda x:(math.pow(x,3) + 3*math.pow(x,2)-1), -3, -2, 1, math.pow(10,-4), 20)"
   ]
  },
  {
   "cell_type": "markdown",
   "metadata": {},
   "source": [
    "**c)**  $ x - cos(x)  = 0$, [0,$\\pi$/2]"
   ]
  },
  {
   "cell_type": "code",
   "execution_count": 9,
   "metadata": {},
   "outputs": [
    {
     "name": "stdout",
     "output_type": "stream",
     "text": [
      "Raiz de f(x) = 0, pelo método da Falsa Posição \n",
      "n\t pn\t         f(pn)\n",
      "0 \t 0.0000000000 \t -1.0000000000\n",
      "1 \t 1.5707963268 \t 1.5707963268\n",
      "2 \t 0.6110154704 \t -0.2080503951\n",
      "3 \t 0.7232695414 \t -0.0263762877\n",
      "4 \t 0.7372659061 \t -0.0030434567\n",
      "5 \t 0.7388777688 \t -0.0003470316\n",
      "6 \t 0.7390615217 \t -0.0000395164\n",
      "7 \t 0.7390824450 \t -0.0000044990\n",
      "A raiz da função, dentro dos parâmetros de tolerância, é 0.7390824450103588\n",
      "O método da Falsa Posição foi encerrado após 7 iterações.\n"
     ]
    },
    {
     "data": {
      "text/plain": [
       "0.7390824450103588"
      ]
     },
     "execution_count": 9,
     "metadata": {},
     "output_type": "execute_result"
    }
   ],
   "source": [
    "## 9.C - Solução:\n",
    "## O valor da raiz bate com a solução do livro, mas o número de iterações difere(no livro retorna com p6)\n",
    "falsa_posicao(lambda x:(x-cos(x)), 0, math.pi/2, 1, math.pow(10,-4), 20)"
   ]
  },
  {
   "cell_type": "markdown",
   "metadata": {},
   "source": [
    "**d)**  $ x - 0.8 - 0.2 * sin(x)  = 0 $, [0,$\\pi$/2]"
   ]
  },
  {
   "cell_type": "code",
   "execution_count": 10,
   "metadata": {},
   "outputs": [
    {
     "name": "stdout",
     "output_type": "stream",
     "text": [
      "Raiz de f(x) = 0, pelo método da Falsa Posição \n",
      "n\t pn\t         f(pn)\n",
      "0 \t 0.0000000000 \t -0.8000000000\n",
      "1 \t 1.5707963268 \t 0.5707963268\n",
      "2 \t 0.9167204762 \t -0.0420016325\n",
      "3 \t 0.9615513264 \t -0.0024647334\n",
      "4 \t 0.9641707726 \t -0.0001445190\n",
      "5 \t 0.9643243242 \t -0.0000084733\n",
      "6 \t 0.9643333270 \t -0.0000004968\n",
      "A raiz da função, dentro dos parâmetros de tolerância, é 0.9643333269804453\n",
      "O método da Falsa Posição foi encerrado após 6 iterações.\n"
     ]
    },
    {
     "data": {
      "text/plain": [
       "0.9643333269804453"
      ]
     },
     "execution_count": 10,
     "metadata": {},
     "output_type": "execute_result"
    }
   ],
   "source": [
    "## 9.D - Solução:\n",
    "## O valor da raiz bate com a solução do livro, mas o número de iterações difere(no livro retorna com p5)\n",
    "falsa_posicao(lambda x:(x- 0.8 -0.2*sin(x)), 0, math.pi/2, 1, math.pow(10,-4), 20)"
   ]
  },
  {
   "cell_type": "markdown",
   "metadata": {},
   "source": [
    "## (11) ##\n",
    "\n",
    "Utilize todos os três métodos desta seção para encontrar soluções com precisõ de $10^{-5}$ para os problemas a seguir.\n",
    "\n",
    "**a) $3x-e^x=0$** para $1\\leqslant x \\leqslant 2$\n",
    "\n",
    "**b) $x+3\\cos x -e^x =0$** para $0 \\leqslant x \\leqslant 1$."
   ]
  },
  {
   "cell_type": "code",
   "execution_count": 17,
   "metadata": {},
   "outputs": [
    {
     "name": "stdout",
     "output_type": "stream",
     "text": [
      "Digite a função f(x): 3*x-2.718281828459045**x\n",
      "Deseja plotar o gráfico ao final? (s/n) n\n",
      "Deseja visualizar a tabela de iterações ao final? (s/n) n\n",
      "Digite o número máximo de iterações que deseja: 20\n",
      "Digite o valor do chute inicial para a raiz: 1\n",
      "Digite a tolerância desejada: 0.00001\n",
      "Selecione o critério de parada: 1 - |p-p0|;  2 - |p-p0|/|p|;  3 - f(p): 3\n",
      "\n",
      "O método de Newton-Raphson encontrou uma aproximação da raiz após \u001b[1m4\u001b[0m iterações!\n",
      "\t • O valor estimado para a raiz é:  \u001b[1m0.6189967797415396\u001b[0m\n",
      "\t • O valor do erro estimado é:  \u001b[1m3.863441289109204e-9\u001b[0m\n",
      "\n",
      "Método da Secante, com p0 = 1 e p1 = 2  tolerância de 1e-05 \n",
      "n\t pn\t         f(pn)\n",
      "0 \t 1.0000000000 \t 0.2817181715\n",
      "1 \t 2.0000000000 \t -1.3890560989\n",
      "2 \t 1.1686153399 \t 0.2883116585\n",
      "3 \t 1.3115165547 \t 0.2227510726\n",
      "4 \t 1.7970430096 \t -0.6406561086\n",
      "5 \t 1.4367778925 \t 0.1032155100\n",
      "6 \t 1.4867662869 \t 0.0375284615\n",
      "7 \t 1.5153257605 \t -0.0049261085\n",
      "8 \t 1.5120119343 \t 0.0001883556\n",
      "9 \t 1.5121339760 \t 0.0000008844\n",
      "A raiz da função, dentro dos parâmetros de tolerância, é 1.5121339760022816\n",
      "O método da Secante foi encerrado após 9 iterações.\n",
      "\n",
      "Raiz de f(x) = 0, pelo método da Falsa Posição \n",
      "n\t pn\t         f(pn)\n",
      "0 \t 1.0000000000 \t 0.2817181715\n",
      "1 \t 2.0000000000 \t -1.3890560989\n",
      "2 \t 1.1686153399 \t 0.2883116585\n",
      "3 \t 1.3115165547 \t 0.2227510726\n",
      "4 \t 1.4066646770 \t 0.1376772040\n",
      "5 \t 1.4601702553 \t 0.0738180627\n",
      "6 \t 1.4874105929 \t 0.0366108438\n",
      "7 \t 1.5005737870 \t 0.0174600179\n",
      "8 \t 1.5067734960 \t 0.0081716717\n",
      "9 \t 1.5096581259 \t 0.0037908909\n",
      "10 \t 1.5109926821 \t 0.0017514163\n",
      "11 \t 1.5116084793 \t 0.0008076319\n",
      "12 \t 1.5118922773 \t 0.0003720981\n",
      "13 \t 1.5120229958 \t 0.0001713666\n",
      "14 \t 1.5120831897 \t 0.0000789068\n",
      "15 \t 1.5121109047 \t 0.0000363300\n",
      "16 \t 1.5121236648 \t 0.0000167263\n",
      "17 \t 1.5121295395 \t 0.0000077006\n",
      "A raiz da função, dentro dos parâmetros de tolerância, é 1.512129539518174\n",
      "O método da Falsa Posição foi encerrado após 17 iterações.\n"
     ]
    }
   ],
   "source": [
    "# Solução da 11.A pelo método de Newton\n",
    "metodo_Newton()\n",
    "print('')\n",
    "# Solução da 11.A pelo método da Secante\n",
    "metodo_Secante( lambda x:(3*x-np.exp(x)), 1, 2, 3, math.pow(10,-5), 20)\n",
    "print('')\n",
    "# Solução da 11.A pelo método da Falsa posição\n",
    "falsa_posicao( lambda x:(3*x-np.exp(x)), 1, 2, 3, math.pow(10,-5), 20)"
   ]
  },
  {
   "cell_type": "code",
   "execution_count": 19,
   "metadata": {},
   "outputs": [
    {
     "name": "stdout",
     "output_type": "stream",
     "text": [
      "Digite a função f(x): x+3*cos(x)-2.718281828459045**x\n",
      "Deseja plotar o gráfico ao final? (s/n) n\n",
      "Deseja visualizar a tabela de iterações ao final? (s/n) n\n",
      "Digite o número máximo de iterações que deseja: 50\n",
      "Digite o valor do chute inicial para a raiz: 0\n",
      "Digite a tolerância desejada: 0.00001\n",
      "Selecione o critério de parada: 1 - |p-p0|;  2 - |p-p0|/|p|;  3 - f(p): 3\n",
      "\n",
      "O método de Newton-Raphson foi encerrado pois atingiu o número máximo de iterações, sem atender ao critério estabelecido.\n",
      "\t • O valor estimado para a raiz até esse ponto é:  \u001b[1m4.032926482100511e+17\u001b[0m\n",
      "\t • O valor do erro estimado é:  \u001b[1m1.578587598043891e+175147771709774542\u001b[0m\n",
      "\n",
      "Método da Secante, com p0 = 0 e p1 = 1  tolerância de 1e-05 \n",
      "n\t pn\t         f(pn)\n",
      "0 \t 0.0000000000 \t 2.0000000000\n",
      "1 \t 1.0000000000 \t -0.0973749109\n",
      "2 \t 0.9535729591 \t 0.0949273881\n",
      "3 \t 0.9764910300 \t 0.0011678063\n",
      "4 \t 0.9767764821 \t -0.0000143521\n",
      "5 \t 0.9767730165 \t 0.0000000021\n",
      "A raiz da função, dentro dos parâmetros de tolerância, é 0.9767730165380571\n",
      "O método da Secante foi encerrado após 5 iterações.\n",
      "\n",
      "Raiz de f(x) = 0, pelo método da Falsa Posição \n",
      "n\t pn\t         f(pn)\n",
      "0 \t 0.0000000000 \t 2.0000000000\n",
      "1 \t 1.0000000000 \t -0.0973749109\n",
      "2 \t 0.9535729591 \t 0.0949273881\n",
      "3 \t 0.9764910300 \t 0.0011678063\n",
      "4 \t 0.9767696292 \t 0.0000140322\n",
      "5 \t 0.9767729764 \t 0.0000001686\n",
      "A raiz da função, dentro dos parâmetros de tolerância, é 0.9767729763532903\n",
      "O método da Falsa Posição foi encerrado após 5 iterações.\n"
     ]
    }
   ],
   "source": [
    "# Solução da 11.A pelo método de Newton\n",
    "metodo_Newton() #2.718281828459045\n",
    "print('')\n",
    "# Solução da 11.A pelo método da Secante\n",
    "metodo_Secante( lambda x:(x+3*np.cos(x)-np.exp(x)), 0, 1, 3, math.pow(10,-5), 20)\n",
    "print('')\n",
    "# Solução da 11.A pelo método da Falsa posição\n",
    "falsa_posicao( lambda x:(x+3*np.cos(x)-np.exp(x)), 0, 1, 3, math.pow(10,-5), 20)"
   ]
  },
  {
   "cell_type": "markdown",
   "metadata": {},
   "source": [
    "### Exercicio 13\n",
    "\n",
    "Utilize o método de Newton para encontrar uma aproximação com precisão $10^{-4}$ do valor de x que produza o ponto no gráfico de $y = x^{2}$ mais próximo a (0,1)\n",
    "\n",
    "[Sugestão: Minimize $[d(x)]^{2}$, onde $d(x)$ representa a distância de $(x, x^{2})$ a (0,1).] "
   ]
  },
  {
   "cell_type": "markdown",
   "metadata": {},
   "source": [
    "#### Resolução Exercicio 13\n",
    "\n",
    "Tomemos $dx$ a distância de $(x,x^{2}) a (0,1)$. Portanto pelo teorema de Pitágoras:\n",
    "\n",
    "$$dx = \\sqrt{(x-1)^{2} + (x^{2}-0)^{2}}$$\n",
    "\n",
    "ou seja,\n",
    "\n",
    "$$dx = \\sqrt{x^{4}+x^{2}-2x+1}$$\n",
    "\n",
    "Como devemos minimizar o $[d(x)]^{2}$, teremos:\n",
    "\n",
    "$$[d(x)]^{2} = x^{4}+x^{2}-2x+1$$\n",
    "\n",
    "Minimizando,\n",
    "\n",
    "$$[d(x)^{'}]^{2} = 4x^{3} + 2x - 2$$\n",
    "\n",
    "e,\n",
    "\n",
    "$$[d(x)^{''}]^{2} = 12x^{2} + 2$$\n",
    "\n",
    "Observer que somente $d(x)^{''}$ é estritamente positivo (não possue raiz), por outro lado $[d(x)^{'}]^{2} = 4x^{3} + 2x - 2$, poderemos avaliar para ela.\n",
    "\n",
    "Portanto devemos utilizar o metodo de Newton para determinar a Raiz e em seguida determinar o ponto do gráfico aonde $y=x^{2}$, logo:"
   ]
  },
  {
   "cell_type": "code",
   "execution_count": null,
   "metadata": {},
   "outputs": [],
   "source": [
    "metodo_Newton()"
   ]
  },
  {
   "cell_type": "markdown",
   "metadata": {},
   "source": [
    "Como temos o x=0.58975, teremos que $f(x)=(0.58975)^2=0.347805$, e o ponto será $(0.58975, 0.347805)$."
   ]
  },
  {
   "cell_type": "markdown",
   "metadata": {},
   "source": [
    "## (15) ##\n",
    "\n",
    "O seguinte enunciado descreve o método de Newton de forma gráfica: suponha que $f'(x)$ exista em $[a, b]$ e que $f'(x) \\neq 0$ em $[a, b]$. Suponha também que exista um $p \\in [a, b]$, tal que $f(p) = 0$, e seja ${p}_{0} \\in [a, b]$ arbitrário. Seja ${p}_{1}$ o ponto no qual a reta tangente a $f$ em $({p}_{0}, f({p}_{0}))$ cruza o eixo x. Para cada $n \\geqslant 1$, seja ${p}_{n}$ a interseção da reta tangente a $f$ em $({p}_{n-1}, f({p}_{n-1}))$ com o eixo x. Deduza a fórmula que descreve esse método.\n",
    "\n",
    "**Resposta:**\n",
    "\n",
    "Como para cada $n \\geqslant 1$, ${p}_{n}$ será a interseção da reta tangente a $f$ em $({p}_{n-1}, f({p}_{n-1}))$ com o eixo x, podemos escrever a equação desta reta tangente e determinar uma fórmula que retorne o valor de x para o qual a reta tangente toca o eixo x, determinando assim ${p}_{n}$ em cada ireração.\n",
    "\n",
    "A forma fundamental de uma equação linear é representada por $(y - {y}_{1}) = m . (x - {x}_{1})$, onde $m$ representa o declive (coeficiente angular da reta) e $(x - {x}_{1})$ representa um ponto da reta. A inclinação $m$ da reta tangente a $f$ em $({p}_{n-1}, f({p}_{n-1}))$ é dada pela derivada primeira neste ponto:\n",
    "\n",
    "$$m = f'({p}_{n-1}).$$\n",
    "\n",
    "Como queremos o ponto x onde a reta tangente toca o eixo x, isso significa encontrar um x, chamado de ${p}_{n}$, tal que leve a $y = 0$. Desta forma, a equação linear da reta tangente pode ser escrita como:\n",
    "\n",
    "$$(y - {y}_{1}) = m . (x - {x}_{1})$$\n",
    "\n",
    "$$(0 - f({p}_{n-1})) = f'({p}_{n-1}) . ({p}_{n} - {p}_{n-1})$$\n",
    "\n",
    "Isolando ${p}_{n}$ obtém-se:\n",
    "\n",
    "$$\\frac{-f({p}_{n-1})}{f'({p}_{n-1})} + {p}_{n-1} = {p}_{n}\\text{, reagrupando: } {p}_{n} = {p}_{n-1} - \\frac{f({p}_{n-1})}{f'({p}_{n-1})},$$\n",
    "\n",
    "que é a fórmula para a aplicação do método de Newton."
   ]
  },
  {
   "cell_type": "markdown",
   "metadata": {},
   "source": [
    "## (17) ##\n",
    "\n",
    "O polinômio de quarto grau $$f(x) = 230 x^{4} + 18 x^{3} + 9 x^{2} - 221 x - 9$$tem dois zeros reais, um em $[-1, 0]$ e outro em $[0, 1]$. Tente encontrar a aproximação desses zeros com a precisão de $10^{-6}$, utilizando os seguintes métodos:\n",
    "\n",
    "**a.** Método da Falsa Posição;\n",
    "\n",
    "**b.** Método da Secante;\n",
    "\n",
    "**c.** Método de Newton.\n",
    "\n",
    "Utilize as extremidades de cada intervalo como aproximações iniciais em (a) e (b) e os pontos médios como as aproximações iniciais em (c).\n",
    "\n",
    "**Resposta:**\n",
    "\n",
    "Apesar do método de Newton (3 iterações), seguido pelo método da Secante (5 iterações), terem mostrado uma convergência mais rápida para a primeira raiz no intervalo $[-1, 0]$ em relação ao método da Falsa Posição (17 iterações), eles falharam em convergir para a segunda raiz no intervalo $[0, 1]$, convergindo novamente para a mesma raiz do intervalo $[-1, 0]$. Somente o método da Falsa Posição foi capaz de convergir corretamente para a raiz no intervalo $[0, 1]$, devido a sua condição de sempre escolher novos subintervalos onde a raiz sempre esteja contida.\n",
    "\n",
    "Os resultados das iterações para os métodos da Falsa Posição, Secante e Newton seguem abaixo:"
   ]
  },
  {
   "cell_type": "code",
   "execution_count": 14,
   "metadata": {},
   "outputs": [
    {
     "name": "stdout",
     "output_type": "stream",
     "text": [
      "17.a) 230*(x**4) + 18*(x**3) + 9*(x**2) - 221*x - 9, com p0 = -1 e p1 = 0\n",
      "Raiz de f(x) = 0, pelo método da Falsa Posição \n",
      "n\t pn\t         f(pn)\n",
      "0 \t -1.0000000000 \t 433.0000000000\n",
      "1 \t 0.0000000000 \t -9.0000000000\n",
      "2 \t -0.0203619910 \t -4.4963809278\n",
      "3 \t -0.0304302472 \t -2.2668913670\n",
      "4 \t -0.0354798141 \t -1.1480711912\n",
      "5 \t -0.0380304136 \t -0.5827707397\n",
      "6 \t -0.0393233795 \t -0.2961607508\n",
      "7 \t -0.0399800082 \t -0.1505952314\n",
      "8 \t -0.0403137822 \t -0.0765991444\n",
      "9 \t -0.0404835239 \t -0.0389674676\n",
      "10 \t -0.0405698670 \t -0.0198250271\n",
      "11 \t -0.0406137928 \t -0.0100865434\n",
      "12 \t -0.0406361407 \t -0.0051319162\n",
      "13 \t -0.0406475110 \t -0.0026110858\n",
      "14 \t -0.0406532961 \t -0.0013285104\n",
      "15 \t -0.0406562395 \t -0.0006759428\n",
      "16 \t -0.0406577371 \t -0.0003439184\n",
      "17 \t -0.0406584990 \t -0.0001749852\n",
      "A raiz da função, dentro dos parâmetros de tolerância, é -0.04065849904334182\n",
      "O método da Falsa Posição foi encerrado após 17 iterações.\n",
      "\n",
      "17.a) 230*(x**4) + 18*(x**3) + 9*(x**2) - 221*x - 9, com p0 = 0 e p1 = 1\n",
      "Raiz de f(x) = 0, pelo método da Falsa Posição \n",
      "n\t pn\t         f(pn)\n",
      "0 \t 0.0000000000 \t -9.0000000000\n",
      "1 \t 1.0000000000 \t 27.0000000000\n",
      "2 \t 0.2500000000 \t -62.5078125000\n",
      "3 \t 0.7737627651 \t -83.8305202790\n",
      "4 \t 0.9448851695 \t -11.2651302499\n",
      "5 \t 0.9611107968 \t -0.8558678232\n",
      "6 \t 0.9623056624 \t -0.0618023693\n",
      "7 \t 0.9623917468 \t -0.0044461808\n",
      "8 \t 0.9623979389 \t -0.0003197810\n",
      "9 \t 0.9623983842 \t -0.0000229991\n",
      "A raiz da função, dentro dos parâmetros de tolerância, é 0.9623983842387566\n",
      "O método da Falsa Posição foi encerrado após 9 iterações.\n"
     ]
    },
    {
     "data": {
      "text/plain": [
       "0.9623983842387566"
      ]
     },
     "execution_count": 14,
     "metadata": {},
     "output_type": "execute_result"
    }
   ],
   "source": [
    "# Exercícios 2.3 - Questão 17.a)\n",
    "# Método da Falsa Posição\n",
    "\n",
    "print(\"17.a) 230*(x**4) + 18*(x**3) + 9*(x**2) - 221*x - 9, com p0 = -1 e p1 = 0\") \n",
    "falsa_posicao(lambda x:(230*(x**4) + 18*(x**3) + 9*(x**2) - 221*x - 9), -1.0, 0.0, 1, 0.000001, 30)\n",
    "\n",
    "print(\"\\n17.a) 230*(x**4) + 18*(x**3) + 9*(x**2) - 221*x - 9, com p0 = 0 e p1 = 1\") \n",
    "falsa_posicao(lambda x:(230*(x**4) + 18*(x**3) + 9*(x**2) - 221*x - 9), 0.0, 1.0, 1, 0.000001, 30)"
   ]
  },
  {
   "cell_type": "code",
   "execution_count": 15,
   "metadata": {},
   "outputs": [
    {
     "name": "stdout",
     "output_type": "stream",
     "text": [
      "17.b) 230*(x**4) + 18*(x**3) + 9*(x**2) - 221*x - 9, com p0 = -1 e p1 = 0\n",
      "Método da Secante, com p0 = -1.0 e p1 = 0.0  tolerância de 1e-06 \n",
      "n\t pn\t         f(pn)\n",
      "0 \t -1.0000000000 \t 433.0000000000\n",
      "1 \t 0.0000000000 \t -9.0000000000\n",
      "2 \t -0.0203619910 \t -4.4963809278\n",
      "3 \t -0.0406912564 \t 0.0070874832\n",
      "4 \t -0.0406592626 \t -0.0000057062\n",
      "5 \t -0.0406592883 \t -0.0000000000\n",
      "A raiz da função, dentro dos parâmetros de tolerância, é -0.040659288315725135\n",
      "O método da Secante foi encerrado após 5 iterações.\n",
      "\n",
      "17.b) 230*(x**4) + 18*(x**3) + 9*(x**2) - 221*x - 9, com p0 = 0 e p1 = 1\n",
      "Método da Secante, com p0 = 0.0 e p1 = 1.0  tolerância de 1e-06 \n",
      "n\t pn\t         f(pn)\n",
      "0 \t 0.0000000000 \t -9.0000000000\n",
      "1 \t 1.0000000000 \t 27.0000000000\n",
      "2 \t 0.2500000000 \t -62.5078125000\n",
      "3 \t 0.7737627651 \t -83.8305202790\n",
      "4 \t -1.2854177835 \t 879.6389856119\n",
      "5 \t 0.5945955204 \t -104.6913894787\n",
      "6 \t 0.3946411047 \t -88.1289403624\n",
      "7 \t -0.6693181356 \t 183.7131597404\n",
      "8 \t 0.0497143976 \t -19.9610215816\n",
      "9 \t -0.0207541508 \t -4.4095742941\n",
      "10 \t -0.0407353329 \t 0.0168594734\n",
      "11 \t -0.0406592282 \t -0.0000133184\n",
      "12 \t -0.0406592883 \t -0.0000000000\n",
      "A raiz da função, dentro dos parâmetros de tolerância, é -0.04065928831557162\n",
      "O método da Secante foi encerrado após 12 iterações.\n"
     ]
    },
    {
     "data": {
      "text/plain": [
       "-0.04065928831557162"
      ]
     },
     "execution_count": 15,
     "metadata": {},
     "output_type": "execute_result"
    }
   ],
   "source": [
    "print(\"17.b) 230*(x**4) + 18*(x**3) + 9*(x**2) - 221*x - 9, com p0 = -1 e p1 = 0\") \n",
    "metodo_Secante(lambda x:(230*(x**4) + 18*(x**3) + 9*(x**2) - 221*x - 9), -1.0, 0.0, 1, 0.000001, 30)\n",
    "\n",
    "print(\"\\n17.b) 230*(x**4) + 18*(x**3) + 9*(x**2) - 221*x - 9, com p0 = 0 e p1 = 1\") \n",
    "metodo_Secante(lambda x:(230*(x**4) + 18*(x**3) + 9*(x**2) - 221*x - 9), 0.0, 1.0, 1, 0.000001, 30)"
   ]
  },
  {
   "cell_type": "code",
   "execution_count": 2,
   "metadata": {},
   "outputs": [
    {
     "name": "stdout",
     "output_type": "stream",
     "text": [
      "Digite a função f(x): 230*(x**4) + 18*(x**3) + 9*(x**2) - 221*x - 9\n",
      "Deseja plotar o gráfico ao final? (s/n) s\n",
      "Deseja visualizar a tabela de iterações ao final? (s/n) s\n",
      "Digite o número máximo de iterações que deseja: 30\n",
      "Digite o valor do chute inicial para a raiz: -0.5\n",
      "Digite a tolerância desejada: 0.000001\n",
      "Selecione o critério de parada: 1 - |p-p0|;  2 - |p-p0|/|p|;  3 - f(p): 1\n",
      "\n",
      "Iteração \t pn \t\t\t |p_n-p_(n-1)|\n",
      "0 \t\t -0.5000000000 \t\t 0.3495475113\n",
      "1 \t\t -0.1504524887 \t\t 0.1086356747\n",
      "2 \t\t -0.0418168139 \t\t 0.0011574705\n",
      "3 \t\t -0.0406593435 \t\t 0.0000000552\n",
      "\n",
      "O método encontrou uma aproximação da raiz após \u001b[1m3\u001b[0m iterações!\n",
      "\t • O valor estimado para a raiz é:  \u001b[1m-0.0406593434973293\u001b[0m\n",
      "\t • O valor do erro estimado é:  \u001b[1m5.51815703478398e-8\u001b[0m\n"
     ]
    },
    {
     "data": {
      "image/png": "[encoded data removed]",
      "text/plain": [
       "<matplotlib.figure.Figure at 0x83c8dd8>"
      ]
     },
     "metadata": {},
     "output_type": "display_data"
    },
    {
     "name": "stdout",
     "output_type": "stream",
     "text": [
      "\n",
      "\n",
      "Digite a função f(x): 230*(x**4) + 18*(x**3) + 9*(x**2) - 221*x - 9\n",
      "Deseja plotar o gráfico ao final? (s/n) s\n",
      "Deseja visualizar a tabela de iterações ao final? (s/n) s\n",
      "Digite o número máximo de iterações que deseja: 30\n",
      "Digite o valor do chute inicial para a raiz: 0.5\n",
      "Digite a tolerância desejada: 0.000001\n",
      "Selecione o critério de parada: 1 - |p-p0|;  2 - |p-p0|/|p|;  3 - f(p): 1\n",
      "\n",
      "Iteração \t pn \t\t\t |p_n-p_(n-1)|\n",
      "0 \t\t 0.5000000000 \t\t 1.2050898204\n",
      "1 \t\t -0.7050898204 \t\t 0.3812987061\n",
      "2 \t\t -0.3237911142 \t\t 0.2591879832\n",
      "3 \t\t -0.0646031310 \t\t 0.0239169799\n",
      "4 \t\t -0.0406861512 \t\t 0.0000268628\n",
      "5 \t\t -0.0406592883 \t\t 0.0000000000\n",
      "\n",
      "O método encontrou uma aproximação da raiz após \u001b[1m5\u001b[0m iterações!\n",
      "\t • O valor estimado para a raiz é:  \u001b[1m-0.0406592883453349\u001b[0m\n",
      "\t • O valor do erro estimado é:  \u001b[1m2.95760776980458e-11\u001b[0m\n"
     ]
    },
    {
     "data": {
      "image/png": "[encoded data removed]",
      "text/plain": [
       "<matplotlib.figure.Figure at 0x83ecc88>"
      ]
     },
     "metadata": {},
     "output_type": "display_data"
    }
   ],
   "source": [
    "metodo_Newton()\n",
    "print('\\n')\n",
    "metodo_Newton()"
   ]
  },
  {
   "cell_type": "markdown",
   "metadata": {},
   "source": [
    "## 21 - "
   ]
  },
  {
   "cell_type": "code",
   "execution_count": null,
   "metadata": {},
   "outputs": [],
   "source": [
    "#Função Método de Newton para encontrar raízes de uma equação do tipo f(x)=0 - Versão 02\n",
    "#Utiliza a biblioteca sympy, disponível em: http://docs.sympy.org/latest/index.html\n",
    "\n",
    "import sympy as sp\n",
    "\n",
    "def metodo_Newton(fx, p0, tipo_tol, tol, N0):\n",
    "    # Parâmetros: \n",
    "    # fx: função do tipo f(x)=0 a qual se deseja encontrar a raiz, em string | p0: aproximação inicial para a raiz\n",
    "    # tipo_tol: tipo de tolerância: 1: |p[n] - p[n-1]|; 2: |p[n] - p[n-1]|/|p[n]|; 3: |f(p[n])| ~= 0\n",
    "    # tol: valor da tolerância | N0: número máximo de iterações\n",
    "    \n",
    "    x = sp.symbols('x')\n",
    "    f = sp.sympify(fx) # obtém a função f(x)\n",
    "    df = sp.diff(f, x, 1) # utiliza a biblioteca sympy para calcular f'(X) (a derivada primeira de f(x))\n",
    "\n",
    "    # variáveis extras para o cálculo\n",
    "    val_tol=0.0; fp0 = 0.0; dfp0 = 0.0; fp=0.0; n=0\n",
    "\n",
    "    print (\"Raiz de f(x) =\", fx + \", com p0 =\", str(p0) + \", pelo método de Newton\\nn\\t pn-1\\t         f(pn-1)\\t f'(pn-1)\\t pn\\t         f(pn)\")\n",
    "\n",
    "    # aplica o método de Newton\n",
    "    fp0 = float(f.subs(x,p0)) # calcula f(p0)\n",
    "    for n in range (1, N0+1):\n",
    "        dfp0 = float(df.subs(x,p0)) # calcula a f'(p0)\n",
    "        if (dfp0) == 0.0:\n",
    "            print(\"A DERIVADA RESULTOU EM ZERO - IMPOSSÍVEL CONTINUAR\")\n",
    "            break\n",
    "        p = p0 - (fp0 / dfp0) # aplica a aproximação do método de Newton\n",
    "        fp = float(f.subs(x,p)) # calcula f(p)\n",
    "        \n",
    "        # calcula as condições de parada\n",
    "        if (tipo_tol == 2 and p != 0.0): # a condição de parada será |p[n] - p[n-1]|/|p[n]|\n",
    "            val_tol = abs((p-p0)/p)\n",
    "        elif (tipo_tol == 3):\n",
    "            val_tol = abs(fp) # a condição de parada será |f(p[n])|\n",
    "        else: #se não foi escolhida a condição 2 ou 3, assume a condição 1\n",
    "            val_tol = abs(p-p0) # a condição de parada será |p[n] - p[n-1]|\n",
    "        \n",
    "        # imprime os resultados da iteração n\n",
    "        print (n, '\\t', \"{:.10f}\".format(p0), '\\t', \"{:.10f}\".format(fp0), '\\t', \"{:.10f}\".format(dfp0), '\\t', \"{:.10f}\".format(p), '\\t', \"{:.10f}\".format(fp))\n",
    "        # testa as condições de parada\n",
    "        if (val_tol <= tol):\n",
    "            print (\"A raiz da função, dentro dos parâmetros de tolerância, é\", p)\n",
    "            break\n",
    "        p0 = p\n",
    "        fp0 = fp\n",
    "    print (\"O método de Newton foi encerrado após\", n, \"iterações.\\n\")\n",
    "    #return (p)\n",
    "\n",
    "metodo_Newton('4*(x**2) - exp(x) - exp(-x)', -10, 1, 10**(-5), 50)\n",
    "metodo_Newton('4*(x**2) - exp(x) - exp(-x)', -5, 1, 10**(-5), 50)\n",
    "metodo_Newton('4*(x**2) - exp(x) - exp(-x)', -3, 1, 10**(-5), 50)\n",
    "metodo_Newton('4*(x**2) - exp(x) - exp(-x)', -1, 1, 10**(-5), 50)\n",
    "metodo_Newton('4*(x**2) - exp(x) - exp(-x)', 0, 1, 10**(-5), 50)\n",
    "metodo_Newton('4*(x**2) - exp(x) - exp(-x)', 1, 1, 10**(-5), 50)\n",
    "metodo_Newton('4*(x**2) - exp(x) - exp(-x)', 3, 1, 10**(-5), 50)\n",
    "metodo_Newton('4*(x**2) - exp(x) - exp(-x)', 5, 1, 10**(-5), 50)\n",
    "metodo_Newton('4*(x**2) - exp(x) - exp(-x)', 10, 1, 10**(-5), 50)"
   ]
  },
  {
   "cell_type": "markdown",
   "metadata": {},
   "source": [
    "## (27) ## \n",
    "\n",
    "Os problemas que envolvem a quantia necessária para o pagamento de uma hipoteca durante um período fixo empregam a fórmula a seguir:\n",
    "\n",
    "$$A=\\frac{P}{i} [1 -(1+i)^{-n}],$$\n",
    "\n",
    "denominada _equaçao da anuidade ordinária_. Nessa equação, A é o valor da hipoteca, P é a quantia de cada pagamento, e $i$ é a taxa de juros por período para n períodos de pagamento. Suponha que uma quantia de US$ 135 000,00 deva ser paga em 30 anos pela hipoteca de uma casa e que o mutuário possa pagar até US 1 000,00 por mês pela casa. Qual deve ser a taxa de juros máxima para que o mutuário possa pagar a hipoteca?\n",
    "\n",
    "**Resposta:**\n",
    "\n",
    "Para encontrar o valor de $i$ que satisfaça às condições estabelecidas, devemos reorganizar a equação e substituir os valores fornecidos para A, P e $n$, de maneira a obter uma equação com somente uma variável, $i$.\n",
    "\n",
    "$$\\frac{1000}{i} [1 -(1+i)^{-360}] = 135000 → \\frac{1000}{i} - \\frac{1000}{i.(1+i)^{360}} = 135000$$\n",
    "\n",
    "Percebemos que essa equação não é muito apropriada para a aplicação de nenhum dos métodos, pois como  $i$ está no denominador, e se trata de um valor próximo de zero ($i$ é uma porcentagem), então devemos reescrever a função de uma maneira mais adequada.\n",
    "\n",
    "Aplicando o $\\log_{10}$ a toda a equação, temos:\n",
    "\n",
    "$$\\log_{10} (\\frac{1000}{i}) - log_{10}(\\frac{1000}{i.(1+i)^{360}} = log_{10}(135000) $$\n",
    "\n",
    "$$\\log_{10}(1000) - \\log_{10}i -\\log_{10}(1000) + \\log_{10}(i) +\\log_{10}(1+i)^{360} = \\log_{10}(135) + \\log_{10}(1000) $$\n",
    "\n",
    "$$360.\\log_{10}(1+i) - \\log_{10}(135) = \\log_{10}(1000) $$\n",
    "\n",
    "$$360.\\log_{10}(1+i) - \\log_{10}(135) = 3 $$\n",
    "\n",
    "$$\\log_{10}(1+i) - \\log_{10}(\\sqrt[360]{135}) = \\frac{3}{360} $$\n",
    "\n",
    "$$\\log_{10}\\frac{1+i}{\\sqrt[360]{135}} = \\frac{1}{120} $$\n",
    "\n",
    "Elevando 10 a ambos os lados da equação, e reorganizando-a, temos:\n",
    "\n",
    "$$(1+i) =   \\sqrt[360]{135} . \\sqrt[120]{10}$$  \n",
    "\n",
    "$$1+i = 1,033358288178 → i = 0,033358288178 = 3,3358\\%$$\n",
    "\n",
    "** A taxa máxima de juros para que o mutuário possa pagar a hipoteca é de 3,3358 $\\%$ ao mês **"
   ]
  },
  {
   "cell_type": "markdown",
   "metadata": {},
   "source": [
    "## (23)\n",
    "\n",
    "A função descrita por $f(x)=ln(x^{2}+1)-e^{0.4x}cos(\\pi/x)$ tem um número infinito de zeros.\n",
    "\n",
    "a) Determine, com precisão de $10^{-6}$, o único zero negativo;\n",
    "\n",
    "b) Determine, com precisão de $10^{-6}$, os quatros menores zeros positivos;\n",
    "\n",
    "c) Determine, uma aproximação inicial razoável para determinar o n-ésimo menor zero positivo de f.\n",
    "[Sugestão: esboce m gráfico aproximado de f]\n",
    "\n",
    "d) Utilize a parte (C) para determinar, com precisão de $10^{-6}$, o 25º menor zero positivo de f."
   ]
  },
  {
   "cell_type": "markdown",
   "metadata": {},
   "source": [
    "### (Resolução 23 - Letra A)\n",
    "a) Determine, com precisão de $10^{-6}$, o único zero negativo;"
   ]
  },
  {
   "cell_type": "code",
   "execution_count": 10,
   "metadata": {},
   "outputs": [
    {
     "name": "stdout",
     "output_type": "stream",
     "text": [
      "Digite a função f(x): ln((x^2)+1)-(e^(0.4*x))(cos(pi/x))\n"
     ]
    },
    {
     "ename": "TypeError",
     "evalue": "'Pow' object is not callable",
     "output_type": "error",
     "traceback": [
      "\u001b[1;31m---------------------------------------------------------------------------\u001b[0m",
      "\u001b[1;31mTypeError\u001b[0m                                 Traceback (most recent call last)",
      "\u001b[1;32m<ipython-input-10-6918164ec077>\u001b[0m in \u001b[0;36m<module>\u001b[1;34m()\u001b[0m\n\u001b[1;32m----> 1\u001b[1;33m \u001b[0mmetodo_Newton\u001b[0m\u001b[1;33m(\u001b[0m\u001b[1;33m)\u001b[0m\u001b[1;33m\u001b[0m\u001b[0m\n\u001b[0m",
      "\u001b[1;32m<ipython-input-5-d0325dd56cdb>\u001b[0m in \u001b[0;36mmetodo_Newton\u001b[1;34m()\u001b[0m\n\u001b[0;32m     21\u001b[0m \u001b[1;32mdef\u001b[0m \u001b[0mmetodo_Newton\u001b[0m\u001b[1;33m(\u001b[0m\u001b[1;33m)\u001b[0m\u001b[1;33m:\u001b[0m\u001b[1;33m\u001b[0m\u001b[0m\n\u001b[0;32m     22\u001b[0m     \u001b[0mx\u001b[0m \u001b[1;33m=\u001b[0m \u001b[0msp\u001b[0m\u001b[1;33m.\u001b[0m\u001b[0msymbols\u001b[0m\u001b[1;33m(\u001b[0m\u001b[1;34m'x'\u001b[0m\u001b[1;33m)\u001b[0m \u001b[1;31m#Define x como a variável da função f(x) a ser especificada pelo usuário\u001b[0m\u001b[1;33m\u001b[0m\u001b[0m\n\u001b[1;32m---> 23\u001b[1;33m     \u001b[0mfx\u001b[0m \u001b[1;33m=\u001b[0m \u001b[0msp\u001b[0m\u001b[1;33m.\u001b[0m\u001b[0msympify\u001b[0m\u001b[1;33m(\u001b[0m\u001b[0minput\u001b[0m\u001b[1;33m(\u001b[0m\u001b[1;34m\"Digite a função f(x): \"\u001b[0m\u001b[1;33m)\u001b[0m\u001b[1;33m)\u001b[0m \u001b[1;31m#Solicita que o usuário entre com a função f(X)\u001b[0m\u001b[1;33m\u001b[0m\u001b[0m\n\u001b[0m\u001b[0;32m     24\u001b[0m \u001b[1;33m\u001b[0m\u001b[0m\n\u001b[0;32m     25\u001b[0m     \u001b[1;31m#Pergunta ao usuário se ele deseja ou não plotar o gráfico do método ao final, para facilitar a visualização\u001b[0m\u001b[1;33m\u001b[0m\u001b[1;33m\u001b[0m\u001b[0m\n",
      "\u001b[1;32mc:\\users\\lucas matos\\appdata\\local\\programs\\python\\python36-32\\lib\\site-packages\\sympy\\core\\sympify.py\u001b[0m in \u001b[0;36msympify\u001b[1;34m(a, locals, convert_xor, strict, rational, evaluate)\u001b[0m\n\u001b[0;32m    352\u001b[0m     \u001b[1;32mtry\u001b[0m\u001b[1;33m:\u001b[0m\u001b[1;33m\u001b[0m\u001b[0m\n\u001b[0;32m    353\u001b[0m         \u001b[0ma\u001b[0m \u001b[1;33m=\u001b[0m \u001b[0ma\u001b[0m\u001b[1;33m.\u001b[0m\u001b[0mreplace\u001b[0m\u001b[1;33m(\u001b[0m\u001b[1;34m'\\n'\u001b[0m\u001b[1;33m,\u001b[0m \u001b[1;34m''\u001b[0m\u001b[1;33m)\u001b[0m\u001b[1;33m\u001b[0m\u001b[0m\n\u001b[1;32m--> 354\u001b[1;33m         \u001b[0mexpr\u001b[0m \u001b[1;33m=\u001b[0m \u001b[0mparse_expr\u001b[0m\u001b[1;33m(\u001b[0m\u001b[0ma\u001b[0m\u001b[1;33m,\u001b[0m \u001b[0mlocal_dict\u001b[0m\u001b[1;33m=\u001b[0m\u001b[0mlocals\u001b[0m\u001b[1;33m,\u001b[0m \u001b[0mtransformations\u001b[0m\u001b[1;33m=\u001b[0m\u001b[0mtransformations\u001b[0m\u001b[1;33m,\u001b[0m \u001b[0mevaluate\u001b[0m\u001b[1;33m=\u001b[0m\u001b[0mevaluate\u001b[0m\u001b[1;33m)\u001b[0m\u001b[1;33m\u001b[0m\u001b[0m\n\u001b[0m\u001b[0;32m    355\u001b[0m     \u001b[1;32mexcept\u001b[0m \u001b[1;33m(\u001b[0m\u001b[0mTokenError\u001b[0m\u001b[1;33m,\u001b[0m \u001b[0mSyntaxError\u001b[0m\u001b[1;33m)\u001b[0m \u001b[1;32mas\u001b[0m \u001b[0mexc\u001b[0m\u001b[1;33m:\u001b[0m\u001b[1;33m\u001b[0m\u001b[0m\n\u001b[0;32m    356\u001b[0m         \u001b[1;32mraise\u001b[0m \u001b[0mSympifyError\u001b[0m\u001b[1;33m(\u001b[0m\u001b[1;34m'could not parse %r'\u001b[0m \u001b[1;33m%\u001b[0m \u001b[0ma\u001b[0m\u001b[1;33m,\u001b[0m \u001b[0mexc\u001b[0m\u001b[1;33m)\u001b[0m\u001b[1;33m\u001b[0m\u001b[0m\n",
      "\u001b[1;32mc:\\users\\lucas matos\\appdata\\local\\programs\\python\\python36-32\\lib\\site-packages\\sympy\\parsing\\sympy_parser.py\u001b[0m in \u001b[0;36mparse_expr\u001b[1;34m(s, local_dict, transformations, global_dict, evaluate)\u001b[0m\n\u001b[0;32m    892\u001b[0m         \u001b[0mcode\u001b[0m \u001b[1;33m=\u001b[0m \u001b[0mcompile\u001b[0m\u001b[1;33m(\u001b[0m\u001b[0mevaluateFalse\u001b[0m\u001b[1;33m(\u001b[0m\u001b[0mcode\u001b[0m\u001b[1;33m)\u001b[0m\u001b[1;33m,\u001b[0m \u001b[1;34m'<string>'\u001b[0m\u001b[1;33m,\u001b[0m \u001b[1;34m'eval'\u001b[0m\u001b[1;33m)\u001b[0m\u001b[1;33m\u001b[0m\u001b[0m\n\u001b[0;32m    893\u001b[0m \u001b[1;33m\u001b[0m\u001b[0m\n\u001b[1;32m--> 894\u001b[1;33m     \u001b[1;32mreturn\u001b[0m \u001b[0meval_expr\u001b[0m\u001b[1;33m(\u001b[0m\u001b[0mcode\u001b[0m\u001b[1;33m,\u001b[0m \u001b[0mlocal_dict\u001b[0m\u001b[1;33m,\u001b[0m \u001b[0mglobal_dict\u001b[0m\u001b[1;33m)\u001b[0m\u001b[1;33m\u001b[0m\u001b[0m\n\u001b[0m\u001b[0;32m    895\u001b[0m \u001b[1;33m\u001b[0m\u001b[0m\n\u001b[0;32m    896\u001b[0m \u001b[1;33m\u001b[0m\u001b[0m\n",
      "\u001b[1;32mc:\\users\\lucas matos\\appdata\\local\\programs\\python\\python36-32\\lib\\site-packages\\sympy\\parsing\\sympy_parser.py\u001b[0m in \u001b[0;36meval_expr\u001b[1;34m(code, local_dict, global_dict)\u001b[0m\n\u001b[0;32m    805\u001b[0m     \"\"\"\n\u001b[0;32m    806\u001b[0m     expr = eval(\n\u001b[1;32m--> 807\u001b[1;33m         code, global_dict, local_dict)  # take local objects in preference\n\u001b[0m\u001b[0;32m    808\u001b[0m \u001b[1;33m\u001b[0m\u001b[0m\n\u001b[0;32m    809\u001b[0m     \u001b[1;32mreturn\u001b[0m \u001b[0mexpr\u001b[0m\u001b[1;33m\u001b[0m\u001b[0m\n",
      "\u001b[1;32m<string>\u001b[0m in \u001b[0;36m<module>\u001b[1;34m()\u001b[0m\n",
      "\u001b[1;31mTypeError\u001b[0m: 'Pow' object is not callable"
     ]
    }
   ],
   "source": [
    "metodo_Newton()"
   ]
  },
  {
   "cell_type": "markdown",
   "metadata": {},
   "source": [
    "## (29) ## \n",
    "\n",
    "Seja $f(x)=3^{3x+1}-7 . 5^{2x}$.\n",
    "\n",
    "**a)** Utilize os comandos _solve_ e _fsolve_ do Maple para tentar determinar todas as raízes de $f$.\n",
    "\n",
    "Utilizando a plataforma WolframAlpha calcula-se que a função $f(x)$ possui raiz real aproximadamente igual a 11.0094386442. Além de raízes complexas na forma: $x≈12,994 i (6,2832 n - 0,84730 i)$.\n",
    "\n",
    "**b)** Trace o gráfico de f(x) para encontrar aproximações iniciais das raízes de $f$.\n",
    "\n",
    "\n",
    "\n",
    "**c)** Utilize o método de Newton para determinar as raízes de $f$ com precisão de $10^{-16} $.\n",
    "\n",
    "**d)** Encontre as soluções exatas de $f(x)=0$ sem utilizar o Mapple."
   ]
  },
  {
   "cell_type": "code",
   "execution_count": null,
   "metadata": {
    "scrolled": false
   },
   "outputs": [
    {
     "name": "stdout",
     "output_type": "stream",
     "text": [
      "Digite a função f(x): 3**(3*x+1)-7*5**(2*x)\n",
      "Deseja plotar o gráfico ao final? (s/n) n\n",
      "Deseja visualizar a tabela de iterações ao final? (s/n) n\n",
      "Digite o número máximo de iterações que deseja: 10\n",
      "Digite o valor do chute inicial para a raiz: 10\n",
      "Digite a tolerância desejada: 0.0001\n",
      "Selecione o critério de parada: 1 - |p-p0|;  2 - |p-p0|/|p|;  3 - f(p): 2\n"
     ]
    }
   ],
   "source": [
    "metodo_Newton() #Função 3**(3*x+1)-7*5**(2*x)"
   ]
  },
  {
   "cell_type": "markdown",
   "metadata": {},
   "source": [
    "## (31) ##\n",
    "\n",
    "O modelo de crescimento populacional logístico é descrito por uma equação na forma\n",
    "\n",
    "$$P(t) = \\frac{{P}_{L}}{1 - ce^{-kt}},$$\n",
    "\n",
    "onde ${P}_{L}$, $c$ e $k > 0$ são constantes, e $P(t)$ é a população no instante $t$. ${P}_{L}$ representa o valor-limite da população, pois $\\lim_{t \\to \\infty} P(t) = {P}_{L}$. Utilize os dados do censo dos anos 1950, 1960 e 1970 fornecidos na tabela da página 101 para determinar as constantes ${P}_{L}$, $c$ e $k$ para um modelo de crescimento logístico.  Utilize o modelo logístico para calcular a população dos Estados Unidos em 1980 e 2010, supondo $t = 0$ em 1950. Compare os resultados obtidos para 1980 com o valor real.\n",
    "\n",
    "**Resposta:**\n",
    "\n",
    "Existem três constante que são incógnitas (${P}_{L}$, $c$ e $k > 0$) e é possível escrever três equações com os dados dos anos de 1950, 1960 e 1970 (uma para cada ano). Desta forma, é possível reescrever a equação do modelo de crescimento logístico em função de uma única incógnita. A incógnita escolhida será o $c$, pois ela se mostra mais fácil de ser isolada.\n",
    "\n",
    "**Para 1950 (t = 0, população em milhares):**\n",
    "\n",
    "$$P(0) = 151326 = \\frac{{P}_{L}}{1 - ce^{-k.0}}$$\n",
    "\n",
    "$$151326 = \\frac{{P}_{L}}{1 - ce^{0}}$$\n",
    "\n",
    "$$151326 = \\frac{{P}_{L}}{1 - c}$$\n",
    "\n",
    "$${P}_{L} = 151326(1 - c)$$\n",
    "\n",
    "**Para 1960 (t = 10, população em milhares):**\n",
    "\n",
    "$$P(10) = 179323 = \\frac{{P}_{L}}{1 - ce^{-k.10}}$$\n",
    "\n",
    "$$179323 = \\frac{{P}_{L}}{1 - ce^{-k.10}}$$\n",
    "\n",
    "$$1 - ce^{-k.10} = \\frac{{P}_{L}}{179323}$$\n",
    "\n",
    "$$-ce^{-k.10} = \\frac{{P}_{L}}{179323} - 1$$\n",
    "\n",
    "$$ce^{-k.10} = 1 - \\frac{{P}_{L}}{179323}$$\n",
    "\n",
    "$$ce^{-k.10} = \\frac{179323 - {P}_{L}}{179323}$$\n",
    "\n",
    "$$e^{-k.10} = \\frac{179323 - {P}_{L}}{179323 c}$$\n",
    "\n",
    "substituindo ${P}_{L}$ pela relação encontrada na equação do ano de 1950:\n",
    "\n",
    "$$e^{-k.10} = \\frac{179323 - 151326(1 - c)}{179323 c}$$\n",
    "\n",
    "$$e^{-k.10} = \\frac{27997 + 151326 c}{179323 c}$$\n",
    "\n",
    "aplicando $ln()$ em ambos os lados:\n",
    "\n",
    "$$\\ln(e^{-k.10}) = \\ln(\\frac{27997 + 151326 c}{179323 c})$$\n",
    "\n",
    "$$-10k \\ln(e) = \\ln(\\frac{27997 + 151326 c}{179323 c})$$\n",
    "\n",
    "$$-10k = \\ln(\\frac{27997 + 151326 c}{179323 c})$$\n",
    "\n",
    "$$k = - \\ln(\\frac{27997 + 151326 c}{179323 c}) / 10$$\n",
    "\n",
    "**Para 1970 (t = 20, população em milhares):**\n",
    "\n",
    "$$P(20) = 203302 = \\frac{{P}_{L}}{1 - ce^{-k.20}}$$\n",
    "\n",
    "$$203302 = \\frac{{P}_{L}}{1 - ce^{-k.20}}$$\n",
    "\n",
    "substituindo ${P}_{L}$ e $-k$ pelos valores encontrados em 1950 e 1960, a equação se torna de uma única variável, em c, que pode ser determinada através de um dos métodos iterativos para determinação de raízes de funções de uma variável.\n",
    "\n",
    "$$203302 = \\frac{151326(1 - c)}{1 - ce^{(\\ln(\\frac{27997 + 151326 c}{179323 c})/10).20}}$$\n",
    "\n",
    "$$203302 = \\frac{151326(1 - c)}{1 - c(e^{\\ln(\\frac{27997 + 151326 c}{179323 c})})^{2}}$$\n",
    "\n",
    "$$203302 = \\frac{151326(1 - c)}{1 - c(\\frac{27997 + 151326 c}{179323 c})^{2}}$$\n",
    "\n",
    "$$\\frac{151326(1 - c)}{1 - c(\\frac{27997 + 151326 c}{179323 c})^{2}} - 203302 = 0.$$\n",
    "\n",
    "Plotando o gráfico desta equação para obter as aproximações ${p}_{0}$ e ${p}_{1}$ para o método da Secante, e aplicando o método, com uma precisão de $10^{-7}$ para $|{p}_{n} - {p}_{n-1}|$ obtém-se $c$ = -0,7565812558.\n",
    "\n",
    "Substituindo $c = -0,7565812558$ nas relações de ${P}_{L}$ e $k$, encontradas anteriormente, obtêm-se:\n",
    "\n",
    "$${P}_{L} = 151326(1 - c) = 151326(1 + 0,7565812558) = 265816,415115$$\n",
    "\n",
    "$$k = - \\ln(\\frac{27997 + 151326 c}{179323 c}) / 10 = - \\ln(\\frac{27997 + 151326 (-0,7565812558)}{179323 (-0,7565812558)})  / 10 = 0,045017502246$$\n",
    "\n",
    "Para **1980 (t = 30)**, usando os valores encontrados para ${P}_{L}$, $c$ e $k$, a população, em milhares, é:\n",
    "\n",
    "$$P(t) = \\frac{{P}_{L}}{1 - ce^{-kt}}$$\n",
    "\n",
    "$$P(30) = \\frac{265816,415115}{1 - (-0,7565812558)e^{-0,045017502246 . 30}}$$\n",
    "\n",
    "$$P(30) \\approx 222.248$$\n",
    "\n",
    "Comparado ao valor real, que é de 226.542, houve uma diferença de 4.294 (4 milhões e 294 mil pessoas) para menos. Isso demonstra que este modelo depende de ajustes das constantes a cada década, principalmente o valor-limite da população (${P}_{L}$).\n",
    "\n",
    "Para **2010 (t = 60)** o modelo mostra uma discrepância ainda maior (população em milhares):\n",
    "\n",
    "$$P(t) = \\frac{{P}_{L}}{1 - ce^{-kt}}$$\n",
    "\n",
    "$$P(60) = \\frac{265816,415115}{1 - (-0,7565812558)e^{-0,045017502246 . 60}}$$\n",
    "\n",
    "$$P(60) \\approx 252.967$$\n",
    "\n",
    "Quando o censo mostra que em 2010 a população dos Estados Unidos era de 309.300 milhares de habitantes."
   ]
  },
  {
   "cell_type": "code",
   "execution_count": 19,
   "metadata": {},
   "outputs": [
    {
     "data": {
      "image/png": "[encoded data removed]",
      "text/plain": [
       "<matplotlib.figure.Figure at 0x9a02518>"
      ]
     },
     "metadata": {},
     "output_type": "display_data"
    },
    {
     "name": "stdout",
     "output_type": "stream",
     "text": [
      "Questão 31. Achando c do modelo de crescimento logístico, com p0 = -1.0 e p1 = -0.5\n",
      "Método da Secante, com p0 = -1.0 e p1 = -0.5  tolerância de 1e-07 \n",
      "n\t pn\t         f(pn)\n",
      "0 \t -1.0000000000 \t 2164.8071511812\n",
      "1 \t -0.5000000000 \t -4417.5281174863\n",
      "2 \t -0.8355593370 \t 835.1700189980\n",
      "3 \t -0.7822059764 \t 288.6818170479\n",
      "4 \t -0.7540221199 \t -29.8614330685\n",
      "5 \t -0.7566641797 \t 0.9643710972\n",
      "6 \t -0.7565815241 \t 0.0031211207\n",
      "7 \t -0.7565812557 \t -0.0000003272\n",
      "8 \t -0.7565812558 \t 0.0000000000\n",
      "A raiz da função, dentro dos parâmetros de tolerância, é -0.7565812557706082\n",
      "O método da Secante foi encerrado após 8 iterações.\n"
     ]
    },
    {
     "data": {
      "text/plain": [
       "-0.7565812557706082"
      ]
     },
     "execution_count": 19,
     "metadata": {},
     "output_type": "execute_result"
    }
   ],
   "source": [
    "# Exercícios 2.3 - Questão 31.\n",
    "\n",
    "from numpy import *\n",
    "import matplotlib.pyplot as plt\n",
    "\n",
    "def f(c): # função f(c) para encontrar o c do modelo de crescimento logístico\n",
    "    return ((151326*(1 - c)) / (1 - c*(((27997 + 151326*c) / (179323*c)))**2)) - 203302\n",
    "\n",
    "# Plota o gráfico da função\n",
    "plt.rcParams['figure.figsize'] = 10, 10 # Tamanho da figura\n",
    "x = arange(-5, 5, 0.05)\n",
    "plt.plot(x, f(x), label=\"Função para determinar c\")\n",
    "plt.legend(); plt.grid(); plt.show()\n",
    "\n",
    "print(\"Questão 31. Achando c do modelo de crescimento logístico, com p0 = -1.0 e p1 = -0.5\") \n",
    "metodo_Secante(f, -1.0, -0.5, 1, 0.0000001, 30)"
   ]
  },
  {
   "cell_type": "markdown",
   "metadata": {},
   "source": [
    "## (33) ##\n",
    "\n",
    "O jogador A eliminará (ganha por 21 a 0) o jogador B em uma partida de raquetebol com probabilidade\n",
    "\n",
    "$$P = \\frac{1+p}{2}(\\frac{p}{1-p+p^2})^{21} .$$\n",
    "\n",
    "onde p denota a probabilidade de A vencer qualquer rebatida específica (independente do sacador), (consulte [Keller, J.], pág. 267). Determine com precisão de $10^{-3}$, o valor mínimo de p que garanta que A eliminará B em pelo menos metade das partidas jogadas.\n",
    "\n",
    "Probabilisticamente falando, a condição que garanta que o jogador A eliminará B em pelo menos metade das partidas jogada equivale ao valor $P=50\\%=0,5$. Substituindo esse valor na equação, chegamos a:\n",
    "\n",
    "$$ 0,5 = \\frac{1+p}{2}(\\frac{p}{1-p+p^2})^{21}.$$\n",
    "\n",
    "Aplicando o método da secante à equação acima, temos que, em 12 iterações, o resultado o valor de p necessário para garantir a condição desejada é $p=$__1,2168256914196003__."
   ]
  },
  {
   "cell_type": "code",
   "execution_count": 4,
   "metadata": {},
   "outputs": [
    {
     "name": "stdout",
     "output_type": "stream",
     "text": [
      "Método da Secante, com p0 = 0.0 e p1 = 1.0  tolerância de 1e-06 \n",
      "n\t pn\t         f(pn)\n",
      "0 \t 0.0000000000 \t -0.5000000000\n",
      "1 \t 1.0000000000 \t 0.5000000000\n",
      "2 \t 0.5000000000 \t -0.4998496357\n",
      "3 \t 0.7499624033 \t -0.3371648009\n",
      "4 \t 1.2680102229 \t -0.1434806001\n",
      "5 \t 1.6517782933 \t -0.4891578872\n",
      "6 \t 1.1087192453 \t 0.3438681440\n",
      "7 \t 1.3328907597 \t -0.2819833353\n",
      "8 \t 1.2318881522 \t -0.0450238773\n",
      "9 \t 1.2126969832 \t 0.0126884633\n",
      "10 \t 1.2169162964 \t -0.0002768767\n",
      "11 \t 1.2168261924 \t -0.0000015309\n",
      "12 \t 1.2168256914 \t 0.0000000002\n",
      "A raiz da função, dentro dos parâmetros de tolerância, é 1.2168256914196003\n",
      "O método da Secante foi encerrado após 12 iterações.\n"
     ]
    }
   ],
   "source": [
    "# Solução da equação ((1+x)/2)*(x/(1-x+x**2))**21-0.5 = 0\n",
    "metodo_Secante(lambda x:(((1+x)/2)*(x/(1-x+x**2))**21-0.5), 0.0, 1.0, 1, 0.000001, 30)"
   ]
  },
  {
   "cell_type": "code",
   "execution_count": 12,
   "metadata": {},
   "outputs": [
    {
     "name": "stdout",
     "output_type": "stream",
     "text": [
      "Digite a função f(x): ((1+x)/2)*(x/(1-x+x**2))**21-0.5\n",
      "-0.500000000000000\n"
     ]
    }
   ],
   "source": [
    "x = sp.symbols('x') #Define x como a variável da função f(x) a ser especificada pelo usuário \n",
    "fx = sp.sympify(input(\"Digite a função f(x): \")) #Solicita que o usuário entre com a função f(X)\n",
    "\n",
    "print(fx.subs(x,0))\n"
   ]
  }
 ],
 "metadata": {
  "kernelspec": {
   "display_name": "Python 3",
   "language": "python",
   "name": "python3"
  },
  "language_info": {
   "codemirror_mode": {
    "name": "ipython",
    "version": 3
   },
   "file_extension": ".py",
   "mimetype": "text/x-python",
   "name": "python",
   "nbconvert_exporter": "python",
   "pygments_lexer": "ipython3",
   "version": "3.6.2"
  }
 },
 "nbformat": 4,
 "nbformat_minor": 2
}
