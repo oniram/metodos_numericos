{
 "cells": [
  {
   "cell_type": "code",
   "execution_count": 2,
   "metadata": {},
   "outputs": [],
   "source": [
    "# Algoritmo Quadratura Gaussiana - Polinômio de Legendre\n",
    "\n",
    "# Algoritmo extraído do livro Numerical Methods for Engineering with Python\n",
    "\n",
    "from math import cos, pi\n",
    "from numpy import zeros\n",
    "\n",
    "def gaussNodes (m,tol=10e-9):\n",
    "    \n",
    "    def legendre(t,m):\n",
    "        p0 = 1.0\n",
    "        p1 = t\n",
    "        for k in range(1,m):\n",
    "            p = ((2.0 * k + 1.0) * t * p1 - k * p0) / (1.0 + k)\n",
    "            p0 = p1\n",
    "            p1 = p\n",
    "        \n",
    "        dp = m*(p0 - t * p1) / (1.0 - t**2)\n",
    "        return p,dp\n",
    "    \n",
    "    A = zeros(m)\n",
    "    x = zeros(m)\n",
    "    nRoots = (m + 1) / 2   #Number of non-negative roots\n",
    "    \n",
    "    for i in range(nRoots):\n",
    "        t = cos(pi * (i + 0.75) / (m + 0.5)) #Approximation of roots\n",
    "        for j in range(30):\n",
    "            p,dp = legendre(t,m)\n",
    "            dt = -p / dp         # método de Newton-Raphson\n",
    "            t = t + dt\n",
    "            if abs(dt) < tol:\n",
    "                x[i] = t\n",
    "                x[m - i - 1] = -t\n",
    "                A[i] = 2.0 / (1.0 - t**2) / (dp**2)\n",
    "                A[m - i - 1] = A[i]\n",
    "                break\n",
    "                \n",
    "    return x,A\n",
    "\n",
    "def gaussQuad(f,a,b,m):\n",
    "    c1 = (b + a) / 2.0\n",
    "    c2 = (b - a) / 2.0\n",
    "    x,A = gaussNodes(m)\n",
    "    soma = 0.0\n",
    "    \n",
    "    for i in range (len(x)):\n",
    "        soma = soma + A[i] * f(c1 + c2 * x[i])\n",
    "    \n",
    "    return c2 * sum"
   ]
  },
  {
   "cell_type": "markdown",
   "metadata": {},
   "source": [
    "# Exercícios 4.4 #"
   ]
  },
  {
   "cell_type": "markdown",
   "metadata": {},
   "source": [
    "## Questão 1 ##\n",
    "\n",
    "**Utilize a regra dos Trapézios Composta com os valores indicados de $n$ para obter uma aproximação das seguintes integrais.** \n",
    "\n",
    "a. $∫^{2}_{1} ln x dx, \\quad \\quad n = 4$\n",
    "\n",
    "b. $∫^{2}_{-2} x^{3} e^{x} dx, \\quad \\quad n = 4$\n",
    "\n",
    "c. $∫^{2}_{0} \\frac {2}{x^{2} + 4} dx, \\quad \\quad n = 6$\n",
    "\n",
    "d. $∫^{pi}_{0} x^{2} cos x dx, \\quad \\quad n = 6$\n",
    "\n",
    "e. $∫^{2}_{0} e^{2x} sen 3x dx,  \\quad \\quad n= 8$\n",
    "\n",
    "f. $∫^{3}_{1} \\frac {x}{x^{2}+4} dx, \\quad \\quad \\quad n = 8$\n"
   ]
  },
  {
   "cell_type": "markdown",
   "metadata": {},
   "source": []
  },
  {
   "cell_type": "markdown",
   "metadata": {},
   "source": [
    "## Questão 3 ##\n",
    "\n",
    "**Utilize a regra de Simpson Composta para obter uma aproximação das integrais no Exercicio 1.**\n",
    "\n",
    "a. $∫^{2}_{1} ln x dx, \\quad \\quad n = 4$\n",
    "\n",
    "b. $∫^{2}_{-2} x^{3} e^{x} dx, \\quad \\quad n = 4$\n",
    "\n",
    "c. $∫^{2}_{0} \\frac {2}{x^{2} + 4} dx, \\quad \\quad n = 6$\n",
    "\n",
    "d. $∫^{pi}_{0} x^{2} cos x dx, \\quad \\quad n = 6$\n",
    "\n",
    "e. $∫^{2}_{0} e^{2x} sen 3x dx,  \\quad \\quad n= 8$\n",
    "\n",
    "f. $∫^{3}_{1} \\frac {x}{x^{2}+4} dx, \\quad \\quad \\quad n = 8$"
   ]
  },
  {
   "cell_type": "markdown",
   "metadata": {},
   "source": []
  },
  {
   "cell_type": "markdown",
   "metadata": {},
   "source": [
    "## Questão 5 ##\n",
    "\n",
    "**Use a Regra do Ponto Médio Composta, com $n+2$ subintervalos, para aproximar as integrais no exercíco 1**\n",
    "\n",
    "a. $∫^{2}_{1} ln x dx, = 4$\n",
    "\n",
    "b. $∫^{2}_{-2} x^{3} e^{x} dx, n = 4$\n",
    "\n",
    "c. $∫^{2}_{0} \\frac {2}{x^{2} + 4} dx, n = 6$\n",
    "\n",
    "d. $∫^{pi}_{0} x^{2} cos x dx, n = 6$\n",
    "\n",
    "e. $∫^{2}_{0} e^{2x} sen 3x dx, n= 8$\n",
    "\n",
    "f. $∫^{3}_{1} \\frac {x}{x^{2}+4} dx, n = 8$"
   ]
  },
  {
   "cell_type": "markdown",
   "metadata": {},
   "source": []
  },
  {
   "cell_type": "markdown",
   "metadata": {},
   "source": [
    "## Questão 15 ##\n",
    "\n",
    "**Seja $f$ definida por:**\n",
    "\n",
    "$$ \\begin{equation} \n",
    "    f(x) = \\begin{cases}\n",
    "        x^3+1, & 0\\leq x \\leq 0.1, \\\\\n",
    "        1.001+0.03(x-0.1)+0.3(x-0.1)^2+2(x-0.1)^3, & 0.1 \\leq x \\leq 0.2, \\\\\n",
    "        1.009 + 0.15(x-0.2) + 0.9 (x-0.2)^2 + 2(x-0.2)^3, & 0.2 \\leq x \\leq 0.3,\n",
    "    \\end{cases}\n",
    "\\end{equation}$$\n",
    "\n",
    "**a) Investigue a continuidade das derivadas de f**\n",
    "\n",
    "**b) Use a Regra do Trapézio Composta com $n=6$ para aproximar $\\int_0^{0.3}f(x)\\,dx$ e estime o erro usando o limitante do erro.**\n",
    "\n",
    "**c) Use a Regra de Simpson Composta com $n=6$ para aproximar $\\int_0^{0.3}f(x)\\,dx$. Os resultados são mais precisos que os obtidos na parte b)?**"
   ]
  },
  {
   "cell_type": "markdown",
   "metadata": {},
   "source": [
    "## Questão 17 ##\n",
    "\n",
    "**a) Deduza uma estimativa para $E(f)$ na regra do Trapézio Composta utilizando o método no exercício 16.** \n",
    "\n",
    "$$E(f) = -\\frac{h^{3}}{12} Σ^{n}_{j = 1} f\"(ε_{j}) = - \\frac{h^{2}}{12} Σ^{n}_{j = 1} f\"(ε_{j}h) = -\\frac{h^{2}}{12} Σ^{n}_{j = 1} f\"(ε_{j}) ∆x_{j}$$\n",
    "\n",
    "\n",
    "onde $∆x_{j} = x_{j+1} - x_{j} = h$ para cada $j$. $ E(f) = -\\frac{h^{2}}{12} Σ^{n}_{j = 1} f\"(ε_{j}) ∆x_{j}$ é soma de Riemann para $∫^{b}_{a} f\"(x) dx = f'(b) - f'(a)$, então\n",
    "\n",
    "$$ E(f) = \\frac{h^{2}}{12} [f'(b) - f'(a)]. $$\n",
    "   \n",
    "  \n",
    "**b) Repita a parte (a) para a regra do Ponto Médio.**\n",
    " \n",
    " $$ E(f) = \\frac {h^{3}}{12} Σ^{n/2}_{j = 1} f\"(ε_{j}) = \\frac{h^{2}}{6}$$\n",
    " \n",
    " mas $Σ^{n/2}_{j = 1} f\"(ε_{j})(2h)$ é soma de Riemann $∫^{b}_{a} f\"(x) dx = f'(b) - f'(a)$, então\n",
    " \n",
    " $$ E(f) = \\frac{h^{2}}{6}[f'(b) - f'(a)]$$."
   ]
  },
  {
   "cell_type": "markdown",
   "metadata": {},
   "source": [
    "# Exercícios 4.6 #"
   ]
  },
  {
   "cell_type": "markdown",
   "metadata": {},
   "source": [
    "## Questão 5 ##\n",
    "\n",
    "**Use a Regra Composta de Simpson com $n=4,6,8,...$ até que as aproximaçãoes sucessivas das seguintes integrais tenham precisão de 10^{-6}. Determine o número de nós requeridos. Use o Algoritmo da Quadratura Adaptativa para aproximar a integral com erro $\\lt 10^{-6}$, e conte o número de nós. A Quadratura Adaptativa produziu alguma melhora?**\n",
    "\n",
    "**a. ${\\displaystyle \\int_{0}^{\\pi}}x\\,cos(x^2)\\,dx $**\n",
    "\n",
    "**b. ${\\displaystyle \\int_{0}^{\\pi}}x\\,sen(x^2)\\,dx $**\n",
    "\n",
    "**c. ${\\displaystyle \\int_{0}^{\\pi}}x^2\\,cos(x)\\,dx $**\n",
    "\n",
    "**d. ${\\displaystyle \\int_{0}^{\\pi}}x^2\\,sen(x)\\,dx $**"
   ]
  },
  {
   "cell_type": "markdown",
   "metadata": {},
   "source": []
  },
  {
   "cell_type": "markdown",
   "metadata": {},
   "source": [
    "# Exercícios 4.7 #"
   ]
  },
  {
   "cell_type": "markdown",
   "metadata": {},
   "source": [
    "## Questão 3 ##\n",
    "\n",
    "**Repita o exercício 1, com $n=4$.**"
   ]
  },
  {
   "cell_type": "markdown",
   "metadata": {},
   "source": []
  },
  {
   "cell_type": "markdown",
   "metadata": {},
   "source": [
    "## Questão 5 ##\n",
    "\n",
    "**Determine as constantes $a, b, c e d$ que produzam uma fórmula de quadratura**\n",
    "\n",
    "$$∫^{1}_{-1} f(x) dx = af (-1) + bf(-1)  + cf'(-1) + df'(1)$$\n",
    "\n",
    "Que tenha ordem de precisão 4. "
   ]
  },
  {
   "cell_type": "markdown",
   "metadata": {},
   "source": []
  },
  {
   "cell_type": "markdown",
   "metadata": {},
   "source": [
    "## Questão 7 ##\n",
    "\n",
    "**Verifique as entradas para os valorss de $n=2$ e $3$ na tabela 4.11 achando as raízes dos respectivos polinômios de Legendre, e use as equações precedentes à tabela para encontrar os coeficientes associados a esses valores.**"
   ]
  },
  {
   "cell_type": "markdown",
   "metadata": {},
   "source": []
  }
 ],
 "metadata": {
  "kernelspec": {
   "display_name": "Python 3",
   "language": "python",
   "name": "python3"
  },
  "language_info": {
   "codemirror_mode": {
    "name": "ipython",
    "version": 3
   },
   "file_extension": ".py",
   "mimetype": "text/x-python",
   "name": "python",
   "nbconvert_exporter": "python",
   "pygments_lexer": "ipython3",
   "version": "3.6.4"
  }
 },
 "nbformat": 4,
 "nbformat_minor": 2
}
