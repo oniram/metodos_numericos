{
 "cells": [
  {
   "cell_type": "markdown",
   "metadata": {},
   "source": [
    "# 4.4 Integração Numérica Composta"
   ]
  },
  {
   "cell_type": "markdown",
   "metadata": {},
   "source": []
  },
  {
   "cell_type": "markdown",
   "metadata": {},
   "source": [
    "# 4.6 Método das Quadraturas Adaptativas"
   ]
  },
  {
   "cell_type": "markdown",
   "metadata": {},
   "source": []
  },
  {
   "cell_type": "markdown",
   "metadata": {},
   "source": [
    "# 4.7 Quadratura Gaussiana"
   ]
  },
  {
   "cell_type": "markdown",
   "metadata": {},
   "source": [
    "Vimos nos métodos abordados anteriormente, que os pontos $x_1,x_2,...,x_n$ selecionados eram igualmente espaçados. Essa abordagem, apesar de ser conveniente, não é a mais indicada para calcular integrais do tipo:\n",
    "\n",
    "$$\\int_a^b w(x)\\, f(x)\\, dx$$\n",
    "\n",
    "A técnica da _Quadratura Gaussiana_ busca a melhor aproximação da integral, utilizando para isso os __valores ótimos das abcissas__ $x_1, x_2,...,x_n$. Dessa forma, garante-se a minimização do erro obtido pela aproximação:\n",
    "\n",
    "$$\\int_a^b w(x)\\, f(x)\\, dx \\approx \\sum_{i=1}^n c_i\\, f(x_i)$$\n",
    "\n",
    "Os coeficientes $c_1, c_2,...,c_n$, na equação acima, são chamados de __pesos__. Na Quadratura Gaussiana, os valores dos diferentes $x_i$ e $c_i$ são escolhidos de forma a garantir que o __grau de precisão__ 2n+1. \n",
    "\n",
    "> __Grau de precisão:__ Diz-se que um método numérico tem grau de precisão _n_, quando ele é exato para todo polinômio de grau N ou menor.\n",
    "\n",
    "Se tomarmos como exemplo o valor de $n=2$, teremos que a integração será precisa para um polinômio de grau 3 (2 . 2 - 1). Uma maneira de determinar os coeficientes é assumir que $f(x)= 1 + x + x^2 + x^3$. Dessa maneira, temos:\n",
    "\n",
    "$$\\int(1+x+x^2+x^3)dx = \\int 1\\,dx + \\int x\\,dx + \\int x^2\\,dx + \\int x^3\\,dx$$\n",
    "\n",
    "$$c_1 . 1 + c_2  . 1 = \\int_{-1}^1 1\\,dx = 2 \\quad \\quad c_1 . x_1 + c_2 . x_2 = \\int_{-1}^1 x\\,dx = 0$$\n",
    "\n",
    "$$c_1 . x_1^2 + c_2  . x_2^2 = \\int_{-1}^1 x^2\\,dx = \\frac{2}{3} \\quad \\quad c_1 . x_1^3 + c_2 . x_2^3 = \\int_{-1}^1 x^3\\,dx = 0$$\n",
    "\n",
    "Resolvendo o sistema de equações acima, temos:\n",
    "\n",
    "$$c_1 = 1\\,,\\, \\, c_2 = 1\\,,\\, \\, x_1 = -\\frac{\\sqrt{3}}{3} \\quad e \\quad x_2 = \\frac{\\sqrt{3}}{3}$$\n",
    "\n",
    "A mesma técnica pode ser aplicada para diferentes valores de n. No entanto, uma forma alternativa, e mais simples, de se obter resultados de grau superior é a utilização de __polinômios ortogonais__.\n",
    "\n",
    ">__Polinômios ortogonais:__ São polinômios $P_n(x)$, que respeitam a relação:\n",
    "$$\\int_a^bw(x)\\,P_m(x)\\,P_n(x)\\, dx = 0\\, , \\quad se\\quad m\\ne n$$\n",
    "Onde $w(x)$ é a função-peso.\n",
    "\n",
    "Existem alguns tipos de polinômios ortogonais, que serão usados dependendo dos limites de integração, e da função peso. Dentre eles, o mais utilizado é o __polinômio de Legendre__, que assumo que o limite de integração é [-1,1], e $w(x) = 1$, além de $P_n(x)$ ser um __polinômio mônico__ (o coeficiente do x de maior expoente é 1) para cada n.\n",
    "\n",
    "O polinômio de Legendre pode ser obtido através da seguinte fórmula:\n",
    "\n",
    "$$P_n(x) = \\frac{(-1)^n}{2^nn!}\\frac{d^n}{dx^n}[(1-x^2)^n]$$\n",
    "\n",
    "Já o __erro de truncamento__ pode ser calculado pela fórmula:\n",
    "\n",
    "$$E = \\frac{2^{2n+3}[(n+1)!]^4}{(2n+3)[(2n+2)!]^3}f^{2n+2}(c)\\, , \\quad \\quad -1<c<1$$\n",
    "\n",
    "É importante observar, no entanto, que nem todos os intervalos de integração serão equivalentes a [-1,1], Nesse caso, o intervalo (a,b) deve ser __mapeado__ utilizando a transformação:\n",
    "\n",
    "$$x= \\frac{b+a}{2}+\\frac{b-a}{2}\\xi$$"
   ]
  },
  {
   "cell_type": "markdown",
   "metadata": {},
   "source": []
  },
  {
   "cell_type": "markdown",
   "metadata": {},
   "source": [
    "# Referências:\n",
    "\n",
    "* BURDEN, R.L.;FAIRES,D.J.;BURDEN, A.M. **Numerical Analysis**. 8 ed. Boston, MA: Cengage Learning, 2014, cap. 4, p.167-247. ISBN 978-1-305-25366-7"
   ]
  }
 ],
 "metadata": {
  "kernelspec": {
   "display_name": "Python 3",
   "language": "python",
   "name": "python3"
  },
  "language_info": {
   "codemirror_mode": {
    "name": "ipython",
    "version": 3
   },
   "file_extension": ".py",
   "mimetype": "text/x-python",
   "name": "python",
   "nbconvert_exporter": "python",
   "pygments_lexer": "ipython3",
   "version": "3.6.4"
  }
 },
 "nbformat": 4,
 "nbformat_minor": 2
}
