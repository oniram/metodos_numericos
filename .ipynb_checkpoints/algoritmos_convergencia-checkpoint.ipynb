{
 "cells": [
  {
   "cell_type": "markdown",
   "metadata": {},
   "source": [
    "# Algoritmos e Convergência #"
   ]
  },
  {
   "cell_type": "markdown",
   "metadata": {},
   "source": [
    "## Algoritmos\n",
    "\n",
    "São procedimentos que descrevem, sem ambiguidades, uma sequência finita de passos a serem feitos em uma ordem específica. O objetivo do algoritmo é implementar um procedimento para resolver um problema ou aproximar uma solução do problema.\n",
    "\n",
    "Por motivo de simplicidade, o livro faz uso de um pseudocódigo para representar os algorítmos. No entanto, como o foco de nossa disciplina é a utilização da linguagem PYTHON, todos os códigos aqui utilizados serão feitos utilizando essa linguagem.\n",
    "\n",
    "Um exemplo de algoritmo é a geração da sequência de Fibonacci."
   ]
  },
  {
   "cell_type": "code",
   "execution_count": 39,
   "metadata": {},
   "outputs": [
    {
     "name": "stdout",
     "output_type": "stream",
     "text": [
      "O 7º elemento da sequência de Fibonacci é \u001b[1m21\n"
     ]
    }
   ],
   "source": [
    "import numpy\n",
    "n=7\n",
    "f=[]\n",
    "f.insert(0,1)\n",
    "f.insert(1,1)\n",
    "         \n",
    "for i in range(2,n+1):\n",
    "    if i==2:\n",
    "        f.insert(2,2)\n",
    "    else:\n",
    "        f.insert(i,f[i-1]+f[i-2])\n",
    "\n",
    "print('O '+str(n)+'º elemento da sequência de Fibonacci é '+'\\033[1m'+ str(f[n])) "
   ]
  },
  {
   "cell_type": "markdown",
   "metadata": {},
   "source": [
    "Como pode ser visto no exemplo acima, o algoritmo que gera a sequência de Fibonacci é bastante simples, e usa como entrada o número n, e tem como saída o nº número da série de Fibonacci.É importante destacar aqui que algoritmos diferentes podem apresentar exatamente o mesmo resultado, não estando o programador preso a uma única forma para alcançar o resultado desejado. Um exemplo disso é que o algoritmo mostrado abaixo produzirá exatamente o mesmo resultado que o anterior:"
   ]
  },
  {
   "cell_type": "code",
   "execution_count": 41,
   "metadata": {
    "scrolled": true
   },
   "outputs": [
    {
     "name": "stdout",
     "output_type": "stream",
     "text": [
      "O 7º Termo da sequência de Fibonacci é \u001b[1m21\n"
     ]
    }
   ],
   "source": [
    "import numpy\n",
    "n=7\n",
    "aux=0\n",
    "f=[0,1]\n",
    "for i in range (0, n):\n",
    "    aux=f[0]\n",
    "    f[0]=f[1]\n",
    "    f[1]+=aux\n",
    "print (\"O \" + str(n) + \"º Termo da sequência de Fibonacci é \"+'\\033[1m'+ str(f[1]))"
   ]
  },
  {
   "cell_type": "markdown",
   "metadata": {},
   "source": [
    "Entender que existem diversas formas de chegar ao mesmo resultado é o primeiro passo para buscar a elaboração de algoritmos mais eficientes, e que podem apresentar menor erros. Isso é especialmente importante quando se trata de algoritmos que produzam resultados numéricos, e mais complexos, cuja precisão dos resultados intermediários e finais é de grande importância. Um exemplo de algoritmo que possui um erro associado ao resultado é o cálculo do valor de $e^x$ utilizando-se sua expansão em uma série de Taylor, como mostrado abaixo."
   ]
  },
  {
   "cell_type": "code",
   "execution_count": 62,
   "metadata": {},
   "outputs": [
    {
     "name": "stdout",
     "output_type": "stream",
     "text": [
      "54.5978829056501\n",
      "Estimativa do erro:0.0008211079534\n"
     ]
    }
   ],
   "source": [
    "def fatorial(a):\n",
    "    fat=1\n",
    "    for i in range(1,a+1):\n",
    "        fat=fat*i\n",
    "    return (fat)\n",
    "\n",
    "#Calcula e**x por n termos da série de Taylor\n",
    "def exp_serie_Taylor(x, n):\n",
    "    exponencial=0\n",
    "    for i in range(0,n+1):\n",
    "        exponencial += (x**i)/fatorial(i)\n",
    "    return exponencial\n",
    "\n",
    "print (exp_serie_Taylor(4, 15))\n",
    "print ('Estimativa do erro:'+ \"%6.13f\" %(exp_serie_Taylor(4, 15)-exp_serie_Taylor(4, 14)))"
   ]
  },
  {
   "cell_type": "markdown",
   "metadata": {},
   "source": [
    "O resultado de saída de um algoritmo normalmente depende dos seus parâmetros de entrada. Porém em alguns algoritmos, dependendo dos valores de entrada que são fornecidos, podem ocorrer saídas indesejadas: valores que não fazem sentido físico ou causam um erro computacional.\n",
    "\n",
    "Para evitar comportamentos indesejáveis, uma opção é a incorporação de critérios de parada que avaliam a saída do algoritmo a cada iteração, e decidem se o algoritmo será encerrado ou não. Esta abordagem, é de grande utilidade para evitar erros como laços infinitos e divisões por zero, por exemplo.\n",
    "\n",
    "Quando métodos numéricos são utilizados para a realização de cálculos mais complexos, em que a precisão dos resultados seja importante, é recomendável utilizar critérios que avaliem se o resultado alcançado é suficientemente bom, dentro de um erro aceitável: como um número de casas decimais suficientemente adequado, ou um critério no qual a diferença entre o resultado da iteração anterior em relação ao resultado atual seja considerada insignificante, não fazendo mais sentido novas iterações, sendo o algoritmo finalizado e último resultado adotado como a sua saída final.\n",
    "\n",
    "Considerando a saída de um algoritmo, estes podem ser classificados em: \n",
    "\n",
    "1. Estáveis, quando pequenas alterações nos dados de entrada produzem alterações correspondentemente pequenas na saída;\n",
    "\n",
    "2. Instáveis, quando pequenas alterações nos dados de entrada produzem grandes alterações na saída;\n",
    "\n",
    "3. Condicionalmente estáveis, quando se comportam como algoritmos instáveis apenas para certas escolhas de valores de entrada.\n",
    "\n",
    "O gráfico abaixo traz um exemplo de comportamento instável e estável de algoritmos, que apresentam erros do tipo exponencial ($E\\approx C^n .E_0$) e linear ($E\\approx C.n .E_0$), respectivamente."
   ]
  },
  {
   "cell_type": "code",
   "execution_count": 47,
   "metadata": {},
   "outputs": [
    {
     "data": {
      "image/png": "[encoded data removed]",
      "text/plain": [
       "<matplotlib.figure.Figure at 0x25e6600b208>"
      ]
     },
     "metadata": {},
     "output_type": "display_data"
    }
   ],
   "source": [
    "import numpy as np\n",
    "import matplotlib.pyplot as plt\n",
    "\n",
    "t = np.arange(1., 5.,0.2)\n",
    "\n",
    "plt.plot(t, 2.5*t, 'k', t, 1.5*2**t, 'r')\n",
    "\n",
    "plt.annotate('Erro de um algoritmo estável', xy=(3, 7.5), xytext=(3, 1.5),\n",
    "            arrowprops=dict(facecolor='black', shrink=0.05),\n",
    "            )\n",
    "plt.annotate('Erro de um algoritmo instável', xy=(3, 12), xytext=(2, 25),\n",
    "            arrowprops=dict(facecolor='red', shrink=0.05),\n",
    "            )\n",
    "plt.show()"
   ]
  },
  {
   "cell_type": "markdown",
   "metadata": {},
   "source": [
    "**Análise do crescimento do erro de algorítmos estáveis e instáveis**\n",
    "\n",
    "Se um algoritmo possuir uma função onde suas entradas possam gerar erros de arredondamento, nós poderemos classificar esse erro de acordo com sua variação em relação à variação da entrada em diversas em linear ou exponencial depois de n execuções do algoritmo comparando o módulo do erro relativo de cada execução da função.\n",
    "\n",
    "\n",
    "Um algoritmo que gere somente um erro linear é considerado estável, enquanto um exponencial é considerando instável.\n",
    "\n",
    "\n",
    "Vejamos com exemplos para ficar mais claro:\n",
    "\n",
    "\n",
    "Uma função que calcule o juros simples de uma aplicação monetária ao longo de um período variável t. O capita e a taxa de juros será fixa. \n",
    "Essa função deverá imprimir o valor do juros em cada período t com duas casas decimais, utilizando o arredondamento.\n",
    "Como o arredondamento gera um erro relativo, vamos calculá-lo e gerar um gráfico para verificar se teremos um algoritmo que gere erros de forma linear(estável) ou exponencial(instável)\n",
    "\n",
    "Considerando capital como 1 e taxa de juros como 0,01. Essa função seria escrita assim:"
   ]
  },
  {
   "cell_type": "code",
   "execution_count": 27,
   "metadata": {},
   "outputs": [
    {
     "name": "stdout",
     "output_type": "stream",
     "text": [
      "Juros real 0.01\n",
      "Juros arredondado 0.01\n",
      "\n",
      "Juros real 0.02\n",
      "Juros arredondado 0.02\n",
      "\n",
      "Juros real 0.03\n",
      "Juros arredondado 0.03\n",
      "\n",
      "Juros real 0.04\n",
      "Juros arredondado 0.04\n",
      "\n",
      "Juros real 0.05\n",
      "Juros arredondado 0.05\n",
      "\n",
      "Juros real 0.06\n",
      "Juros arredondado 0.06\n",
      "\n",
      "Juros real 0.07\n",
      "Juros arredondado 0.07\n",
      "\n",
      "Juros real 0.08\n",
      "Juros arredondado 0.08\n",
      "\n",
      "Juros real 0.09\n",
      "Juros arredondado 0.09\n",
      "\n",
      "Juros real 0.1\n",
      "Juros arredondado 0.1\n",
      "\n"
     ]
    }
   ],
   "source": [
    "def calcula_juros(t):\n",
    "\tc = 1\n",
    "\ti = 0.01\n",
    "\treturn (c * i * t)\n",
    "\n",
    "for x in range(1, 11):\n",
    "    print(\"Juros real {}\".format(calcula_juros(x))) \n",
    "    print(\"Juros arredondado {}\".format(round(calcula_juros(x),2))) \n",
    "    print(\"\")"
   ]
  },
  {
   "cell_type": "markdown",
   "metadata": {},
   "source": [
    "A partir dos resultados acima, vamos montar uma tabela com os resultados sem o arredondamento\n",
    "feito pelo algoritmo e calcular o erro relativo:"
   ]
  },
  {
   "cell_type": "code",
   "execution_count": 2,
   "metadata": {},
   "outputs": [
    {
     "data": {
      "text/html": [
       "<iframe id=\"igraph\" scrolling=\"no\" style=\"border:none;\" seamless=\"seamless\" src=\"https://plot.ly/~oniram/3.embed\" height=\"320px\" width=\"100%\"></iframe>"
      ],
      "text/plain": [
       "<plotly.tools.PlotlyDisplay object>"
      ]
     },
     "execution_count": 2,
     "metadata": {},
     "output_type": "execute_result"
    }
   ],
   "source": [
    "import plotly.plotly as py\n",
    "import plotly.figure_factory as ff\n",
    "import pandas as pd\n",
    "\n",
    "\n",
    "df = pd.read_csv(\"https://raw.githubusercontent.com/oniram/metodos_numericos/master/juros_simples.csv\")\n",
    "\n",
    "table = ff.create_table(df)\n",
    "py.iplot(table, filename='table1')"
   ]
  },
  {
   "cell_type": "code",
   "execution_count": 6,
   "metadata": {
    "scrolled": true
   },
   "outputs": [
    {
     "data": {
      "text/html": [
       "<iframe id=\"igraph\" scrolling=\"no\" style=\"border:none;\" seamless=\"seamless\" src=\"https://plot.ly/~oniram/5.embed\" height=\"525px\" width=\"100%\"></iframe>"
      ],
      "text/plain": [
       "<plotly.tools.PlotlyDisplay object>"
      ]
     },
     "execution_count": 6,
     "metadata": {},
     "output_type": "execute_result"
    }
   ],
   "source": [
    "import plotly.plotly as py\n",
    "import plotly.figure_factory as ff\n",
    "import pandas as pd\n",
    "import plotly.graph_objs as go\n",
    "\n",
    "\n",
    "\"\"\"Devido ao uso da biblioteca plotly, para compilar as próximas seções, primeiro deve resolver a dependência.\n",
    "No final do arquivo existe os links com as informações para instalação da biblioteca\n",
    "Para compilar pela primeira vez, descomente a linha abaixo, trocando username e api_key pelos seus dados.\n",
    "plotly.tools.set_credentials_file(username='DemoAccount', api_key='lr1c37zw81') \"\"\"\n",
    "\n",
    "\n",
    "df = pd.read_csv(\"https://raw.githubusercontent.com/oniram/metodos_numericos/master/juros_simples.csv\")\n",
    "trace = go.Scatter(x = df['t'], y = df['erro_relativo'],\n",
    "                  name='Juros Calculado pelo Algoritmo')\n",
    "layout = go.Layout(title='Juros Calculado pelo Algoritmo',\n",
    "                   plot_bgcolor='rgb(230, 230,230)', \n",
    "                   showlegend=True)\n",
    "fig = go.Figure(data=[trace], layout=layout)\n",
    "\n",
    "py.iplot(fig, filename='juros_simples')"
   ]
  },
  {
   "cell_type": "markdown",
   "metadata": {},
   "source": [
    "Analisando o gráfico do erro relativo, podemos perceber que trata-se de um algoritmo estável, pois gera erros de forma linear. E nesse exemplo, o erro nem é gerado, ficando constante como 0.\n",
    "\n",
    "Agora consideraremos outra função que calcule o montante acumulado em uma aplicação monetária do mesmo capital, sobre a mesma taxa de juros, e nos mesmos períodos t."
   ]
  },
  {
   "cell_type": "code",
   "execution_count": 14,
   "metadata": {},
   "outputs": [
    {
     "name": "stdout",
     "output_type": "stream",
     "text": [
      "Montante real 1.01\n",
      "Montante arredondado 1.01\n",
      "\n",
      "Montante real 1.0201\n",
      "Montante arredondado 1.02\n",
      "\n",
      "Montante real 1.0303010000000001\n",
      "Montante arredondado 1.03\n",
      "\n",
      "Montante real 1.04060401\n",
      "Montante arredondado 1.04\n",
      "\n",
      "Montante real 1.0510100501000001\n",
      "Montante arredondado 1.05\n",
      "\n",
      "Montante real 1.0615201506010001\n",
      "Montante arredondado 1.06\n",
      "\n",
      "Montante real 1.07213535210701\n",
      "Montante arredondado 1.07\n",
      "\n",
      "Montante real 1.0828567056280802\n",
      "Montante arredondado 1.08\n",
      "\n",
      "Montante real 1.0936852726843609\n",
      "Montante arredondado 1.09\n",
      "\n",
      "Montante real 1.1046221254112045\n",
      "Montante arredondado 1.1\n",
      "\n"
     ]
    }
   ],
   "source": [
    "def calcula_montante(t):\n",
    "\tc = 1\n",
    "\ti = 0.01;\n",
    "\treturn( c * (1+i) ** t)\n",
    "\n",
    "for x in range(1, 11):\n",
    "    print(\"Montante real {}\".format(calcula_montante(x))) \n",
    "    print(\"Montante arredondado {}\".format(round(calcula_montante(x),2))) \n",
    "    print(\"\")\n",
    "    "
   ]
  },
  {
   "cell_type": "markdown",
   "metadata": {},
   "source": [
    "A partir dos dados acima, iremos montar uma tabela e gráfico análogos ao exemplo anterior, afim de compararmos"
   ]
  },
  {
   "cell_type": "code",
   "execution_count": 4,
   "metadata": {
    "scrolled": true
   },
   "outputs": [
    {
     "data": {
      "text/html": [
       "<iframe id=\"igraph\" scrolling=\"no\" style=\"border:none;\" seamless=\"seamless\" src=\"https://plot.ly/~oniram/7.embed\" height=\"380px\" width=\"100%\"></iframe>"
      ],
      "text/plain": [
       "<plotly.tools.PlotlyDisplay object>"
      ]
     },
     "execution_count": 4,
     "metadata": {},
     "output_type": "execute_result"
    }
   ],
   "source": [
    "import plotly.plotly as py\n",
    "import plotly.figure_factory as ff\n",
    "import pandas as pd\n",
    "\n",
    "df = pd.read_csv(\"https://raw.githubusercontent.com/oniram/metodos_numericos/master/montante.csv\")\n",
    "\n",
    "table = ff.create_table(df)\n",
    "py.iplot(table, filename='table2')"
   ]
  },
  {
   "cell_type": "code",
   "execution_count": 5,
   "metadata": {},
   "outputs": [
    {
     "data": {
      "text/html": [
       "<iframe id=\"igraph\" scrolling=\"no\" style=\"border:none;\" seamless=\"seamless\" src=\"https://plot.ly/~oniram/9.embed\" height=\"525px\" width=\"100%\"></iframe>"
      ],
      "text/plain": [
       "<plotly.tools.PlotlyDisplay object>"
      ]
     },
     "execution_count": 5,
     "metadata": {},
     "output_type": "execute_result"
    }
   ],
   "source": [
    "import plotly.graph_objs as go\n",
    "df = pd.read_csv(\"https://raw.githubusercontent.com/oniram/metodos_numericos/master/montante.csv\")\n",
    "trace = go.Scatter(x = df['t'], y = df['erro_relativo'],\n",
    "                  name='Erro Relativo')\n",
    "layout = go.Layout(title='Erro Relativo Exponencial',\n",
    "                   plot_bgcolor='rgb(230, 230,230)', \n",
    "                   showlegend=True)\n",
    "fig = go.Figure(data=[trace], layout=layout)\n",
    "\n",
    "py.iplot(fig, filename='montante')"
   ]
  },
  {
   "cell_type": "markdown",
   "metadata": {},
   "source": [
    "Analisando o gráfico do erro relativo acima, podemos perceber que trata-se de um algoritmo instável, pois gera erros de forma exponencial."
   ]
  },
  {
   "cell_type": "markdown",
   "metadata": {},
   "source": [
    "---\n",
    "**Um caso especial: Estabilidade de algoritmos de organização de elementos**\n",
    "\n",
    "A estabilidade de um algoritmo não é um critério que pode ser analisado somente quantitativamente (numericamente), mas também pode ser avaliado qualitativamente, em alguns casos. Um exemplo disso são os algoritmos de organização de elementos, que podem ser classificados em:\n",
    "\n",
    "1. Estáveis: quando a ordem relativa dos elementos é preservada.\n",
    "2. Instáveis: quando a ordem relativa dos elementos não é preservada.\n",
    "\n",
    "A figura abaixo, ilustra esses dois tipos de comportamento:\n",
    "\n",
    "![Imagem Cartas](https://upload.wikimedia.org/wikipedia/commons/8/82/Sorting_stability_playing_cards.svg)"
   ]
  },
  {
   "cell_type": "markdown",
   "metadata": {},
   "source": [
    "Um exemplo de algorítmo estável, é a função mergeSort (abaixo definida), que classifica uma lista em ordem crescente de valores. "
   ]
  },
  {
   "cell_type": "code",
   "execution_count": 65,
   "metadata": {},
   "outputs": [
    {
     "name": "stdout",
     "output_type": "stream",
     "text": [
      "Splitting [54, 26, 93, 55, 17, 77, 31, 44, 55, 17, 20]\n",
      "Splitting [54, 26, 93, 55, 17]\n",
      "Splitting [54, 26]\n",
      "Splitting [54]\n",
      "Merging [54]\n",
      "Splitting [26]\n",
      "Merging [26]\n",
      "Merging [26, 54]\n",
      "Splitting [93, 55, 17]\n",
      "Splitting [93]\n",
      "Merging [93]\n",
      "Splitting [55, 17]\n",
      "Splitting [55]\n",
      "Merging [55]\n",
      "Splitting [17]\n",
      "Merging [17]\n",
      "Merging [17, 55]\n",
      "Merging [17, 55, 93]\n",
      "Merging [17, 26, 54, 55, 93]\n",
      "Splitting [77, 31, 44, 55, 17, 20]\n",
      "Splitting [77, 31, 44]\n",
      "Splitting [77]\n",
      "Merging [77]\n",
      "Splitting [31, 44]\n",
      "Splitting [31]\n",
      "Merging [31]\n",
      "Splitting [44]\n",
      "Merging [44]\n",
      "Merging [31, 44]\n",
      "Merging [31, 44, 77]\n",
      "Splitting [55, 17, 20]\n",
      "Splitting [55]\n",
      "Merging [55]\n",
      "Splitting [17, 20]\n",
      "Splitting [17]\n",
      "Merging [17]\n",
      "Splitting [20]\n",
      "Merging [20]\n",
      "Merging [17, 20]\n",
      "Merging [17, 20, 55]\n",
      "Merging [17, 20, 31, 44, 55, 77]\n",
      "Merging [17, 17, 20, 26, 31, 44, 54, 55, 55, 77, 93]\n"
     ]
    }
   ],
   "source": [
    "def mergeSort(alist):\n",
    "    print(\"Splitting\",alist)\n",
    "    if len(alist)>1:\n",
    "        mid= len(alist)//2\n",
    "        lefthalf= alist[:mid]\n",
    "        righthalf= alist[mid:]\n",
    "        mergeSort (lefthalf)\n",
    "        mergeSort (righthalf)\n",
    "\n",
    "        i = 0\n",
    "        j = 0\n",
    "        k = 0\n",
    "   \n",
    "        while i<len(lefthalf) and j<len(righthalf):\n",
    "            if lefthalf[i]<=righthalf[j]:\n",
    "                alist[k]=lefthalf[i]\n",
    "                i= i+1\n",
    "            else:\n",
    "                 alist[k]=righthalf[j]\n",
    "                 j=j+1\n",
    "            k=k+1 \n",
    "          \n",
    "        while i<len(lefthalf):\n",
    "            alist [k]=lefthalf[i]\n",
    "            i=i+1\n",
    "            k=k+1\n",
    "                \n",
    "        while j<len(righthalf):\n",
    "            alist[k]=righthalf[j]\n",
    "            j=j+1\n",
    "            k=k+1        \n",
    "                \n",
    "    print (\"Merging\", alist)\n",
    "\n",
    "alist=[54,26,93,55,17,77,31,44,55,17,20]\n",
    "mergeSort(alist)\n",
    "\n",
    "#Algoritmo retidado de: MIT, (2011). Introduction to Algorithms. [Disponível em: http://courses.csail.mit.edu/6.006/fall11/rec/rec07.pdf ]"
   ]
  },
  {
   "cell_type": "markdown",
   "metadata": {},
   "source": [
    "Observe que, quando se trata de números, a estabilidade de um algoritmo não é de grande importância. No entanto, tratando-se de elementos com alguma maneira de distinção, como nome e sobrenome, a estabilidade pode representar um erro considerável. Vejamos o exemplo abaixo.\n",
    "\n",
    "Dada a lista abaixo, não organizada, dos estudantes da turma 2018 do Programa de Pós-Graduação em Modelagem Computacional da UESC, é possível aplicar dois diferentes algoritmos de organização, utilizando o critério de organizar a lista em ordem alfabética do segundo nome.\n",
    "\n",
    "    Bruno Santos\n",
    "    Lucas Souza\n",
    "    Luis Franco\n",
    "    Luciano Franco\n",
    "    Marcus Vinicius\n",
    "    Luiz Vinicius\n",
    "    Vinicius Souza\n",
    "    Oniram Souza\n",
    "    Frederico Chaves\n",
    "    Pedro Girotto\n",
    "\n",
    "O primeiro algoritmo abaixo, é do tipo **instável**. Veja que, apesar dos últimos nomes estarem de fato em ordem alfabética, os primeiros nomes não estão. Essa instabilidade, resulta em uma lista final que não está organizada como desejado."
   ]
  },
  {
   "cell_type": "code",
   "execution_count": 101,
   "metadata": {},
   "outputs": [
    {
     "name": "stdout",
     "output_type": "stream",
     "text": [
      "Frederico Chaves\n",
      "Luis Franco\n",
      "Luciano Franco\n",
      "Pedro Girotto\n",
      "Bruno Santos\n",
      "Lucas Souza\n",
      "Vinicius Souza\n",
      "Oniram Souza\n",
      "Marcus Vinicius\n",
      "Luiz Vinicius\n"
     ]
    }
   ],
   "source": [
    "nomes=[('Bruno', ' Santos'),('Lucas', ' Souza'), ('Luis',' Franco'),('Luciano',' Franco'),('Marcus',' Vinicius'),('Luiz', ' Vinicius'),('Vinicius',' Souza'),('Oniram',' Souza'),('Frederico',' Chaves'),('Pedro',' Girotto')]\n",
    "for x in sorted(nomes, key=lambda n: n[1]):\n",
    "    print (\"\".join(x))\n",
    "    \n",
    "\n",
    "\n"
   ]
  },
  {
   "cell_type": "markdown",
   "metadata": {},
   "source": [
    "Por outro lado, é possível resolver este problema se o parâmetro lambda for substituido pela função itemgetter, que permite múltiplos critérios para a classificação dos elementos."
   ]
  },
  {
   "cell_type": "code",
   "execution_count": 102,
   "metadata": {},
   "outputs": [
    {
     "name": "stdout",
     "output_type": "stream",
     "text": [
      "Frederico Chaves\n",
      "Luciano Franco\n",
      "Luis Franco\n",
      "Pedro Girotto\n",
      "Bruno Santos\n",
      "Lucas Souza\n",
      "Oniram Souza\n",
      "Vinicius Souza\n",
      "Luiz Vinicius\n",
      "Marcus Vinicius\n"
     ]
    }
   ],
   "source": [
    "from operator import itemgetter\n",
    "nomes=[('Bruno', ' Santos'),('Lucas', ' Souza'), ('Luis',' Franco'),('Luciano',' Franco'),('Marcus',' Vinicius'),('Luiz', ' Vinicius'),('Vinicius',' Souza'),('Oniram',' Souza'),('Frederico',' Chaves'),('Pedro',' Girotto')]\n",
    "for x in sorted(nomes, key=itemgetter(1,0)):\n",
    "    print (\"\".join(x))"
   ]
  },
  {
   "cell_type": "markdown",
   "metadata": {},
   "source": [
    "Observe que agora a lista encontra-se apropriadamente classificada, demonstrando que o novo algoritmo utilizado é **estável**.\n",
    "Este é um dos exemplos em que a estabilidade de algoritmos é relevante, e que pode ser avaliada qualitativamente.\n",
    "\n",
    "---"
   ]
  },
  {
   "cell_type": "markdown",
   "metadata": {},
   "source": [
    "## Convergência\n"
   ]
  },
  {
   "cell_type": "markdown",
   "metadata": {},
   "source": [
    "Para compreender o conceito de convergência em algorítmos, é interessante entender primeiro os conceitos de convergência de séries e sequências numéricas infinitas, já que frequentemente trabalha-se com sequências e séries em algoritmos, a exemplo da série de Taylor, anteriormente explicada.\n",
    "\n",
    "Em cálculo, sequência numérica infinita é definida como sendo a sucessão de valores gerados por uma função que tem como domínio o conjunto dos números naturias não nulos ($N^*$) e como imagem o conjunto dos números reais ($R$) ou complexos ($C$). A função $f(n)$ é chamada de **lei de formação da sequência**, e normalmente denotada como $a_n$. Os valores gerados são os **termos, ou elementos da sequência**.\n",
    "\n",
    "<p style=\"text-align: center;\"> {$a_n$} = $  a_1 , a_2, a_3, ... + a_n, ...$ </p>\n",
    "\n",
    "Diz-se que uma sequência converge para A, quando $\\exists \\lim_{n\\to\\infty}{a_n} = A$, com $|A|$<$\\infty$ . Dessa forma, denota-se que $a_n \\to A$ ($a_n$ converge para A).\n",
    "\n",
    "Caso essas condições não sejam satisfeitas, diz-se que a sequência $a_n$ é divergente.\n",
    "\n",
    "Já as séries são definidas como sendo o somatório de elementos de sequências numéricas infinitas, possuindo a forma:\n",
    "\n",
    "<p style=\"text-align: center;\"> $\\sum_{n=1}^{\\infty} a_n $=$ a_1 + a_2 + a_3 + ... + a_n + ...$ </p>\n",
    "\n",
    "onde:<p style=\"text-align: center;\"> $a_1$ é o primeiro termo da série; </p>\n",
    "<p style=\"text-align: center;\"> $a_2$ é o segundo termo da série; </p>\n",
    "<p style=\"text-align: center;\"> ... </p>\n",
    "<p style=\"text-align: center;\"> $a_n$ é o enésimo termo da série. </p>\n",
    "\n",
    "\n",
    "Tais séries podem ser classificadas em convergentes ou divergentes. Para avaliar o comportamento de uma série quanto à sua convergência, é necessário recorrer ao conceito de **sequência de somas parciais** {$S_n$}, que nada mais é que uma parte da série, onde:\n",
    "\n",
    "<p style=\"text-indent: 28em;\">$S_1$=$a_1$</p>\n",
    "<p style=\"text-indent: 28em;\">$S_2$=$a_1+a_2$</p>\n",
    "<p style=\"text-indent: 28em;\">...</p>\n",
    "<p style=\"text-indent: 28em;\">$S_n$=$a_1+a_2+...+a_n$</p>\n",
    "\n",
    "Dessa forma, temos as seguintes definições:\n",
    "1. Séries convergentes são aquelas onde $\\lim_{n\\to\\infty}{S_n} \\to X$, com |X|<$\\infty$;\n",
    "2. Séries divergentes são aquelas que não possuem um limite definido, que apresentam comportamento errático ou que convergem para $\\pm \\infty$.\n",
    "\n",
    "\n",
    "Como algoritmos costumam usar séries ou sequências numéricas infinitas truncadas (como já explicado anteriormente) para obter resultados de cálculos complexos, como integrais, derivadas e funções trigonométricas, por exemplo, é interessante verificar não só a convergência da série ou sequência utilizada no algoritmo, como também a sua **taxa, ou ordem de convergência**.\n",
    "\n",
    "---\n",
    "**Definição**: taxa de convergência de algorítmos\n",
    "\n",
    "Supondo que uma sequência conhecida, ${(\\beta_n)}_{n=1}^{\\infty}$ convirja para 0, uma outra sequência ${(\\alpha_n)}_{n=1}^{\\infty}$ convirja para um número $\\alpha$ e que exista uma constante K positiva, tal que:\n",
    "\n",
    "<p style=\"text-align: center;\"> |${\\alpha_n}-\\alpha$|$\\leq$ K.|$\\beta_n$|, para n grande,\n",
    "\n",
    "então, dizemos que ${(\\alpha_n)}_{n=1}^{\\infty}$ converge para $\\alpha$ com taxa de convergência O($\\beta_n$).\n",
    "\n",
    "Em geral, escolhe-se a sequência $\\beta = \\frac{1}{n^p}$ com um valor alto para p para a comparação.\n",
    "\n",
    "---\n",
    "\n",
    "É desejável que o algorítmo tenha uma convergência rápida para um resultado estável e de boa precisão, de maneira que o número de operações seja otimizado, e recursos computacionais sejam utilizados da maneira mais eficiente possível. O gráfico abaixo ilustra a razão de se escolher um número de p alto para a nossa função de comparação $\\beta_n$, uma vez que quanto maior for esse valor, menos iterações serão necessárias para que a função chegue a um valor suficientemente próximo do zero."
   ]
  },
  {
   "cell_type": "code",
   "execution_count": 7,
   "metadata": {},
   "outputs": [
    {
     "data": {
      "image/png": "[encoded data removed]",
      "text/plain": [
       "<matplotlib.figure.Figure at 0x7f9889230940>"
      ]
     },
     "metadata": {},
     "output_type": "display_data"
    }
   ],
   "source": [
    "import matplotlib.pyplot as plt\n",
    "import numpy as np\n",
    "\n",
    "ax = plt.subplot(111)\n",
    "n = np.linspace(1, 10) #Range de plotagem do eixo x\n",
    "\n",
    "for p in [1, 2, 5, 10]: #Valores de p a serem estudados\n",
    "    Line, = plt.plot(n, 1/(n**p), label=\"p=%d\"%(p,)) #Realiza a plotagem\n",
    "\n",
    "leg = plt.legend(loc='best', ncol=2, mode=\"expand\", shadow=True, fancybox=True)\n",
    "leg.get_frame().set_alpha(0.5)\n",
    "\n",
    "plt.xlabel('n')\n",
    "plt.ylabel('1/n**p')\n",
    "plt.title('Teste da função (1/n**p) para diferentes valores de p')\n",
    "plt.show()"
   ]
  },
  {
   "cell_type": "markdown",
   "metadata": {},
   "source": [
    "Por fim, deve-se observar que, devido às semelhanças compartilhadas entre sequências e funções, também é possível verificar a taxa de convergência de uma função através de um conceito análogo ao utilizado para sequências, como definido a seguir.\n",
    "\n",
    "---\n",
    "\n",
    "**Definição**\n",
    "\n",
    "Suponha que $lim_{h\\to 0}G(h)=0$ é $lim_{h\\to 0}F(h)=L$. Se existir uma constante positiva $K$ tal que:\n",
    "<p style=\"text-align: center;\"> $|F(h)-L|≤ K | G(h) |$, para $h$ suficientemente pequeno, <p>\n",
    "    \n",
    "Então escrevemos $F(h)=L+ O (G(h))$. \n",
    "\n",
    "As funções que usamos para comparação geralmente têm a forma $G(h)=h^{ p}$, onde $p>0$. Estamos interessados no maior valor de $p$ para o qual $F(h)=L + O (h^{ p})$. \n",
    "\n",
    "---"
   ]
  },
  {
   "cell_type": "markdown",
   "metadata": {},
   "source": [
    "**Software Numérico**\n",
    "\n",
    "Existem diversos softwares que realizam aproximações de soluções numéricas para problemas, como o MATLAB, GAUSS, Maple, WOLFRAM MATHEMATICA. Estes softwares utilizam sub-rotinas matemáticas diversas para resolver problemas estatísticos, simulações numéricas, gerar visualizações, entre outros. Estas sub-rotinas normalmente estão implementadas nas linguagens FORTRAN, C, C++, FORTRAN 90, pois geram códigos com bom desempenho computacional.\n",
    "\n",
    "Uma forma de classificar estes softwares é utilizando os conceitos de softwares de propósito especial e softwares de propósito geral.\n",
    "\n",
    "    Softwares de propósito especial: São softwares que visam resolver problemas específicos, em condições específicas. Apesar de serem eficientes dentro das suas condições específicas, podem falhar em fornecer uma precisão adequada exatamente por não tratarem casos específicos que podem gerar erros, como os que ocorre quando o módulo de um número é muito grande ou muito pequeno para ser precisamente representado no sistema de ponto flutuante do computador, ou quando não se leva em consideração qual a melhor ordem, que gera a melhor precisão, para realizar os cálculos necessários.\n",
    "\n",
    "    Softwares de propósito geral: São as bibliotecas padrões de pacotes que implementam sub-rotinas matemáticas. Nessa categoria se encaixam vários pacotes, livres e comerciais, como o SCILAB, MATLAB e o WOLFRAM MATHEMATICA. São ditos de propósito geral porque consideram maneiras de reduzir erros devido a arredondamento, truncamento, underflow e overflow, especificando qual intervalo de entrada levará a resultados de certa precisão desejada, de acordo com as características de ponto flutuante da máquina que esteja realizando os cálculos. Desta forma os softwares de propósito geral podem ser utilizados para resolver uma imensa gama de problemas.\n",
    "\n",
    "Em grande parte dos casos os softwares de propósito especial e os de propósito geral geram os mesmos resultados. A vantagem dos algoritmos de propósito geral é que eles fornecem segurança para seus resultados, exatamente por implementarem tratamentos de erros ao longo da execução e levarem em consideração as características da máquina ao realizar os cálculos."
   ]
  },
  {
   "cell_type": "markdown",
   "metadata": {},
   "source": [
    "** Dependências para compilação: **\n",
    "\n",
    "    Biblioteca Plotly: https://plot.ly\n",
    "        1.a - Para instalar: https://plot.ly/python/getting-started/#installation\n",
    "        1.b - Para instalar via anaconda: conda install -c plotly plotly\n",
    "        2 - Deve registrar-se em https://plot.ly e gerar uma api key (https://plot.ly/settings/api)\n",
    "        3 - Em um bloco de código deverá registrar seu usuário e api key, exemplo:\n",
    "        plotly.tools.set_credentials_file(username='DemoAccount', api_key='lr1c37zw81')\n",
    "    \n",
    "                    "
   ]
  },
  {
   "cell_type": "markdown",
   "metadata": {},
   "source": [
    "**Referências Bibliográficas**\n",
    "\n",
    "BURDEN, R.L.;FAIRES,D.J.;BURDEN, A.M. **Numerical Analysis**. 10 ed. Boston, MA: Cengage Learning, 2014, cap. 1, p.1-45. ISBN 978-1-305-25366-7\n",
    "\n",
    "GUPTA, A. **Stable and Unstable Sorting Algorithms**. [S.l]. 2016. Disponível em: < https://modernpathshala.com/Learn/data-structure/Tutorial/6333/stable-and-unstable-sorting >\n",
    "\n",
    "SVEC, M. et al. **Tópicos: Séries e Equações Diferenciais**. 3 ed. Salvador:EDUFBA,2002. ISBN 978-85-232-0259-5.\n",
    "\n"
   ]
  },
  {
   "cell_type": "code",
   "execution_count": null,
   "metadata": {},
   "outputs": [],
   "source": []
  }
 ],
 "metadata": {
  "kernelspec": {
   "display_name": "Python 3",
   "language": "python",
   "name": "python3"
  },
  "language_info": {
   "codemirror_mode": {
    "name": "ipython",
    "version": 3
   },
   "file_extension": ".py",
   "mimetype": "text/x-python",
   "name": "python",
   "nbconvert_exporter": "python",
   "pygments_lexer": "ipython3",
   "version": "3.6.4"
  }
 },
 "nbformat": 4,
 "nbformat_minor": 2
}
