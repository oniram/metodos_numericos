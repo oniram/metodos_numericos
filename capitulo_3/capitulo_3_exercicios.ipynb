{
 "cells": [
  {
   "cell_type": "markdown",
   "metadata": {},
   "source": [
    "# SEÇÃO 3.1"
   ]
  },
  {
   "cell_type": "markdown",
   "metadata": {},
   "source": [
    "## Questão 1\n",
    "\n",
    "__a) $f(x) = cos x$ __\n",
    "\n",
    "__b) $f(x) = \\sqrt{1+x} $ __\n",
    "\n",
    "\n",
    "__c) $f(x) = ln(x+1)$__\n",
    "\n",
    "__d) $f(x) = tg x$__"
   ]
  },
  {
   "cell_type": "code",
   "execution_count": 2,
   "metadata": {},
   "outputs": [
    {
     "name": "stdout",
     "output_type": "stream",
     "text": [
      "         2\n",
      "-0.4311 x - 0.03246 x + 1          f(0.45) =     0.898100074705722\n"
     ]
    }
   ],
   "source": [
    "# cos(x)\n",
    "import math as mt\n",
    "from scipy.interpolate import lagrange\n",
    "\n",
    "x0=0\n",
    "x1=0.6\n",
    "x2=0.9\n",
    "y0 = mt.cos(x0)\n",
    "y1 = mt.cos(x1)\n",
    "y2 = mt.cos(x2)\n",
    "\n",
    "polinomio= lagrange([x0,x1,x2],[y0,y1,y2])\n",
    "print ( polinomio,  \"         f(0.45) =    \", polinomio(0.45))\n",
    "                         "
   ]
  },
  {
   "cell_type": "code",
   "execution_count": 44,
   "metadata": {},
   "outputs": [
    {
     "name": "stdout",
     "output_type": "stream",
     "text": [
      "          2\n",
      "-0.07023 x + 0.4837 x + 1          f(0.45) =     1.2034237282735154\n"
     ]
    }
   ],
   "source": [
    "#(1+x)**(1/2)\n",
    "y0=(1+x0)**(1/2)\n",
    "y1=(1+x1)**(1/2)\n",
    "y2=(1+x2)**(1/2)\n",
    "\n",
    "polinomio= lagrange([x0,x1,x2],[y0,y1,y2])\n",
    "print ( polinomio,  \"         f(0.45) =    \", polinomio(0.45))"
   ]
  },
  {
   "cell_type": "code",
   "execution_count": 45,
   "metadata": {},
   "outputs": [
    {
     "name": "stdout",
     "output_type": "stream",
     "text": [
      "         2\n",
      "-0.2339 x + 0.9237 x          f(0.45) =     0.3682906113583539\n"
     ]
    }
   ],
   "source": [
    "# ln(1+x)\n",
    "y0=mt.log(1+x0)\n",
    "y1=mt.log(1+x1)\n",
    "y2=mt.log(1+x2)\n",
    "\n",
    "polinomio= lagrange([x0,x1,x2],[y0,y1,y2])\n",
    "print ( polinomio,  \"         f(0.45) =    \", polinomio(0.45))"
   ]
  },
  {
   "cell_type": "code",
   "execution_count": 46,
   "metadata": {},
   "outputs": [
    {
     "name": "stdout",
     "output_type": "stream",
     "text": [
      "        2\n",
      "0.8665 x + 0.6203 x          f(0.45) =     0.4546143549968192\n"
     ]
    }
   ],
   "source": [
    "# tg(x)\n",
    "y0=mt.tan(x0)\n",
    "y1=mt.tan(x1)\n",
    "y2=mt.tan(x2)\n",
    "\n",
    "polinomio= lagrange([x0,x1,x2],[y0,y1,y2])\n",
    "print ( polinomio,  \"         f(0.45) =    \", polinomio(0.45))"
   ]
  },
  {
   "cell_type": "markdown",
   "metadata": {},
   "source": [
    "## Questão 3\n",
    "\n",
    "**Use o teorema 3.3 para encontrar um limitante do erro para as aproximações do exercício 1.**"
   ]
  },
  {
   "cell_type": "markdown",
   "metadata": {},
   "source": [
    "De acordo com o __Teorema 3.3__, o limitante do erro para as aproximações pode ser calculado utilizando:\n",
    "\n",
    "$$f(X) = P(x) + \\frac{f^{(n+1)}(\\xi(x))}{(n+1)!}(x-x_0)(x-x_1)...(x-x_n)$$\n",
    "\n",
    "Dessa forma, quando utilizamos polinômio de grau 1 para aproximar, o erro se torna:\n",
    "\n",
    "$$f(X) = P(x) + \\frac{f''(\\xi(x))}{2}(x-x_0)(x-x_1)$$\n",
    "\n",
    "E quando utilizamos polinômio de grau 2 para aproximar, temos o erro da forma:\n",
    "\n",
    "$$f(X) = P(x) + \\frac{f'''(\\xi(x))}{6}(x-x_0)(x-x_1)(x-x_2)$$\n",
    "\n",
    "Como as aproximações feitas no exercío 1 são para o valor de $f(x)$, no valor de $x=0,45$, utilizamos os valores $x_0 = 0$ e $x_1 = 0.6$. Substituindo esses valores da equação acima, temos:\n",
    "\n",
    "$$|f(x)-P(x)|=|\\frac{f''(\\xi(x))}{2}(0,45-0)(0,45-0,6)|=0.03375 . |f''(\\xi(x))| $$\n",
    "$$|f(x)-P(x)|=|\\frac{f'''(\\xi(x))}{6}(0,45-0)(0,45-0,6)(0,45-0,9)|=0,0050625.|f'''(\\xi(x))|$$\n",
    "\n",
    "O que significa que os erros serão dependentes apenas das derivadas da função, e dos valores $\\xi(x) \\in (0 ; 0,9)$ que maximizarão os módulos das derivadas das funções."
   ]
  },
  {
   "cell_type": "markdown",
   "metadata": {},
   "source": [
    "a) $f(x)=cos(x)$ → $f'(x)=-sen(x)$ → $f''(x)=-cos(x)$ → $f'''(x)=sen(x)$\n",
    "\n",
    "* Para o polinômio de 1 grau:\n",
    "\n",
    "$$|f(x)-P(x)|\\leq 0,03375 . |\\max (-cos(\\xi(x))_{0;0,6})|=0,03375$$  \n",
    "\n",
    "* Para o polinômio de 2 grau:\n",
    "\n",
    "$$|f(x)-P(x)|\\leq 0,0050625.|(sen(\\xi(x))_{0;0,9})|=0,00396559$$"
   ]
  },
  {
   "cell_type": "markdown",
   "metadata": {},
   "source": [
    "b) $f(x)=\\sqrt{1+x}$ → $f'(x)=\\frac{1}{2.\\sqrt{1+x}}$ → $f''(x)=-\\frac{1}{4(\\sqrt{1+x})^3}$ → $f'''(x)=\\frac{3}{8(\\sqrt{1+x})^5}$\n",
    "\n",
    "* Para o polinômio de 1 grau:\n",
    "\n",
    "$$|f(x)-P(x)|\\leq 0,03375 . |\\max (-\\frac{1}{4(\\sqrt{1+\\xi(x)})^3}_{0;0,6})|=0,0084375$$  \n",
    "\n",
    "* Para o polinômio de 2 grau:\n",
    "\n",
    "$$|f(x)-P(x)|\\leq 0,0050625.|\\max(\\frac{3}{8.(\\sqrt{1+\\xi(x)_{0;0,9}})^5})|=0,0018984375$$"
   ]
  },
  {
   "cell_type": "markdown",
   "metadata": {},
   "source": [
    "c) $f(x)=\\ln{x+1}$ → $f'(x)=\\frac{1}{x+1}$ → $f''(x)=-\\frac{1}{(x+1)^2}$ → $f'''(x)=\\frac{2}{(x+1)^3}$\n",
    "\n",
    "* Para o polinômio de 1 grau:\n",
    "\n",
    "$$|f(x)-P(x)|\\leq 0,03375 . |\\max (-\\frac{1}{(\\xi(x)_{0;0,6}+1)^2})|=0,03375$$  \n",
    "\n",
    "* Para o polinômio de 2 grau:\n",
    "\n",
    "$$|f(x)-P(x)|\\leq 0,0050625.|\\max(\\frac{2}{(\\xi(x)_{0;0,9}+1)^3})|=0,010125$$"
   ]
  },
  {
   "cell_type": "markdown",
   "metadata": {},
   "source": [
    "d) $f(x)=tg(x)$ → $f'(x)=sec^2(x)$ → $f''(x)=2.sec^2(x).tg(x)$ → $f'''(x)=2.sec^4(x)+4.sec^2(x).tg^2(x)$\n",
    "\n",
    "* Para o polinômio de 1 grau:\n",
    "\n",
    "$$|f(x)-P(x)|\\leq 0,03375 . |\\max (2.sec^2(\\xi(x)_{0;0,6}).tg(\\xi(x)_{0;0,6}))|=0.06779295$$  \n",
    "\n",
    "* Para o polinômio de 2 grau:\n",
    "\n",
    "$$|f(x)-P(x)|\\leq 0,0050625.|\\max(2.sec^4(xi(x)_{0;0,9})+4.sec^2(xi(x)_{0;0,9}).tg^2(\\xi(x)_{0;0,9}))|=0,15103665$$"
   ]
  },
  {
   "cell_type": "markdown",
   "metadata": {},
   "source": [
    "## Questão 5\n",
    "\n",
    "**Utilize polinômios interpoladores de Lagrange de graus um, dois e três adequados para aproximar cada um dos seguintes:**\n",
    "\n",
    "__a) $f(8,4)$, se $f(8,1) = 16,94410$, $f(8,3)=17,56492$, $f(8,6)=18,50515$, $f(8,7)=18,82091$ __\n",
    "\n",
    "__b) $f(-\\frac{1}{3})$, se $f(-0,75)=-0,07181250$, $f(-0,5) = -0,02475000$, $f(-0,25)=0,33493750$, $f(0)=1,10100000$ __\n",
    "\n",
    "__c) $f(0,25)$ se $f(0,1) = 0,62049958$, $f(0,2) = -0,28398668$, $f(0,3)=0,00660095$, $f(0,4)=0,24842440$__\n",
    "\n",
    "__d) $f(0,9)$ se $f(0,6)=-0,17694460$, $f(0,7)=0,01375227$, $f(0,8)=0,22363362$, $f(1,0)=0,65809197$__"
   ]
  },
  {
   "cell_type": "code",
   "execution_count": 1,
   "metadata": {},
   "outputs": [
    {
     "name": "stdout",
     "output_type": "stream",
     "text": [
      "      2\n",
      "0.56 x - 6.33 x + 31.52          f(8.4) =     17.86712999999512\n"
     ]
    }
   ],
   "source": [
    "#A.\n",
    "\n",
    "from scipy.interpolate import lagrange\n",
    "x0=8.1\n",
    "x1=8.3\n",
    "x2=8.6\n",
    "x3=8.7\n",
    "y0=16.99410\n",
    "y1=17.56492\n",
    "y2=18.50515\n",
    "y3=18.82091\n",
    "\n",
    "polinomio= lagrange([x0,x1,x2],[y0,y1,y2])\n",
    "print ( polinomio,  \"         f(8.4) =    \", polinomio(8.4))"
   ]
  },
  {
   "cell_type": "code",
   "execution_count": 2,
   "metadata": {},
   "outputs": [
    {
     "name": "stdout",
     "output_type": "stream",
     "text": [
      "   3         2\n",
      "1 x + 4.001 x + 4.002 x + 1.101          f(-1/3) =     0.17451851851851852\n"
     ]
    }
   ],
   "source": [
    "#B.\n",
    "\n",
    "from scipy.interpolate import lagrange\n",
    "x0=-0.75\n",
    "x1=-0.5\n",
    "x2=-0.25\n",
    "x3=0\n",
    "y0=-0.07181250\n",
    "y1=-0.02475000\n",
    "y2=0.33493750\n",
    "y3=1.10100000\n",
    "\n",
    "polinomio= lagrange([x0,x1,x2,x3],[y0,y1,y2,y3])\n",
    "print ( polinomio,  \"         f(-1/3) =    \", polinomio(-1/3))"
   ]
  },
  {
   "cell_type": "code",
   "execution_count": 3,
   "metadata": {},
   "outputs": [
    {
     "name": "stdout",
     "output_type": "stream",
     "text": [
      "        3         2\n",
      "-207.3 x + 184.1 x - 49.77 x + 3.964          f(0.25) =     -0.21033722187500237\n"
     ]
    }
   ],
   "source": [
    "#C.\n",
    "\n",
    "from scipy.interpolate import lagrange\n",
    "x0=0.1\n",
    "x1=0.2\n",
    "x2=0.3\n",
    "x3=0.4\n",
    "y0=0.62049958\n",
    "y1=-0.28398668\n",
    "y2=0.00660095\n",
    "y3=0.24842440\n",
    "\n",
    "polinomio= lagrange([x0,x1,x2,x3],[y0,y1,y2,y3])\n",
    "print ( polinomio,  \"         f(0.25) =    \", polinomio(0.25))"
   ]
  },
  {
   "cell_type": "code",
   "execution_count": 5,
   "metadata": {},
   "outputs": [
    {
     "name": "stdout",
     "output_type": "stream",
     "text": [
      "        3         2\n",
      "-1.786 x + 4.709 x - 1.947 x - 0.3182          f(0.9) =     0.44198500250000905\n"
     ]
    }
   ],
   "source": [
    "#D.\n",
    "\n",
    "from scipy.interpolate import lagrange\n",
    "x0=0.6\n",
    "x1=0.7\n",
    "x2=0.8\n",
    "x3=1.0\n",
    "y0=-0.17694460\n",
    "y1=0.01375227\n",
    "y2=0.22363362\n",
    "y3=0.65809197\n",
    "\n",
    "polinomio= lagrange([x0,x1,x2,x3],[y0,y1,y2,y3])\n",
    "print ( polinomio,  \"         f(0.9) =    \", polinomio(0.9))"
   ]
  },
  {
   "cell_type": "markdown",
   "metadata": {},
   "source": [
    "## Questão 7\n",
    "\n",
    "**Use o método de Neville para obter as aproximações no exercício 5. **"
   ]
  },
  {
   "cell_type": "markdown",
   "metadata": {},
   "source": [
    "__a) $f(8,4)$, se $f(8,1) = 16,94410$, $f(8,3)=17,56492$, $f(8,6)=18,50515$, $f(8,7)=18,82091$__\n",
    "\n",
    "$$P(8,4) = \\frac{(8,4-8,3).f(8,6)-(8,4-8,6).f(8,3)}{(8,6-8,3)}=17,87833$$\n",
    "\n",
    "__b) $f(-\\frac{1}{3})$, se $f(-0,75)=-0,07181250$, $f(-0,5) = -0,02475000$, $f(-0,25)=0,33493750$, $f(0)=1,10100000$ __\n",
    "\n",
    "$$P(-\\frac{1}{3}) = \\frac{(-\\frac{1}{3}+0,25).f(-0,5)-(-\\frac{1}{3}+0,5).f(-0,25)}{(-0,5+0,25)}=0,215041667$$\n",
    "\n",
    "__c) $f(0,25)$ se $f(0,1) = 0,62049958$, $f(0,2) = -0,28398668$, $f(0,3)=0,00660095$, $f(0,4)=0,24842440$__\n",
    "\n",
    "$$P(0,25) = \\frac{(0,25-0,2).f(0,3)-(0,25-0,3).f(0,2)}{(0,3-0,2)}=-0,138692865$$\n",
    "\n",
    "__d) $f(0,9)$ se $f(0,6)=-0,17694460$, $f(0,7)=0,01375227$, $f(0,8)=0,22363362$, $f(1,0)=0,65809197$__\n",
    "\n",
    "$$P(0,9) = \\frac{(0,9-0,8).f(1,0)-(0,9-1,0).f(0,8)}{(1,0-0,8)}=0.440862795$$"
   ]
  },
  {
   "cell_type": "markdown",
   "metadata": {},
   "source": [
    "## Questão 9\n",
    "\n",
    "Os dados do Exercício 5 foram gerados a partir das funções a seguir. Use a fórmula de erro para encontrar um limitante para o erro e compare o limitante ao erro real para os casos $n = 1$ e $n = 2$.\n",
    "\n",
    "**a)**\n",
    "$f(x) = x ln(x)$\n",
    "\n",
    "$f(x) = P(x) + \\frac{f^{(n + 1)}(\\xi)}{(n + 1)!}\\prod_{i=0}^{n}(x - {x}_{i})$\n",
    "\n",
    "Assim o limitante do erro é dado por: $|\\frac{f^{(n + 1)}(\\xi)}{(n + 1)!}\\prod_{i=0}^{n}(x - {x}_{i})|$\n",
    "\n",
    "para n = 1: \n",
    "\n",
    "$max |\\frac{1}{2\\xi}, \\xi \\in [8,3; 8,6]| * |(8,4 - 8,3)(8,4 - 8,6)| = 0,001205 \\approx 1,205 x 10^{-3}$\n",
    "\n",
    "para n = 2: \n",
    "\n",
    "$max |\\frac{-1}{{6\\xi}^2}, \\xi \\in [8,3; 8,7]| * |(8,4 - 8,3)(8,4 - 8,6)(8,4 - 8,7)| = 0.00001452 \\approx 1,452 x 10^{-5}$\n",
    "\n",
    "<br />\n",
    "\n",
    "**b)**\n",
    "$f(x) = {x}^3 + 4,001{x}^2 + 4,002x + 1,101$\n",
    "\n",
    "O limitante do erro é dado por: $|\\frac{f^{(n + 1)}(\\xi)}{(n + 1)!}\\prod_{i=0}^{n}(x - {x}_{i})|$\n",
    "\n",
    "para n = 1: \n",
    "\n",
    "$max |\\frac{6\\xi + 8,002}{2}, \\xi \\in [-0,5; -0,25]| * |(\\frac{-1}{3} - (-0,5))(\\frac{-1}{3} - (-0,25))| = 0,04515 \\approx 4,515 x 10^{-2}$\n",
    "\n",
    "para n = 2: \n",
    "\n",
    "$max |\\frac{6}{6} = 1| * |(\\frac{-1}{3} - (-0,5))(\\frac{-1}{3} - (-0,25))(\\frac{-1}{3} - 0)| = 0.00463 \\approx 4,630 x 10^{-3}$\n",
    "\n",
    "<br />\n",
    "\n",
    "**c)**\n",
    "$f(x) = x cos(x) - 2{x}^2 + 3x -1$\n",
    "\n",
    "O limitante do erro é dado por: $|\\frac{f^{(n + 1)}(\\xi)}{(n + 1)!}\\prod_{i=0}^{n}(x - {x}_{i})|$\n",
    "\n",
    "para n = 1: \n",
    "\n",
    "$max |\\frac{-\\xi cos(\\xi) - 2 (2 + sin(\\xi))}{2}, \\xi \\in [0,2; 0,3]| * |(0,25 - 0,2)(0,25 - 0,3)| = 0.006097 \\approx 6,097 x 10^{-3}$\n",
    "\n",
    "para n = 2: \n",
    "\n",
    "$max |\\frac{\\xi sen(\\xi) - 3cos(\\xi)}{6}, \\xi \\in [0,2; 0,4]| * |(0,25 - 0,2)(0,25 - 0,3)(0,25 - 0,4)| = 0.0001813 \\approx 1,813 x 10^{-4}$\n",
    "\n",
    "<br />\n",
    "\n",
    "**d)** $f(x) = sen({e}^x - 2)$\n",
    "\n",
    "O limitante do erro é dado por: $|\\frac{f^{(n + 1)}(\\xi)}{(n + 1)!}\\prod_{i=0}^{n}(x - {x}_{i})|$\n",
    "\n",
    "para n = 1: \n",
    "\n",
    "$max |\\frac{f^{2}(\\xi)}{2}, \\xi \\in [0,8; 1,0]| * |(0,9 - 0,8)(0,9 - 1,0)| \\approx 1,408 x 10^{-2}$\n",
    "\n",
    "para n = 2: \n",
    "\n",
    "$max |\\frac{f^{3}(\\xi)}{6}, \\xi \\in [0,7; 1,0]| * |(0,9 - 0,7)(0,9 - 0,8)(0,9 - 1,0)| \\approx 9,222 x 10^{-3}$"
   ]
  },
  {
   "cell_type": "markdown",
   "metadata": {},
   "source": [
    "## Questão 13\n",
    "\n",
    "Seja ${P}_{3}(x)$ o polinômio interpolador para os dados (0, 0), (0,5, y), (1, 3) e (2, 2). Encontre y se o coeficiente de $x^{3}$ em ${P}_{3}(x)$ for 6.\n",
    "\n",
    "$${L}_{0} = \\frac{(x-0,5)(x-1)(x-2)}{(0-0,5)(0-1)(0-2)} = -x^{3} + 3,5x^{2} - 3,5x + 1$$\n",
    "\n",
    "$${L}_{1} = \\frac{(x-0)(x-1)(x-2)}{(0,5-0)(0,5-1)(0,5-2)} = 2,66667x^{3} -8x^{2} + 5,33333x$$\n",
    "\n",
    "$${L}_{2} = \\frac{(x-0)(x-0,5)(x-2)}{(1-0)(1-0,5)(1-2)} = -2^{3} + 5x^{2} -2x$$\n",
    "\n",
    "$${L}_{3} = \\frac{(x-0)(x-0,5)(x-1)}{(2-0)(2-0,5)(2-1)} = 0,33333x^{3} -0,5x^{2} + 0,16667x$$\n",
    "\n",
    "\n",
    "$${P}_{3}(x) = 0{L}_{0} + y{L}_{1} + 3{L}_{2} + 2{L}_{3}$$\n",
    "\n",
    "\n",
    "Como ${P}_{3}(x)$ tem um coeficiente 6 para o termo $x^{3}$:\n",
    "\n",
    "$$6x^{3} = 0(-x^{3}) + y(2,66667x^{3}) + 3(-2x^{3}) + 2(0,33333x^{3})$$\n",
    "\n",
    "$$y = \\frac{6 + 6 - 0,66666}{2,66667}$$\n",
    "\n",
    "$$y = 4,25$$"
   ]
  },
  {
   "cell_type": "markdown",
   "metadata": {},
   "source": [
    "## Questão 17\n",
    "\n",
    "O método de Neville é usado para aproximar $f(0,5)$, fornecendo a seguinte tabela:\n",
    "\n",
    "|                           |                           |                           |                            |\n",
    "|:--------------------------|:-------------------------:|:-------------------------:|---------------------------:|\n",
    "|${x}_{0}=0$                |${P}_{0}=0$                |                           |                            |\n",
    "|${x}_{1}=0.4$              |${P}_{1}=2.8$              |${P}_{0,1}=3.5$            |                            |\n",
    "|${x}_{2}=0.7$              |${P}_{2}=?$                | ${P}_{1,2}=?$             |${P}_{0,1,2}=\\frac{27}{7}$  |\n",
    "\n",
    "Detemine ${P}_{2} = f(0,5)$.\n",
    "\n",
    "\n",
    "**Resposta:**\n",
    "\n",
    "$${P}_{0,1,2} = {Q}_{2,2} = \\frac{(x - {x}_{0}){Q}_{2,1} - (x - {x}_{2}){Q}_{1,1}}{({x}_{2} - {x}_{0})}$$\n",
    "\n",
    "Assim:\n",
    "\n",
    "$${P}_{1,2} = {Q}_{2,1} = \\frac{{Q}_{2,2}({x}_{2} - {x}_{0}) + (x - {x}_{2}){Q}_{1,1}}{(x - {x}_{0})}$$\n",
    "\n",
    "$${P}_{1,2} = \\frac{(27/7)(0,7 - 0) + (0,5 - 0,7)(3,5)}{(0,5 - 0)} = 4,0$$\n",
    "\n",
    "Porém:\n",
    "\n",
    "$${P}_{1,2} = {Q}_{2,1} = \\frac{(x - {x}_{1}){Q}_{2,0} - (x - {x}_{2}){Q}_{1,0}}{({x}_{2} - {x}_{1})}$$\n",
    "\n",
    "então:\n",
    "\n",
    "$${P}_{2} = {Q}_{2,0} = \\frac{{Q}_{2,1}({x}_{2} - {x}_{1}) + (x - {x}_{2}){Q}_{1,0}}{(x - {x}_{1})}$$\n",
    "\n",
    "$${P}_{2} = \\frac{(4,0)(0,7 - 0,4) + (0,5 - 0,7)(2,8)}{(0,5 - 0,4)} = 6,4$$\n",
    "\n",
    "$$ Assim: {P}_{2} = 6,4$$"
   ]
  },
  {
   "cell_type": "markdown",
   "metadata": {},
   "source": [
    "## Questão 19\n",
    "\n",
    "**a)**\n",
    "$f(x) = e^{2x} cos(3x)$,  ${x}_{0} = 0$,  ${x}_{1} = 0,3$,  ${x}_{2} = 0,6$,  $n=2$\n",
    "\n",
    "$$P(x) = \\sum_{k=0}^{n} f({x}_{k}){L}_{k}(x)$$\n",
    "\n",
    "$$P(x) = \\sum_{k=0}^{n} (f({x}_{k})\\prod_{i=0; i \\neq k}^{n}\\frac{(x - {x}_{i})}{(x-{x}_{k})})$$\n",
    "\n",
    "\n",
    "$P(x) = e^{2*0} cos(3*0) * \\frac{(x - 0,3)(x - 0,6)}{(0 - 0,3)(0 - 0,6)} + e^{2*0,3} cos(3*0,3) * \\frac{(x - 0)(x - 0,6)}{(0,3 - 0)(0,3 - 0,6)} + e^{2*0,6} cos(3*0,6) * \\frac{(x - 0)(x - 0,3)}{(0,6 - 0)(0,6 - 0,3)}$\n",
    "\n",
    "$P(x) = -11,2202 x^{2} + 3,80821x + 1$\n",
    "\n",
    "<br />\n",
    "\n",
    "**b)**\n",
    "$f(x) = sen(ln(x))$,  ${x}_{0} = 2,0$,  ${x}_{1} = 2,4$,  ${x}_{2} = 2,6$,  $n=2$\n",
    "\n",
    "$P(x) = sen(ln(2,0)) * \\frac{(x - 2,4)(x - 2,6)}{(2,0 - 2,4)(2,0 - 2,6)} + sen(ln(2,4)) * \\frac{(x - 2,0)(x - 2,6)}{(2,4 - 2,0)(2,4 - 2,6)} + sen(ln(2,6)) * \\frac{(x - 2,0)(x - 2,4)}{(2,6 - 2,0)(2,6 - 2,4)}$\n",
    "\n",
    "$P(x) = −0,1306344167x^{2} + 0,8969979335x − 0,63249693$\n",
    "\n",
    "<br />\n",
    "\n",
    "**c)**\n",
    "$f(x) = ln(x)$,  ${x}_{0} = 1,0$,  ${x}_{1} = 1,1$,  ${x}_{2} = 1,3$,  ${x}_{3} = 1,4$, $n=3$\n",
    "\n",
    "$P(x) = ln(1,0) * \\frac{(x - 1,1)(x - 1,3)(x - 1,4)}{(1,0 - 1,1)(1,0 - 1,3)(1,0 - 1,4)} + ln(1,1) * \\frac{(x - 1,0)(x - 1,3)(x - 1,4)}{(1,1 - 1,0)(1,1 - 1,3)(1,1 - 1,4)} + ln(1,3) * \\frac{(x - 1,0)(x - 1,1)(x - 1,4)}{(1,3 - 1,0)(1,3 - 1,1)(1,3 - 1,4)} + ln(1,4) * \\frac{(x - 1,0)(x - 1,1)(x - 1,3)}{(1,4 - 1,0)(1,4 - 1,1)(1,4 - 1,3)}$\n",
    "\n",
    "$P(x) = 0,1970056667x^{3} − 1,06259055x^{2} + 2,532453189x − 1,666868305$\n",
    "\n",
    "<br />\n",
    "\n",
    "**d)**\n",
    "$f(x) = cos(x) + sen(x)$,  ${x}_{0} = 0$,  ${x}_{1} = 0,25$,  ${x}_{2} = 0,5$,  ${x}_{3} = 1,0$, $n=3$\n",
    "\n",
    "$P(x) = cos(0) + sen(0) * \\frac{(x - 0,25)(x - 0,5)(x - 1,0)}{(0 - 0,25)(0 - 0,5)(0 - 1,0)} + cos(0,25) + sen(0,25) * \\frac{(x - 0)(x - 0,5)(x - 1,0)}{(0,25 - 0)(0,25 - 0,5)(0,25 - 1,0)} + cos(0,5) + sen(0,5) * \\frac{(x - 0)(x - 0,25)(x - 1,0)}{(0,5 - 0)(0,5 - 0,25)(0,5 - 1,0)} + cos(1,0) + sen(1,0) * \\frac{(x - 0)(x - 0,25)(x - 0,5)}{(1,0 - 0)(1,0 - 0,25)(1,0 - 0,5)}$\n",
    "\n",
    "$P(x) = −0,07932x^{3} − 0,545506x^{2} + 1,0065992x + 1$"
   ]
  },
  {
   "cell_type": "markdown",
   "metadata": {},
   "source": [
    "## Questão 23\n",
    "**Suponha que $x_{j} = j$, para $j = 0, 1, 2, 3$ e que seja sabido que**\n",
    "$$P_{0,1}(x) = 2x + 1, P_{0,2}(x)= x-1$$   **e**  $$P_{1,2,3}(2.5) = 3$$\n",
    "\n",
    "**Encontre $P_{0,1,2,3}(1.5)$.**\n",
    "\n",
    "$$P_{0,1,2}(x)= \\frac{(x-x_{2}) P_{0,1}(x) - (x-x_{1}) P_{0,2}(x)}{x_{1}-x_{2}} = 1 + 3x - x^2$$\n",
    "\n",
    "$P_{0,1,2,3}(1.5)$.\n",
    "\n",
    "$$P_{0,1,2,3}(2.5)= \\frac{(2.5-x_{0}) P_{1,2,3}(2.5) - (2.5-x_{3}) P_{0,1,2}(2.5)}{x_{3}-x_{0}} = 2.9166$$"
   ]
  },
  {
   "cell_type": "markdown",
   "metadata": {},
   "source": [
    "## Questão 25\n",
    "**Construa uma sequência de valores interpoladores $y_n$ para $f(1 + (10)^{1/2}))$, onde $f(x) = (1+x^2)^{-1}$  para $-5 ≤ x ≤ 5$, da seguinte maneira: para cada $n = 1, 2, 3, ..., 10$, seja $h=10/n$ e $y_{n} = P_{n}(1 + (10)^{1/2})$, onde $P_{n}(x)$ é o polinomio interpolador par a$f(x)$ nos nós $x^{(n)}, x_{1}^{(n)}, ... , x_{n}^{(n)}$ e $x_{j}^{(n)} = -5 + jh$, para cada $j = 0,1,2, ... , n$. A Sequencia ${y_{n}}$ parece convergir para $f(1 + (10)^{1/2}))$.**"
   ]
  },
  {
   "cell_type": "markdown",
   "metadata": {},
   "source": [
    "## Questão 27"
   ]
  },
  {
   "cell_type": "code",
   "execution_count": 4,
   "metadata": {},
   "outputs": [
    {
     "name": "stdout",
     "output_type": "stream",
     "text": [
      "Tabela Q para Interpolação Inversa: valor de x para y = 0.0\n",
      "0.3000000\t\n",
      "0.4000000\t0.5585473\t\n",
      "0.5000000\t0.5650416\t0.5671112\t\n",
      "0.6000000\t0.5675448\t0.5671463\t0.5671426\t\n",
      "Q[3,3] = 0.5671426235278707\n",
      "\n",
      "Raiz x aproximada = 0.5671426235278707\n"
     ]
    }
   ],
   "source": [
    "import numpy as np\n",
    "\n",
    "# Função Interpolação Inversa para encontrar o valor de x que leva a f(x) = 0 (raiz da função f)\n",
    "# Usa a interpolação de Neville, mas invertendo os valores de x por y e y por x, e interpolando o valor de x para levar a y = 0\n",
    "\n",
    "def interpol_inversa (x, y, erro=0.):\n",
    "    \n",
    "    # x: uma numpy.ndarray contendo os valores de x (x0 a xn).\n",
    "    # y: uma numpy.ndarray contendo os valores de y = fx (f(x0) a f(xn)).\n",
    "    # erro: erro aceitável para parar a iteração.\n",
    "    \n",
    "    n = len(y) # Tamanho do array\n",
    "    \n",
    "    Q = np.empty((n, n), dtype=float)\n",
    "    Q[:,0] = x # slice para guardar na primeira coluna os valores de x inseridos pelo usuário\n",
    "    Y0 = 0. # Calcula a interpolação para y = 0 (f(x) = 0), já que se deseja encontrar este valor de x que zera a função\n",
    "    \n",
    "    # Calcula os valores de Qij\n",
    "    for i in range(1, n):\n",
    "        for j in range(1, i+1):\n",
    "            Q[i, j] = ((Y0 - y[i-j])*Q[i, j-1] - (Y0 - y[i])*Q[i-1, j-1])/(y[i] - y[i-j])\n",
    "        if (np.abs(Q[i, i] - Q[i-1, i-1]) <= erro): # Testa o erro\n",
    "            break\n",
    "    \n",
    "    # Imprime a tabela\n",
    "    print (\"Tabela Q para Interpolação Inversa: valor de x para y =\", Y0)\n",
    "    for k in range(i+1):\n",
    "        for j in range(k+1):\n",
    "            print(\"{:.7f}\".format(Q[k,j]) + '\\t', end='')\n",
    "        print() # Quebra de linha\n",
    "    print ('Q[' + str(i) + ',' + str(i) + '] =', Q[i, i])\n",
    "    print (\"\\nRaiz x aproximada =\", Q[i, i])\n",
    "    \n",
    "# Exemplo de uso: y = x - e**(-x), achando x para y = 0\n",
    "x = np.array([0.3, 0.4, 0.5, 0.6])\n",
    "y = np.array([0.3-0.740818, 0.4-0.670320, 0.5-0.606531, 0.6-0.548812])\n",
    "interpol_inversa (x, y, erro=0.)"
   ]
  },
  {
   "cell_type": "markdown",
   "metadata": {},
   "source": [
    "## Questao 29\n",
    "\n",
    "Suspeita-se que grande quantidade de tanino em folhas maduras de carvalho inibam o crescimento das larvas da mariposa de inverno (Operophtera bromata L., Geometridaé), as quais danificam muito essas árvores em determinados anos. A tabela a seguir relaciona o peso médio de duas amostras de lan as em certos momentos nos primeiros 28 dias após o nascimento. A primeira amostra foi criada em folhas novas de carvalho, enquanto a segunda amostra foi criada em folhas maduras da mesma árvore.\n",
    "\n",
    "<table>\n",
    "    <tr>\n",
    "        <th>Dia</th>\n",
    "        <th>0</th>\n",
    "        <th>6</th>\n",
    "        <th>10</th>\n",
    "        <th>13</th>\n",
    "        <th>17</th>\n",
    "        <th>20</th>\n",
    "        <th>28</th>\n",
    "    </tr>\n",
    "    <tr>\n",
    "        <td>Peso médio da amostra 1 (mg)</td>\n",
    "        <td>6.67</td>\n",
    "        <td>17.33</td>\n",
    "        <td>42.67</td>\n",
    "        <td>37.33</td>\n",
    "        <td>30.10</td>\n",
    "        <td>29.31</td>\n",
    "        <td>28.74</td>\n",
    "    </tr>\n",
    "    <tr>\n",
    "        <td>Peso médio da amostra 2 (mg)</td>\n",
    "        <td>6.67</td>\n",
    "        <td>16.11</td>\n",
    "        <td>18.89</td>\n",
    "        <td>15.00</td>\n",
    "        <td>10.56</td>\n",
    "        <td>9.44</td>\n",
    "        <td>8.89</td>\n",
    "    </tr>\n",
    "</table>\n",
    "\n",
    "a. Use a interpolação de Lagrange para aproximar a curva de peso médio para cada amostra.\n",
    "\n",
    "b. Encontre um peso médio máximo aproximado para cada amostra, determinando o máximo do polinô-mio interpolador."
   ]
  },
  {
   "cell_type": "code",
   "execution_count": 6,
   "metadata": {},
   "outputs": [
    {
     "name": "stdout",
     "output_type": "stream",
     "text": [
      "para a letra a o polinomio que aproxima a curva do peso médio é: \n",
      "             6            5          4         3         2\n",
      "4.095e-05 x - 0.003672 x + 0.1269 x - 2.095 x + 16.14 x - 42.64 x + 6.67\n",
      "\n",
      "\n",
      "para a letra B o polinomio que aproxima a curva do peso médio é:  \n",
      "            6             5           4          3         2\n",
      "8.362e-06 x - 0.0007525 x + 0.02584 x - 0.4138 x + 2.913 x - 5.678 x + 6.67\n"
     ]
    }
   ],
   "source": [
    "import math as mt\n",
    "from scipy.interpolate import lagrange\n",
    "\n",
    "x0=0\n",
    "x1=6\n",
    "x2=10\n",
    "x3=13\n",
    "x4=17\n",
    "x5=20\n",
    "x6=28\n",
    "y0 = 6.67\n",
    "y1 = mt.cos(x1)\n",
    "y2 = mt.cos(x2)\n",
    "\n",
    "polinomio= lagrange([x0,x1,x2,x3,x4,x5,x6],[6.67,17.33,42.67,37.33,30.10,29.31,28.74])\n",
    "print ( \"para a letra a o polinomio que aproxima a curva do peso médio é: \\n \", polinomio)\n",
    "print(\"\\n\")\n",
    "polinomio= lagrange([x0,x1,x2,x3,x4,x5,x6],[6.67,16.11,18.89,15.00,10.56,9.44,8.89])\n",
    "print ( \"para a letra B o polinomio que aproxima a curva do peso médio é:  \\n\", polinomio)"
   ]
  },
  {
   "cell_type": "markdown",
   "metadata": {},
   "source": [
    "# SEÇÃO 3.2"
   ]
  },
  {
   "cell_type": "markdown",
   "metadata": {},
   "source": [
    "## Questão  1\n",
    "\n",
    "**Utilize a Equação (3.10) ou o Algoritmo 3.2 para construir polinômios interpoladores de graus um, dois e três para os dados a seguir. Faça a aproximação do valor especificado usando cada um dos polinômios:**\n",
    "\n",
    "__a) $f(8,4)$, se $f(8,1) = 16,94410$, $f(8,3)=17,56492$, $f(8,6)=18,50515$, $f(8,7)=18,82091$ __\n",
    "\n",
    "__b) $f(0,9)$ se $f(0,6)=-0,17694460$, $f(0,7)=0,01375227$, $f(0,8)=0,22363362$, $f(1,0)=0,65809197$__"
   ]
  },
  {
   "cell_type": "markdown",
   "metadata": {},
   "source": [
    "Pela equação 3.10, temos que o polinômio interpolador de grau n é dado por:\n",
    "\n",
    "$$P_n(x)=f[x_0]+\\sum_{k=1}^{n}{f[x_0,x_1,...,x_k](x-x_0)...(x-x_{k-1})}$$\n",
    "\n",
    "a) O polinômio de grau 1 é dado por: \n",
    "\n",
    "$$P_1(8,4) = f[8,1]+f[8,1;8,3](x-8,1)=16,94410+\\frac{17,56492-16,94410}{8,3-8,1}(x-8,1)=16,94410+3,1041(x-8,1)=17,87533$$\n",
    "\n",
    "Para o cálculo dos próximos polinômios, precisaremos dos valores das diferenças divididas, portanto:\n",
    "\n",
    "$$f[8,3;8,6]=\\frac{18,50515-17,56492}{8,6-8,3}=3,1341$$\n",
    "\n",
    "$$f[8,6;8,7]=\\frac{18,82091-18,50515}{8,7-8,6}=3,1576$$\n",
    "\n",
    "O polinômio de grau 2 é dado por: \n",
    "\n",
    "$$P_2(8,4) = P_1(x)+f[8,1;8,3;8,6](x-8,1)(x-8,3)=17,87533+\\frac{3.1341-3.1041}{8,6-8,1}(x-8,1)(x-8,3)=17,87533+0,06(8,4-8,1)(8,4-8,3)=17,87713$$\n",
    "\n",
    "Para o cálculo do próximo polinômio, precisaremo do valor da diferença dividida restante:\n",
    "\n",
    "$$f[8,3;8,6;8,7]=\\frac{3.1576-3,1341}{8,7-8,3}=0,05875$$\n",
    "\n",
    "Por fim, o polinômio de grau 3 é dado por:\n",
    "\n",
    "$$P_3(8,4)=P_2(8,4)+f[8,1;8,3;8,6;8,7](x-8,1)(x-8,3)(x-8,6)=17,87713-0,0020833333(8,4-8,1)(8,4-8,3)(8,4-8,6)=17,8771425$$"
   ]
  },
  {
   "cell_type": "markdown",
   "metadata": {},
   "source": [
    "## Questão 3\n",
    "\n",
    "**Use a fórmula de diferenças progressivas de Newton para construir polinômios interpoladores de graus um, dois e três para os dados a seguir. Faça a aproximação do valor especificado usando cada um dos polinômios**\n",
    "\n",
    "__a) $f(-\\frac{1}{3})$, se $f(-0,75)=-0,07181250$, $f(-0,5) = -0,02475000$, $f(-0,25)=0,33493750$, $f(0)=1,10100000$ __\n",
    "\n",
    "__b) $f(0,25)$ se $f(0,1) = 0,62049958$, $f(0,2) = -0,28398668$, $f(0,3)=0,00660095$, $f(0,4)=0,24842440$__"
   ]
  },
  {
   "cell_type": "markdown",
   "metadata": {},
   "source": [
    "## Questão 5\n",
    "\n",
    "**Use a fórmula de diferencas regressivas de Newton para construir polinomios interpoladores de graus um, dois e tres para os dados a seguir. Faca a aproximacao do valor especificado usando cada um dos polinomios.**\n",
    "\n",
    "**a.** $f(-1/3)$ se $f(-0.75)= -0.007181250, f(-0.5) = -0.02475000, f(-0.25)= 0.33493750, f(0) = 1.10100000$\n",
    "\n",
    "**b.** $f(0.25)$ se $f(-1) = -0.62049958, f(0.2) = -0.28398668, f(0.3) = 0.00660095, f(0.4) = 0.24842440$"
   ]
  },
  {
   "cell_type": "markdown",
   "metadata": {},
   "source": [
    "## Questão 7\n",
    "\n",
    "use o Algoritmo 3.2 para construir polinômios interpoladores de grau um, dois e três para os pontos espaçados de forma desigual fornecidos na tabela a seguir:\n",
    "\n",
    "<table>\n",
    "    <tr>\n",
    "        <th>x</th>\n",
    "        <th>f(x)</th>\n",
    "    </tr>\n",
    "    <tr>\n",
    "        <td>-0.1</td>\n",
    "        <td>5.3</td>\n",
    "    </tr>\n",
    "    <tr>\n",
    "        <td>0</td>\n",
    "        <td>2</td>\n",
    "    </tr>\n",
    "    <tr>\n",
    "        <td>0.2</td>\n",
    "        <td>3.19</td>\n",
    "    </tr>\n",
    "    <tr>\n",
    "        <td>0.3</td>\n",
    "        <td>1</td>\n",
    "    </tr>\n",
    "</table>\n",
    "\n",
    "b) Acrescente f(0,35) = 0,97260 a tabela e construa o polinômio de grau quatro."
   ]
  },
  {
   "cell_type": "code",
   "execution_count": 7,
   "metadata": {},
   "outputs": [
    {
     "name": "stdout",
     "output_type": "stream",
     "text": [
      "        3         2\n",
      "-556.7 x + 185.5 x - 8.883 x + 2\n",
      "      4        3         2\n",
      "2730 x - 1649 x + 212.8 x + 7.498 x + 2\n"
     ]
    }
   ],
   "source": [
    "import numpy as np\n",
    "from numpy.polynomial import polynomial  as poly\n",
    "\n",
    "#author: Oniram Atila\n",
    "\n",
    "def interpola_newton(x, fx):\n",
    "    results = np.zeros((len(fx), len(fx)))\n",
    "    size = len(fx) \n",
    "\n",
    "\n",
    "    for i in range(size):\n",
    "        for j in range(size):\n",
    "            if(j == 0):#preenche a primeira coluna fx\n",
    "                results[i][j] = fx[i]\n",
    "            if(i >= 1 and j >= 1):\n",
    "                #preenche apenas as diagonais, pois é o que apenas importa\n",
    "                results[i][j] = (results[i][j-1] - results[i-1][j-1]) / (x[i] - x[i-j]) \n",
    "\n",
    "\n",
    "    #define um objeto de polinomio zerado\n",
    "    px = np.poly1d([ 0, 0])\n",
    "\n",
    "    for i in range(size):\n",
    "        temp = 1\n",
    "        if(i == 0):\n",
    "            px += results[0][0]\n",
    "        else:\n",
    "            for j in range(i):\n",
    "                temp = temp * np.poly1d([ 1, -x[j]])\n",
    "            px = px + temp * results[i][i]              \n",
    "\n",
    "\n",
    "\n",
    "    print(px)\n",
    "        \n",
    "\n",
    "#7A\n",
    "interpola_newton([-0.1, 0, 0.2, 0.3], [5.3, 2, 3.19, 1])\n",
    "#7B\n",
    "interpola_newton([-0.1, 0, 0.2, 0.3, 0.35], [5.3, 2, 3.19, 1, 0.97260])"
   ]
  },
  {
   "cell_type": "code",
   "execution_count": 10,
   "metadata": {},
   "outputs": [
    {
     "name": "stdout",
     "output_type": "stream",
     "text": [
      "   3         2\n",
      "1 x + 4.001 x + 4.002 x + 1.101\n",
      "f(-1/3) = 0.1745185\n",
      "         3         2\n",
      "-0.4732 x - 2.012 x + 4.002 x - 1\n",
      "f(0.25) =-0.1327748 \n"
     ]
    }
   ],
   "source": [
    "import numpy as np\n",
    "from numpy.polynomial import polynomial  as poly\n",
    "\n",
    "#author: Oniram Atila\n",
    "\n",
    "def interpola_newton(x, fx):\n",
    "    results = np.zeros((len(fx), len(fx)))\n",
    "    size = len(fx) \n",
    "\n",
    "\n",
    "    for i in range(size):\n",
    "        for j in range(size):\n",
    "            if(j == 0):#preenche a primeira coluna fx\n",
    "                results[i][j] = fx[i]\n",
    "            if(i >= 1 and j >= 1):\n",
    "                #preenche apenas as diagonais, pois é o que apenas importa\n",
    "                results[i][j] = (results[i][j-1] - results[i-1][j-1]) / (x[i] - x[i-j]) \n",
    "\n",
    "\n",
    "    #define um objeto de polinomio zerado\n",
    "    px = np.poly1d([ 0, 0])\n",
    "\n",
    "    for i in range(size):\n",
    "        temp = 1\n",
    "        if(i == 0):\n",
    "            px += results[0][0]\n",
    "        else:\n",
    "            for j in range(i):\n",
    "                temp = temp * np.poly1d([ 1, -x[j]])\n",
    "            px = px + temp * results[i][i]              \n",
    "\n",
    "\n",
    "\n",
    "    print(px)\n",
    "        \n",
    "\n",
    "#5A\n",
    "interpola_newton([-0.75,-0.5,-0.25,0],[-0.07181250,-0.02475000, 0.33493750, 1.10100000])\n",
    "\n",
    "print (\"f(-1/3) = 0.1745185\")\n",
    "#5B\n",
    "interpola_newton([0.1, 0.2, 0.3, 0.4], [-0.62049958,-0.28398668,0.00660095, 0.24842440])\n",
    "print (\"f(0.25) =-0.1327748 \")"
   ]
  },
  {
   "cell_type": "markdown",
   "metadata": {},
   "source": [
    "## Questão 15\n",
    "\n",
    "**A fórmula de diferencias divididas progressivas de Newton é usada para aproximas $f(0.3)$ a partir dos siguientes dados: **\n",
    "\n",
    "| $x$      |0.0        |0.2        |0.4        |0.6        |\n",
    "|---------------------|------------------|\n",
    "| $f(x)$       |15.0        |21.0 |30.0        |51.0        |\n",
    "\n",
    "\n",
    "\n",
    "**Suponha que se descubra que $f(0.4)$ foi diminuído em 10 e $f(0.6)$ foi aumentado em 5. Por qual valor a aproximacao de $f(0.3)$ deveria ser mudada?**"
   ]
  },
  {
   "cell_type": "code",
   "execution_count": 13,
   "metadata": {},
   "outputs": [
    {
     "name": "stdout",
     "output_type": "stream",
     "text": [
      "       3         2\n",
      "916.7 x - 637.5 x + 120.8 x + 15\n",
      "f(0.3) = 5.9375\n"
     ]
    }
   ],
   "source": [
    "\n",
    "interpola_newton([0.0,0.2,0.4,0.6],[15.0, 21.0, 20.0, 56.0])\n",
    "\n",
    "print (\"f(0.3) = 5.9375\")"
   ]
  },
  {
   "cell_type": "markdown",
   "metadata": {},
   "source": [
    "## Questão 17\n",
    "\n",
    "**Para uma função $f$, as diferenças divididas progressivas são dadas por:**\n",
    "\n",
    "| i     |$x_i$   |$f[x_i]$  |$f[x_i;x_{i+1}]$|$f[x_i;x_{i+1};x_{i+2}]$       |\n",
    "|:-----:|:------:|:--------:|:--------------:|:-----------------------------:|\n",
    "|0      | 0.0    |$f[x_0]$  |         .      |  .                            |\n",
    "|       |        |          |$f[x_0;x_1]$    |.                              |\n",
    "|1      | 0.4    |$f[x_1]$  |                |$f[x_0;x_1+1;x_2]=\\frac{50}{7}$|\n",
    "|       |        |          |$f[x_1;x_2]=10$ |.                              |\n",
    "|2      | 0.7    |$f[x_2]$=6|         .      |.                              |\n",
    "\n",
    "**Determine os valores que faltam na tabela**"
   ]
  },
  {
   "cell_type": "markdown",
   "metadata": {},
   "source": [
    "Os valores faltantes da tabela podem ser determinados realizando os cálculos de trás para frente. Dessa forma:\n",
    "\n",
    "$$f[x_0;x_1+1;x_2]=\\frac{f[x_1;x_2]-f[x_0;x_1]}{0.7-0.0}=\\frac{50}{7}→f[x_0;x_1]=5$$\n",
    "\n",
    "$$f[x_1;x_2]=\\frac{f[x_2]-f[x_1]}{0.7-0.4}=10 → f[x_1]=3$$\n",
    "\n",
    "$$f[x_0;x_1]=\\frac{f[x_1]-f[x_0]}{0.4-0.0}=5 → f[x_0]=1$$"
   ]
  },
  {
   "cell_type": "markdown",
   "metadata": {},
   "source": [
    "## Questão 19\n",
    "\n",
    "**Dado**\n",
    "$$P_n(x)=f[x_0]+f[x_0,x_1](x-x_0)+a_2(x-x_0)(x-x_1)+a_3(x-x_0)(x-x_1)(x-x_2)+...+a_n(x-x_0)(x-x_1)...(x-x_n-1),$$\n",
    "**use $P_n(x_2)$ para mostrar que $a_2=f[x_0,x_1,x_2]$**"
   ]
  },
  {
   "cell_type": "markdown",
   "metadata": {},
   "source": [
    "Substituindo-se $x$ por $x_2$ na fórmula dada, temos:\n",
    "\n",
    "$$P_n(x_2)=f[x_0]+f[x_0,x_1](x_2-x_0)+a_2(x_2-x_0)(x_2-x_1)+a_3(x_2-x_0)(x_2-x_1)(x_2-x_2)+...$$\n",
    "\n",
    "Observa-se que, a partir do termo $a_3$, todos os termos estarão acompanhados da diferença $(x-x_2)$, que possui valor 0, resultando em:\n",
    "\n",
    "$$P_n(x_2)=f[x_0]+f[x_0,x_1](x_2-x_0)+a_2(x_2-x_0)(x_2-x_1)$$\n",
    "\n",
    "Note que, $P_n(x_2)$ é equivalente a $P_2(x_2)$, e isolando $a_2$, temos:\n",
    "\n",
    "$$a_2=\\frac{P_2(x_2)-f[x_0]-f[x_0,x_1](x_2-x_0)}{(x_2-x_0)(x_2-x_1)}=\\frac{P_2(x_2)-P_1(x_2)}{(x_2-x_0)(x_2-x_1)}$$\n",
    "\n",
    "Pela equação (3.10), temos que a diferença $P_2(x_2)-P_1(x_2)=f[x_0,x_1,x_2](x_2-x_0)(x_2-x_1)$. Substituindo no resultado acima, temos:\n",
    "\n",
    "$$a_2=\\frac{f[x_0,x_1,x_2](x_2-x_0)(x_2-x_1)}{(x_2-x_0)(x_2-x_1)}=f[x_0,x_1,x_2]$$"
   ]
  },
  {
   "cell_type": "markdown",
   "metadata": {},
   "source": [
    "## Questão 21\n",
    "\n",
    "**Sejam $i_0,i_1,...,i_n$ uma reordenação dos números inteiros 0,1,...,$n$. Mostre que $f[x_{i_0},x_{i_1},...,x_{i_n}] = f[x_0,x_1,...,x_n]$.(_Sugestão_: Considere o coeficiente dominante do n-ésimo polinômio de Lagrange pelos dados $[x_{i_0},x_{i_1},...,x_{i_n}]=[x_0,x_1,...,x_n]$.)**"
   ]
  },
  {
   "cell_type": "markdown",
   "metadata": {},
   "source": [
    "Por definição, temos que o polinômio interpolador $P_n(x)$ é dado por:\n",
    "\n",
    "$$P_n(x) = f[x_0]+f[x_0,x_1](x-x_0)+...f[x_0,x_1,...,x_n](x-x_0)(x-x_1)...(x-x_{n-1})$$\n",
    "\n",
    "e o polinômio $P_{n_i}(x)$:\n",
    "\n",
    "$$P_{n_i}(x) = f[x_{i_0}]+f[x_{i_0},x_{i_1}](x-x_{i_0})+...f[x_{i_0},x_{i_1},...,x_{i_n}](x-x_{i_0})(x-x_{i_1})...(x-x_{i_{n-1}})$$\n",
    "\n",
    "Como, O polinômio de lagrange de ordem n para uma determinada função é único, e os elementos dos conjuntos $i_0,i_1,...,i_n$ e 0,1,...,$n$ são os mesmos, temos que:\n",
    "\n",
    "$$P_{n_i}(x) = P_n(x)$$\n",
    "\n",
    "Fazendo a comparação de polinômios, podemos comparar os termos que acompanham $x_n$ em cada um deles, e chegamos à conclusão que:\n",
    "\n",
    "$$f[x_{i_0},x_{i_1},...,x_{i_n}] = f[x_0,x_1,...,x_n]$$\n",
    "\n",
    "Ou seja, a ordem dos termos não importa no resultado final das diferenças divididas."
   ]
  }
 ],
 "metadata": {
  "kernelspec": {
   "display_name": "Python 3",
   "language": "python",
   "name": "python3"
  },
  "language_info": {
   "codemirror_mode": {
    "name": "ipython",
    "version": 3
   },
   "file_extension": ".py",
   "mimetype": "text/x-python",
   "name": "python",
   "nbconvert_exporter": "python",
   "pygments_lexer": "ipython3",
   "version": "3.6.4"
  }
 },
 "nbformat": 4,
 "nbformat_minor": 2
}
