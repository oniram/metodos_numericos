{
 "cells": [
  {
   "cell_type": "markdown",
   "metadata": {},
   "source": [
    "# SEÇÃO 3.1"
   ]
  },
  {
   "cell_type": "markdown",
   "metadata": {},
   "source": [
    "## Questão 1\n",
    "\n",
    "__a) $f(x) = cos x$ __\n",
    "\n",
    "__b) $f(x) = \\sqrt{1+x} $ __\n",
    "\n",
    "\n",
    "__c) $f(x) = ln(x+1)$__\n",
    "\n",
    "__d) $f(x) = tg x$__"
   ]
  },
  {
   "cell_type": "markdown",
   "metadata": {},
   "source": [
    "## Questão 3\n",
    "\n",
    "**Use o teorema 3.3 para encontrar um limitante do erro para as aproximações do exercício 1.**"
   ]
  },
  {
   "cell_type": "markdown",
   "metadata": {},
   "source": [
    "De acordo com o __Teorema 3.3__, o limitante do erro para as aproximações pode ser calculado utilizando:\n",
    "\n",
    "$$f(X) = P(x) + \\frac{f^{(n+1)}(\\xi(x))}{(n+1)!}(x-x_0)(x-x_1)...(x-x_n)$$\n",
    "\n",
    "Dessa forma, quando utilizamos polinômio de grau 1 para aproximar, o erro se torna:\n",
    "\n",
    "$$f(X) = P(x) + \\frac{f''(\\xi(x))}{2}(x-x_0)(x-x_1)$$\n",
    "\n",
    "E quando utilizamos polinômio de grau 2 para aproximar, temos o erro da forma:\n",
    "\n",
    "$$f(X) = P(x) + \\frac{f'''(\\xi(x))}{6}(x-x_0)(x-x_1)(x-x_2)$$\n",
    "\n",
    "Como as aproximações feitas no exercío 1 são para o valor de $f(x)$, no valor de $x=0,45$, utilizamos os valores $x_0 = 0$ e $x_1 = 0.6$. Substituindo esses valores da equação acima, temos:\n",
    "\n",
    "$$|f(x)-P(x)|=|\\frac{f''(\\xi(x))}{2}(0,45-0)(0,45-0,6)|=0.03375 . |f''(\\xi(x))| $$\n",
    "$$|f(x)-P(x)|=|\\frac{f'''(\\xi(x))}{6}(0,45-0)(0,45-0,6)(0,45-0,9)|=0,0050625.|f'''(\\xi(x))|$$\n",
    "\n",
    "O que significa que os erros serão dependentes apenas das derivadas da função, e dos valores $\\xi(x) \\in (0 ; 0,9)$ que maximizarão os módulos das derivadas das funções."
   ]
  },
  {
   "cell_type": "markdown",
   "metadata": {},
   "source": [
    "a) $f(x)=cos(x)$ → $f'(x)=-sen(x)$ → $f''(x)=-cos(x)$ → $f'''(x)=sen(x)$\n",
    "\n",
    "* Para o polinômio de 1 grau:\n",
    "\n",
    "$$|f(x)-P(x)|\\leq 0,03375 . |\\max (-cos(\\xi(x))_{0;0,6})|=0,03375$$  \n",
    "\n",
    "* Para o polinômio de 2 grau:\n",
    "\n",
    "$$|f(x)-P(x)|\\leq 0,0050625.|(sen(\\xi(x))_{0;0,9})|=0,00396559$$"
   ]
  },
  {
   "cell_type": "markdown",
   "metadata": {},
   "source": [
    "b) $f(x)=\\sqrt{1+x}$ → $f'(x)=\\frac{1}{2.\\sqrt{1+x}}$ → $f''(x)=-\\frac{1}{4(\\sqrt{1+x})^3}$ → $f'''(x)=\\frac{3}{8(\\sqrt{1+x})^5}$\n",
    "\n",
    "* Para o polinômio de 1 grau:\n",
    "\n",
    "$$|f(x)-P(x)|\\leq 0,03375 . |\\max (-\\frac{1}{4(\\sqrt{1+\\xi(x)})^3}_{0;0,6})|=0,0084375$$  \n",
    "\n",
    "* Para o polinômio de 2 grau:\n",
    "\n",
    "$$|f(x)-P(x)|\\leq 0,0050625.|\\max(\\frac{3}{8.(\\sqrt{1+\\xi(x)_{0;0,9}})^5})|=0,0018984375$$"
   ]
  },
  {
   "cell_type": "markdown",
   "metadata": {},
   "source": [
    "c) $f(x)=\\ln{x+1}$ → $f'(x)=\\frac{1}{x+1}$ → $f''(x)=-\\frac{1}{(x+1)^2}$ → $f'''(x)=\\frac{2}{(x+1)^3}$\n",
    "\n",
    "* Para o polinômio de 1 grau:\n",
    "\n",
    "$$|f(x)-P(x)|\\leq 0,03375 . |\\max (-\\frac{1}{(\\xi(x)_{0;0,6}+1)^2})|=0,03375$$  \n",
    "\n",
    "* Para o polinômio de 2 grau:\n",
    "\n",
    "$$|f(x)-P(x)|\\leq 0,0050625.|\\max(\\frac{2}{(\\xi(x)_{0;0,9}+1)^3})|=0,010125$$"
   ]
  },
  {
   "cell_type": "markdown",
   "metadata": {},
   "source": [
    "d) $f(x)=tg(x)$ → $f'(x)=sec^2(x)$ → $f''(x)=2.sec^2(x).tg(x)$ → $f'''(x)=2.sec^4(x)+4.sec^2(x).tg^2(x)$\n",
    "\n",
    "* Para o polinômio de 1 grau:\n",
    "\n",
    "$$|f(x)-P(x)|\\leq 0,03375 . |\\max (2.sec^2(\\xi(x)_{0;0,6}).tg(\\xi(x)_{0;0,6}))|=0.06779295$$  \n",
    "\n",
    "* Para o polinômio de 2 grau:\n",
    "\n",
    "$$|f(x)-P(x)|\\leq 0,0050625.|\\max(2.sec^4(xi(x)_{0;0,9})+4.sec^2(xi(x)_{0;0,9}).tg^2(\\xi(x)_{0;0,9}))|=0,15103665$$"
   ]
  },
  {
   "cell_type": "markdown",
   "metadata": {},
   "source": [
    "## Questão 5\n",
    "\n",
    "**Utilize polinômios interpoladores de Lagrange de graus um, dois e três adequados para aproximar cada um dos seguintes:**\n",
    "\n",
    "__a) $f(8,4)$, se $f(8,1) = 16,94410$, $f(8,3)=17,56492$, $f(8,6)=18,50515$, $f(8,7)=18,82091$ __\n",
    "\n",
    "__b) $f(-\\frac{1}{3})$, se $f(-0,75)=-0,07181250$, $f(-0,5) = -0,02475000$, $f(-0,25)=0,33493750$, $f(0)=1,10100000$ __\n",
    "\n",
    "__c) $f(0,25)$ se $f(0,1) = 0,62049958$, $f(0,2) = -0,28398668$, $f(0,3)=0,00660095$, $f(0,4)=0,24842440$__\n",
    "\n",
    "__d) $f(0,9)$ se $f(0,6)=-0,17694460$, $f(0,7)=0,01375227$, $f(0,8)=0,22363362$, $f(1,0)=0,65809197$__"
   ]
  },
  {
   "cell_type": "markdown",
   "metadata": {},
   "source": [
    "## Questão 7\n",
    "\n",
    "**Use o método de Neville para obter as aproximações no exercício 5. **"
   ]
  },
  {
   "cell_type": "markdown",
   "metadata": {},
   "source": [
    "__a) $f(8,4)$, se $f(8,1) = 16,94410$, $f(8,3)=17,56492$, $f(8,6)=18,50515$, $f(8,7)=18,82091$__\n",
    "\n",
    "$$P(8,4) = \\frac{(8,4-8,3).f(8,6)-(8,4-8,6).f(8,3)}{(8,6-8,3)}=17,87833$$\n",
    "\n",
    "__b) $f(-\\frac{1}{3})$, se $f(-0,75)=-0,07181250$, $f(-0,5) = -0,02475000$, $f(-0,25)=0,33493750$, $f(0)=1,10100000$ __\n",
    "\n",
    "$$P(-\\frac{1}{3}) = \\frac{(-\\frac{1}{3}+0,25).f(-0,5)-(-\\frac{1}{3}+0,5).f(-0,25)}{(-0,5+0,25)}=0,215041667$$\n",
    "\n",
    "__c) $f(0,25)$ se $f(0,1) = 0,62049958$, $f(0,2) = -0,28398668$, $f(0,3)=0,00660095$, $f(0,4)=0,24842440$__\n",
    "\n",
    "$$P(0,25) = \\frac{(0,25-0,2).f(0,3)-(0,25-0,3).f(0,2)}{(0,3-0,2)}=-0,138692865$$\n",
    "\n",
    "__d) $f(0,9)$ se $f(0,6)=-0,17694460$, $f(0,7)=0,01375227$, $f(0,8)=0,22363362$, $f(1,0)=0,65809197$__\n",
    "\n",
    "$$P(0,9) = \\frac{(0,9-0,8).f(1,0)-(0,9-1,0).f(0,8)}{(1,0-0,8)}=0.440862795$$"
   ]
  },
  {
   "cell_type": "markdown",
   "metadata": {},
   "source": [
    "# SEÇÃO 3.2"
   ]
  },
  {
   "cell_type": "markdown",
   "metadata": {},
   "source": [
    "## Questão  1\n",
    "\n",
    "**Utilize a Equação (3.10) ou o Algoritmo 3.2 para construir polinômios interpoladores de graus um, dois e três para os dados a seguir. Faça a aproximação do valor especificado usando cada um dos polinômios:**\n",
    "\n",
    "__a) $f(8,4)$, se $f(8,1) = 16,94410$, $f(8,3)=17,56492$, $f(8,6)=18,50515$, $f(8,7)=18,82091$ __\n",
    "\n",
    "__b) $f(0,9)$ se $f(0,6)=-0,17694460$, $f(0,7)=0,01375227$, $f(0,8)=0,22363362$, $f(1,0)=0,65809197$__"
   ]
  },
  {
   "cell_type": "markdown",
   "metadata": {},
   "source": [
    "Pela equação 3.10, temos que o polinômio interpolador de grau n é dado por:\n",
    "\n",
    "$$P_n(x)=f[x_0]+\\sum_{k=1}^{n}{f[x_0,x_1,...,x_k](x-x_0)...(x-x_{k-1})}$$\n",
    "\n",
    "a) O polinômio de grau 1 é dado por: \n",
    "\n",
    "$$P_1(8,4) = f[8,1]+f[8,1;8,3](x-8,1)=16,94410+\\frac{17,56492-16,94410}{8,3-8,1}(x-8,1)=16,94410+3,1041(x-8,1)=17,87533$$\n",
    "\n",
    "Para o cálculo dos próximos polinômios, precisaremos dos valores das diferenças divididas, portanto:\n",
    "\n",
    "$$f[8,3;8,6]=\\frac{18,50515-17,56492}{8,6-8,3}=3,1341$$\n",
    "\n",
    "$$f[8,6;8,7]=\\frac{18,82091-18,50515}{8,7-8,6}=3,1576$$\n",
    "\n",
    "O polinômio de grau 2 é dado por: \n",
    "\n",
    "$$P_2(8,4) = P_1(x)+f[8,1;8,3;8,6](x-8,1)(x-8,3)=17,87533+\\frac{3.1341-3.1041}{8,6-8,1}(x-8,1)(x-8,3)=17,87533+0,06(8,4-8,1)(8,4-8,3)=17,87713$$\n",
    "\n",
    "Para o cálculo do próximo polinômio, precisaremo do valor da diferença dividida restante:\n",
    "\n",
    "$$f[8,3;8,6;8,7]=\\frac{3.1576-3,1341}{8,7-8,3}=0,05875$$\n",
    "\n",
    "Por fim, o polinômio de grau 3 é dado por:\n",
    "\n",
    "$$P_3(8,4)=P_2(8,4)+f[8,1;8,3;8,6;8,7](x-8,1)(x-8,3)(x-8,6)=17,87713-0,0020833333(8,4-8,1)(8,4-8,3)(8,4-8,6)=17,8771425$$"
   ]
  },
  {
   "cell_type": "markdown",
   "metadata": {},
   "source": [
    "## Questão 3\n",
    "\n",
    "**Use a fórmula de diferenças progressivas de Newton para construir polinômios interpoladores de graus um, dois e três para os dados a seguir. Faça a aproximação do valor especificado usando cada um dos polinômios**\n",
    "\n",
    "__a) $f(-\\frac{1}{3})$, se $f(-0,75)=-0,07181250$, $f(-0,5) = -0,02475000$, $f(-0,25)=0,33493750$, $f(0)=1,10100000$ __\n",
    "\n",
    "__b) $f(0,25)$ se $f(0,1) = 0,62049958$, $f(0,2) = -0,28398668$, $f(0,3)=0,00660095$, $f(0,4)=0,24842440$__"
   ]
  },
  {
   "cell_type": "markdown",
   "metadata": {},
   "source": [
    "## Questão 17\n",
    "\n",
    "**Para uma função $f$, as diferenças divididas progressivas são dadas por:**\n",
    "\n",
    "| i     |$x_i$   |$f[x_i]$  |$f[x_i;x_{i+1}]$|$f[x_i;x_{i+1};x_{i+2}]$       |\n",
    "|:-----:|:------:|:--------:|:--------------:|:-----------------------------:|\n",
    "|0      | 0.0    |$f[x_0]$  |         .      |  .                            |\n",
    "|       |        |          |$f[x_0;x_1]$    |.                              |\n",
    "|1      | 0.4    |$f[x_1]$  |                |$f[x_0;x_1+1;x_2]=\\frac{50}{7}$|\n",
    "|       |        |          |$f[x_1;x_2]=10$ |.                              |\n",
    "|2      | 0.7    |$f[x_2]$=6|         .      |.                              |\n",
    "\n",
    "**Determine os valores que faltam na tabela**"
   ]
  },
  {
   "cell_type": "markdown",
   "metadata": {},
   "source": [
    "Os valores faltantes da tabela podem ser determinados realizando os cálculos de trás para frente. Dessa forma:\n",
    "\n",
    "$$f[x_0;x_1+1;x_2]=\\frac{f[x_1;x_2]-f[x_0;x_1]}{0.7-0.0}=\\frac{50}{7}→f[x_0;x_1]=5$$\n",
    "\n",
    "$$f[x_1;x_2]=\\frac{f[x_2]-f[x_1]}{0.7-0.4}=10 → f[x_1]=3$$\n",
    "\n",
    "$$f[x_0;x_1]=\\frac{f[x_1]-f[x_0]}{0.4-0.0}=5 → f[x_0]=1$$"
   ]
  },
  {
   "cell_type": "markdown",
   "metadata": {},
   "source": [
    "## Questão 19\n",
    "\n",
    "**Dado**\n",
    "$$P_n(x)=f[x_0]+f[x_0,x_1](x-x_0)+a_2(x-x_0)(x-x_1)+a_3(x-x_0)(x-x_1)(x-x_2)+...+a_n(x-x_0)(x-x_1)...(x-x_n-1),$$\n",
    "**use $P_n(x_2)$ para mostrar que $a_2=f[x_0,x_1,x_2]$**"
   ]
  },
  {
   "cell_type": "markdown",
   "metadata": {},
   "source": [
    "Substituindo-se $x$ por $x_2$ na fórmula dada, temos:\n",
    "\n",
    "$$P_n(x_2)=f[x_0]+f[x_0,x_1](x_2-x_0)+a_2(x_2-x_0)(x_2-x_1)+a_3(x_2-x_0)(x_2-x_1)(x_2-x_2)+...$$\n",
    "\n",
    "Observa-se que, a partir do termo $a_3$, todos os termos estarão acompanhados da diferença $(x-x_2)$, que possui valor 0, resultando em:\n",
    "\n",
    "$$P_n(x_2)=f[x_0]+f[x_0,x_1](x_2-x_0)+a_2(x_2-x_0)(x_2-x_1)$$\n",
    "\n",
    "Note que, $P_n(x_2)$ é equivalente a $P_2(x_2)$, e isolando $a_2$, temos:\n",
    "\n",
    "$$a_2=\\frac{P_2(x_2)-f[x_0]-f[x_0,x_1](x_2-x_0)}{(x_2-x_0)(x_2-x_1)}=\\frac{P_2(x_2)-P_1(x_2)}{(x_2-x_0)(x_2-x_1)}$$\n",
    "\n",
    "Pela equação (3.10), temos que a diferença $P_2(x_2)-P_1(x_2)=f[x_0,x_1,x_2](x_2-x_0)(x_2-x_1)$. Substituindo no resultado acima, temos:\n",
    "\n",
    "$$a_2=\\frac{f[x_0,x_1,x_2](x_2-x_0)(x_2-x_1)}{(x_2-x_0)(x_2-x_1)}=f[x_0,x_1,x_2]$$"
   ]
  }
 ],
 "metadata": {
  "kernelspec": {
   "display_name": "Python 3",
   "language": "python",
   "name": "python3"
  },
  "language_info": {
   "codemirror_mode": {
    "name": "ipython",
    "version": 3
   },
   "file_extension": ".py",
   "mimetype": "text/x-python",
   "name": "python",
   "nbconvert_exporter": "python",
   "pygments_lexer": "ipython3",
   "version": "3.6.4"
  }
 },
 "nbformat": 4,
 "nbformat_minor": 2
}
