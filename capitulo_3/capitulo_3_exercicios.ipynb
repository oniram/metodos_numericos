{
 "cells": [
  {
   "cell_type": "code",
   "execution_count": null,
   "metadata": {},
   "outputs": [],
   "source": []
  },
  {
   "cell_type": "markdown",
   "metadata": {},
   "source": [
    "# SEÇÃO 3.1"
   ]
  },
  {
   "cell_type": "markdown",
   "metadata": {},
   "source": [
    "## Questão 1\n",
    "\n",
    "__a) $f(x) = cos x$ __\n",
    "\n",
    "__b) $f(x) = \\sqrt{1+x} $ __\n",
    "\n",
    "\n",
    "__c) $f(x) = ln(x+1)$__\n",
    "\n",
    "__d) $f(x) = tg x$__"
   ]
  },
  {
   "cell_type": "code",
   "execution_count": 2,
   "metadata": {},
   "outputs": [
    {
     "name": "stdout",
     "output_type": "stream",
     "text": [
      "         2\n",
      "-0.4311 x - 0.03246 x + 1          f(0.45) =     0.898100074705722\n"
     ]
    }
   ],
   "source": [
    "# cos(x)\n",
    "import math as mt\n",
    "from scipy.interpolate import lagrange\n",
    "\n",
    "x0=0\n",
    "x1=0.6\n",
    "x2=0.9\n",
    "y0 = mt.cos(x0)\n",
    "y1 = mt.cos(x1)\n",
    "y2 = mt.cos(x2)\n",
    "\n",
    "polinomio= lagrange([x0,x1,x2],[y0,y1,y2])\n",
    "print ( polinomio,  \"         f(0.45) =    \", polinomio(0.45))\n",
    "                         "
   ]
  },
  {
   "cell_type": "code",
   "execution_count": 44,
   "metadata": {},
   "outputs": [
    {
     "name": "stdout",
     "output_type": "stream",
     "text": [
      "          2\n",
      "-0.07023 x + 0.4837 x + 1          f(0.45) =     1.2034237282735154\n"
     ]
    }
   ],
   "source": [
    "#(1+x)**(1/2)\n",
    "y0=(1+x0)**(1/2)\n",
    "y1=(1+x1)**(1/2)\n",
    "y2=(1+x2)**(1/2)\n",
    "\n",
    "polinomio= lagrange([x0,x1,x2],[y0,y1,y2])\n",
    "print ( polinomio,  \"         f(0.45) =    \", polinomio(0.45))"
   ]
  },
  {
   "cell_type": "code",
   "execution_count": 45,
   "metadata": {},
   "outputs": [
    {
     "name": "stdout",
     "output_type": "stream",
     "text": [
      "         2\n",
      "-0.2339 x + 0.9237 x          f(0.45) =     0.3682906113583539\n"
     ]
    }
   ],
   "source": [
    "# ln(1+x)\n",
    "y0=mt.log(1+x0)\n",
    "y1=mt.log(1+x1)\n",
    "y2=mt.log(1+x2)\n",
    "\n",
    "polinomio= lagrange([x0,x1,x2],[y0,y1,y2])\n",
    "print ( polinomio,  \"         f(0.45) =    \", polinomio(0.45))"
   ]
  },
  {
   "cell_type": "code",
   "execution_count": 46,
   "metadata": {},
   "outputs": [
    {
     "name": "stdout",
     "output_type": "stream",
     "text": [
      "        2\n",
      "0.8665 x + 0.6203 x          f(0.45) =     0.4546143549968192\n"
     ]
    }
   ],
   "source": [
    "# tg(x)\n",
    "y0=mt.tan(x0)\n",
    "y1=mt.tan(x1)\n",
    "y2=mt.tan(x2)\n",
    "\n",
    "polinomio= lagrange([x0,x1,x2],[y0,y1,y2])\n",
    "print ( polinomio,  \"         f(0.45) =    \", polinomio(0.45))"
   ]
  },
  {
   "cell_type": "markdown",
   "metadata": {},
   "source": [
    "## Questão 3\n",
    "\n",
    "**Use o teorema 3.3 para encontrar um limitante do erro para as aproximações do exercício 1.**"
   ]
  },
  {
   "cell_type": "markdown",
   "metadata": {},
   "source": [
    "De acordo com o __Teorema 3.3__, o limitante do erro para as aproximações pode ser calculado utilizando:\n",
    "\n",
    "$$f(X) = P(x) + \\frac{f^{(n+1)}(\\xi(x))}{(n+1)!}(x-x_0)(x-x_1)...(x-x_n)$$\n",
    "\n",
    "Dessa forma, quando utilizamos polinômio de grau 1 para aproximar, o erro se torna:\n",
    "\n",
    "$$f(X) = P(x) + \\frac{f''(\\xi(x))}{2}(x-x_0)(x-x_1)$$\n",
    "\n",
    "E quando utilizamos polinômio de grau 2 para aproximar, temos o erro da forma:\n",
    "\n",
    "$$f(X) = P(x) + \\frac{f'''(\\xi(x))}{6}(x-x_0)(x-x_1)(x-x_2)$$\n",
    "\n",
    "Como as aproximações feitas no exercío 1 são para o valor de $f(x)$, no valor de $x=0,45$, utilizamos os valores $x_0 = 0$ e $x_1 = 0.6$. Substituindo esses valores da equação acima, temos:\n",
    "\n",
    "$$|f(x)-P(x)|=|\\frac{f''(\\xi(x))}{2}(0,45-0)(0,45-0,6)|=0.03375 . |f''(\\xi(x))| $$\n",
    "$$|f(x)-P(x)|=|\\frac{f'''(\\xi(x))}{6}(0,45-0)(0,45-0,6)(0,45-0,9)|=0,0050625.|f'''(\\xi(x))|$$\n",
    "\n",
    "O que significa que os erros serão dependentes apenas das derivadas da função, e dos valores $\\xi(x) \\in (0 ; 0,9)$ que maximizarão os módulos das derivadas das funções."
   ]
  },
  {
   "cell_type": "markdown",
   "metadata": {},
   "source": [
    "a) $f(x)=cos(x)$ → $f'(x)=-sen(x)$ → $f''(x)=-cos(x)$ → $f'''(x)=sen(x)$\n",
    "\n",
    "* Para o polinômio de 1 grau:\n",
    "\n",
    "$$|f(x)-P(x)|\\leq 0,03375 . |\\max (-cos(\\xi(x))_{0;0,6})|=0,03375$$  \n",
    "\n",
    "* Para o polinômio de 2 grau:\n",
    "\n",
    "$$|f(x)-P(x)|\\leq 0,0050625.|(sen(\\xi(x))_{0;0,9})|=0,00396559$$"
   ]
  },
  {
   "cell_type": "markdown",
   "metadata": {},
   "source": [
    "b) $f(x)=\\sqrt{1+x}$ → $f'(x)=\\frac{1}{2.\\sqrt{1+x}}$ → $f''(x)=-\\frac{1}{4(\\sqrt{1+x})^3}$ → $f'''(x)=\\frac{3}{8(\\sqrt{1+x})^5}$\n",
    "\n",
    "* Para o polinômio de 1 grau:\n",
    "\n",
    "$$|f(x)-P(x)|\\leq 0,03375 . |\\max (-\\frac{1}{4(\\sqrt{1+\\xi(x)})^3}_{0;0,6})|=0,0084375$$  \n",
    "\n",
    "* Para o polinômio de 2 grau:\n",
    "\n",
    "$$|f(x)-P(x)|\\leq 0,0050625.|\\max(\\frac{3}{8.(\\sqrt{1+\\xi(x)_{0;0,9}})^5})|=0,0018984375$$"
   ]
  },
  {
   "cell_type": "markdown",
   "metadata": {},
   "source": [
    "c) $f(x)=\\ln{x+1}$ → $f'(x)=\\frac{1}{x+1}$ → $f''(x)=-\\frac{1}{(x+1)^2}$ → $f'''(x)=\\frac{2}{(x+1)^3}$\n",
    "\n",
    "* Para o polinômio de 1 grau:\n",
    "\n",
    "$$|f(x)-P(x)|\\leq 0,03375 . |\\max (-\\frac{1}{(\\xi(x)_{0;0,6}+1)^2})|=0,03375$$  \n",
    "\n",
    "* Para o polinômio de 2 grau:\n",
    "\n",
    "$$|f(x)-P(x)|\\leq 0,0050625.|\\max(\\frac{2}{(\\xi(x)_{0;0,9}+1)^3})|=0,010125$$"
   ]
  },
  {
   "cell_type": "markdown",
   "metadata": {},
   "source": [
    "d) $f(x)=tg(x)$ → $f'(x)=sec^2(x)$ → $f''(x)=2.sec^2(x).tg(x)$ → $f'''(x)=2.sec^4(x)+4.sec^2(x).tg^2(x)$\n",
    "\n",
    "* Para o polinômio de 1 grau:\n",
    "\n",
    "$$|f(x)-P(x)|\\leq 0,03375 . |\\max (2.sec^2(\\xi(x)_{0;0,6}).tg(\\xi(x)_{0;0,6}))|=0.06779295$$  \n",
    "\n",
    "* Para o polinômio de 2 grau:\n",
    "\n",
    "$$|f(x)-P(x)|\\leq 0,0050625.|\\max(2.sec^4(xi(x)_{0;0,9})+4.sec^2(xi(x)_{0;0,9}).tg^2(\\xi(x)_{0;0,9}))|=0,15103665$$"
   ]
  },
  {
   "cell_type": "markdown",
   "metadata": {},
   "source": [
    "## Questão 5\n",
    "\n",
    "**Utilize polinômios interpoladores de Lagrange de graus um, dois e três adequados para aproximar cada um dos seguintes:**\n",
    "\n",
    "__a) $f(8,4)$, se $f(8,1) = 16,94410$, $f(8,3)=17,56492$, $f(8,6)=18,50515$, $f(8,7)=18,82091$ __\n",
    "\n",
    "__b) $f(-\\frac{1}{3})$, se $f(-0,75)=-0,07181250$, $f(-0,5) = -0,02475000$, $f(-0,25)=0,33493750$, $f(0)=1,10100000$ __\n",
    "\n",
    "__c) $f(0,25)$ se $f(0,1) = 0,62049958$, $f(0,2) = -0,28398668$, $f(0,3)=0,00660095$, $f(0,4)=0,24842440$__\n",
    "\n",
    "__d) $f(0,9)$ se $f(0,6)=-0,17694460$, $f(0,7)=0,01375227$, $f(0,8)=0,22363362$, $f(1,0)=0,65809197$__"
   ]
  },
  {
   "cell_type": "code",
   "execution_count": 1,
   "metadata": {},
   "outputs": [
    {
     "ename": "NameError",
     "evalue": "name 'lagrange' is not defined",
     "output_type": "error",
     "traceback": [
      "\u001b[1;31m---------------------------------------------------------------------------\u001b[0m",
      "\u001b[1;31mNameError\u001b[0m                                 Traceback (most recent call last)",
      "\u001b[1;32m<ipython-input-1-58cc4954adef>\u001b[0m in \u001b[0;36m<module>\u001b[1;34m()\u001b[0m\n\u001b[0;32m      9\u001b[0m \u001b[0my3\u001b[0m\u001b[1;33m=\u001b[0m\u001b[1;36m18.82091\u001b[0m\u001b[1;33m\u001b[0m\u001b[0m\n\u001b[0;32m     10\u001b[0m \u001b[1;33m\u001b[0m\u001b[0m\n\u001b[1;32m---> 11\u001b[1;33m \u001b[0mpolinomio\u001b[0m\u001b[1;33m=\u001b[0m \u001b[0mlagrange\u001b[0m\u001b[1;33m(\u001b[0m\u001b[1;33m[\u001b[0m\u001b[0mx0\u001b[0m\u001b[1;33m,\u001b[0m\u001b[0mx1\u001b[0m\u001b[1;33m,\u001b[0m\u001b[0mx2\u001b[0m\u001b[1;33m]\u001b[0m\u001b[1;33m,\u001b[0m\u001b[1;33m[\u001b[0m\u001b[0my0\u001b[0m\u001b[1;33m,\u001b[0m\u001b[0my1\u001b[0m\u001b[1;33m,\u001b[0m\u001b[0my2\u001b[0m\u001b[1;33m]\u001b[0m\u001b[1;33m)\u001b[0m\u001b[1;33m\u001b[0m\u001b[0m\n\u001b[0m\u001b[0;32m     12\u001b[0m \u001b[0mprint\u001b[0m \u001b[1;33m(\u001b[0m \u001b[0mpolinomio\u001b[0m\u001b[1;33m,\u001b[0m  \u001b[1;34m\"         f(8.4) =    \"\u001b[0m\u001b[1;33m,\u001b[0m \u001b[0mpolinomio\u001b[0m\u001b[1;33m(\u001b[0m\u001b[1;36m8.4\u001b[0m\u001b[1;33m)\u001b[0m\u001b[1;33m)\u001b[0m\u001b[1;33m\u001b[0m\u001b[0m\n",
      "\u001b[1;31mNameError\u001b[0m: name 'lagrange' is not defined"
     ]
    }
   ],
   "source": [
    "#A.\n",
    "x0=8.1\n",
    "x1=8.3\n",
    "x2=8.6\n",
    "x3=8.7\n",
    "y0=16.99410\n",
    "y1=17.56492\n",
    "y2=18.50515\n",
    "y3=18.82091\n",
    "\n",
    "polinomio= lagrange([x0,x1,x2],[y0,y1,y2])\n",
    "print ( polinomio,  \"         f(8.4) =    \", polinomio(8.4))"
   ]
  },
  {
   "cell_type": "code",
   "execution_count": 53,
   "metadata": {},
   "outputs": [
    {
     "name": "stdout",
     "output_type": "stream",
     "text": [
      "   3         2\n",
      "1 x + 4.001 x + 4.002 x + 1.101          f(-1/3) =     0.17451851851851852\n"
     ]
    }
   ],
   "source": [
    "#B.\n",
    "x0=-0.75\n",
    "x1=-0.5\n",
    "x2=-0.25\n",
    "x3=0\n",
    "y0=-0.07181250\n",
    "y1=-0.02475000\n",
    "y2=0.33493750\n",
    "y3=1.10100000\n",
    "\n",
    "polinomio= lagrange([x0,x1,x2,x3],[y0,y1,y2,y3])\n",
    "print ( polinomio,  \"         f(-1/3) =    \", polinomio(-1/3))"
   ]
  },
  {
   "cell_type": "code",
   "execution_count": 55,
   "metadata": {},
   "outputs": [
    {
     "name": "stdout",
     "output_type": "stream",
     "text": [
      "        3         2\n",
      "-207.3 x + 184.1 x - 49.77 x + 3.964          f(0.25) =     -0.21033722187500237\n"
     ]
    }
   ],
   "source": [
    "#C.\n",
    "x0=0.1\n",
    "x1=0.2\n",
    "x2=0.3\n",
    "x3=0.4\n",
    "y0=0.62049958\n",
    "y1=-0.28398668\n",
    "y2=0.00660095\n",
    "y3=0.24842440\n",
    "\n",
    "polinomio= lagrange([x0,x1,x2,x3],[y0,y1,y2,y3])\n",
    "print ( polinomio,  \"         f(0.25) =    \", polinomio(0.25))"
   ]
  },
  {
   "cell_type": "code",
   "execution_count": 57,
   "metadata": {},
   "outputs": [
    {
     "name": "stdout",
     "output_type": "stream",
     "text": [
      "        3         2\n",
      "-1.786 x + 4.709 x - 1.947 x - 0.3182          f(0.9) =     0.44198500250000905\n"
     ]
    }
   ],
   "source": [
    "#D.\n",
    "x0=0.6\n",
    "x1=0.7\n",
    "x2=0.8\n",
    "x3=1.0\n",
    "y0=-0.17694460\n",
    "y1=0.01375227\n",
    "y2=0.22363362\n",
    "y3=0.65809197\n",
    "\n",
    "polinomio= lagrange([x0,x1,x2,x3],[y0,y1,y2,y3])\n",
    "print ( polinomio,  \"         f(0.9) =    \", polinomio(0.9))"
   ]
  },
  {
   "cell_type": "code",
   "execution_count": null,
   "metadata": {},
   "outputs": [],
   "source": []
  },
  {
   "cell_type": "markdown",
   "metadata": {},
   "source": [
    "## Questão 7\n",
    "\n",
    "**Use o método de Neville para obter as aproximações no exercício 5. **"
   ]
  },
  {
   "cell_type": "markdown",
   "metadata": {},
   "source": [
    "__a) $f(8,4)$, se $f(8,1) = 16,94410$, $f(8,3)=17,56492$, $f(8,6)=18,50515$, $f(8,7)=18,82091$__\n",
    "\n",
    "$$P(8,4) = \\frac{(8,4-8,3).f(8,6)-(8,4-8,6).f(8,3)}{(8,6-8,3)}=17,87833$$\n",
    "\n",
    "__b) $f(-\\frac{1}{3})$, se $f(-0,75)=-0,07181250$, $f(-0,5) = -0,02475000$, $f(-0,25)=0,33493750$, $f(0)=1,10100000$ __\n",
    "\n",
    "$$P(-\\frac{1}{3}) = \\frac{(-\\frac{1}{3}+0,25).f(-0,5)-(-\\frac{1}{3}+0,5).f(-0,25)}{(-0,5+0,25)}=0,215041667$$\n",
    "\n",
    "__c) $f(0,25)$ se $f(0,1) = 0,62049958$, $f(0,2) = -0,28398668$, $f(0,3)=0,00660095$, $f(0,4)=0,24842440$__\n",
    "\n",
    "$$P(0,25) = \\frac{(0,25-0,2).f(0,3)-(0,25-0,3).f(0,2)}{(0,3-0,2)}=-0,138692865$$\n",
    "\n",
    "__d) $f(0,9)$ se $f(0,6)=-0,17694460$, $f(0,7)=0,01375227$, $f(0,8)=0,22363362$, $f(1,0)=0,65809197$__\n",
    "\n",
    "$$P(0,9) = \\frac{(0,9-0,8).f(1,0)-(0,9-1,0).f(0,8)}{(1,0-0,8)}=0.440862795$$"
   ]
  },
  {
   "cell_type": "markdown",
   "metadata": {},
   "source": [
    "## Questão 23\n",
    "**Suponha que $x_{j} = j$, para $j = 0, 1, 2, 3$ e que seja sabido que**\n",
    "$$P_{0,1}(x) = 2x + 1, P_{0,2}(x)= x-1$$   **e**  $$P_{1,2,3}(2.5) = 3$$\n",
    "\n",
    "**Encontre $P_{0,1,2,3}(1.5)$.**\n",
    "\n",
    "$$P_{0,1,2}(x)= \\frac{(x-x_{2}) P_{0,1}(x) - (x-x_{1}) P_{0,2}(x)}{x_{1}-x_{2}} = 1 + 3x - x^2$$\n",
    "\n",
    "$P_{0,1,2,3}(1.5)$.\n",
    "\n",
    "$$P_{0,1,2,3}(2.5)= \\frac{(2.5-x_{0}) P_{1,2,3}(2.5) - (2.5-x_{3}) P_{0,1,2}(2.5)}{x_{3}-x_{0}} = 2.9166$$"
   ]
  },
  {
   "cell_type": "markdown",
   "metadata": {},
   "source": [
    "## Questão 25\n",
    "**Construa uma sequência de valores interpoladores $y_n$ para $f(1 + (10)^{1/2}))$, onde $f(x) = (1+x^2)^{-1}$  para $-5 ≤ x ≤ 5$, da seguinte maneira: para cada $n = 1, 2, 3, ..., 10$, seja $h=10/n$ e $y_{n} = P_{n}(1 + (10)^{1/2})$, onde $P_{n}(x)$ é o polinomio interpolador par a$f(x)$ nos nós $x^{(n)}, x_{1}^{(n)}, ... , x_{n}^{(n)}$ e $x_{j}^{(n)} = -5 + jh$, para cada $j = 0,1,2, ... , n$. A Sequencia ${y_{n}}$ parece convergir para $f(1 + (10)^{1/2}))$.**"
   ]
  },
  {
   "cell_type": "markdown",
   "metadata": {},
   "source": [
    "# SEÇÃO 3.2"
   ]
  },
  {
   "cell_type": "markdown",
   "metadata": {},
   "source": [
    "## Questão  1\n",
    "\n",
    "**Utilize a Equação (3.10) ou o Algoritmo 3.2 para construir polinômios interpoladores de graus um, dois e três para os dados a seguir. Faça a aproximação do valor especificado usando cada um dos polinômios:**\n",
    "\n",
    "__a) $f(8,4)$, se $f(8,1) = 16,94410$, $f(8,3)=17,56492$, $f(8,6)=18,50515$, $f(8,7)=18,82091$ __\n",
    "\n",
    "__b) $f(0,9)$ se $f(0,6)=-0,17694460$, $f(0,7)=0,01375227$, $f(0,8)=0,22363362$, $f(1,0)=0,65809197$__"
   ]
  },
  {
   "cell_type": "markdown",
   "metadata": {},
   "source": [
    "Pela equação 3.10, temos que o polinômio interpolador de grau n é dado por:\n",
    "\n",
    "$$P_n(x)=f[x_0]+\\sum_{k=1}^{n}{f[x_0,x_1,...,x_k](x-x_0)...(x-x_{k-1})}$$\n",
    "\n",
    "a) O polinômio de grau 1 é dado por: \n",
    "\n",
    "$$P_1(8,4) = f[8,1]+f[8,1;8,3](x-8,1)=16,94410+\\frac{17,56492-16,94410}{8,3-8,1}(x-8,1)=16,94410+3,1041(x-8,1)=17,87533$$\n",
    "\n",
    "Para o cálculo dos próximos polinômios, precisaremos dos valores das diferenças divididas, portanto:\n",
    "\n",
    "$$f[8,3;8,6]=\\frac{18,50515-17,56492}{8,6-8,3}=3,1341$$\n",
    "\n",
    "$$f[8,6;8,7]=\\frac{18,82091-18,50515}{8,7-8,6}=3,1576$$\n",
    "\n",
    "O polinômio de grau 2 é dado por: \n",
    "\n",
    "$$P_2(8,4) = P_1(x)+f[8,1;8,3;8,6](x-8,1)(x-8,3)=17,87533+\\frac{3.1341-3.1041}{8,6-8,1}(x-8,1)(x-8,3)=17,87533+0,06(8,4-8,1)(8,4-8,3)=17,87713$$\n",
    "\n",
    "Para o cálculo do próximo polinômio, precisaremo do valor da diferença dividida restante:\n",
    "\n",
    "$$f[8,3;8,6;8,7]=\\frac{3.1576-3,1341}{8,7-8,3}=0,05875$$\n",
    "\n",
    "Por fim, o polinômio de grau 3 é dado por:\n",
    "\n",
    "$$P_3(8,4)=P_2(8,4)+f[8,1;8,3;8,6;8,7](x-8,1)(x-8,3)(x-8,6)=17,87713-0,0020833333(8,4-8,1)(8,4-8,3)(8,4-8,6)=17,8771425$$"
   ]
  },
  {
   "cell_type": "markdown",
   "metadata": {},
   "source": [
    "## Questão 3\n",
    "\n",
    "**Use a fórmula de diferenças progressivas de Newton para construir polinômios interpoladores de graus um, dois e três para os dados a seguir. Faça a aproximação do valor especificado usando cada um dos polinômios**\n",
    "\n",
    "__a) $f(-\\frac{1}{3})$, se $f(-0,75)=-0,07181250$, $f(-0,5) = -0,02475000$, $f(-0,25)=0,33493750$, $f(0)=1,10100000$ __\n",
    "\n",
    "__b) $f(0,25)$ se $f(0,1) = 0,62049958$, $f(0,2) = -0,28398668$, $f(0,3)=0,00660095$, $f(0,4)=0,24842440$__"
   ]
  },
  {
   "cell_type": "markdown",
   "metadata": {},
   "source": [
    "## Questão 5\n",
    "\n",
    "**Use a fórmula de diferencas regressivas de Newton para construir polinomios interpoladores de graus um, dois e tres para os dados a seguir. Faca a aproximacao do valor especificado usando cada um dos polinomios.**\n",
    "\n",
    "**a.** $f(-1/3)$ se $f(-0.75)= -0.007181250, f(-0.5) = -0.02475000, f(-0.25)= 0.33493750, f(0) = 1.10100000$\n",
    "\n",
    "**b.** $f(0.25)$ se $f(-1) = -0.62049958, f(0.2) = -0.28398668, f(0.3) = 0.00660095, f(0.4) = 0.24842440$"
   ]
  },
  {
   "cell_type": "code",
   "execution_count": 10,
   "metadata": {},
   "outputs": [
    {
     "name": "stdout",
     "output_type": "stream",
     "text": [
      "   3         2\n",
      "1 x + 4.001 x + 4.002 x + 1.101\n",
      "f(-1/3) = 0.1745185\n",
      "         3         2\n",
      "-0.4732 x - 2.012 x + 4.002 x - 1\n",
      "f(0.25) =-0.1327748 \n"
     ]
    }
   ],
   "source": [
    "import numpy as np\n",
    "from numpy.polynomial import polynomial  as poly\n",
    "\n",
    "#author: Oniram Atila\n",
    "\n",
    "def interpola_newton(x, fx):\n",
    "    results = np.zeros((len(fx), len(fx)))\n",
    "    size = len(fx) \n",
    "\n",
    "\n",
    "    for i in range(size):\n",
    "        for j in range(size):\n",
    "            if(j == 0):#preenche a primeira coluna fx\n",
    "                results[i][j] = fx[i]\n",
    "            if(i >= 1 and j >= 1):\n",
    "                #preenche apenas as diagonais, pois é o que apenas importa\n",
    "                results[i][j] = (results[i][j-1] - results[i-1][j-1]) / (x[i] - x[i-j]) \n",
    "\n",
    "\n",
    "    #define um objeto de polinomio zerado\n",
    "    px = np.poly1d([ 0, 0])\n",
    "\n",
    "    for i in range(size):\n",
    "        temp = 1\n",
    "        if(i == 0):\n",
    "            px += results[0][0]\n",
    "        else:\n",
    "            for j in range(i):\n",
    "                temp = temp * np.poly1d([ 1, -x[j]])\n",
    "            px = px + temp * results[i][i]              \n",
    "\n",
    "\n",
    "\n",
    "    print(px)\n",
    "        \n",
    "\n",
    "#5A\n",
    "interpola_newton([-0.75,-0.5,-0.25,0],[-0.07181250,-0.02475000, 0.33493750, 1.10100000])\n",
    "\n",
    "print (\"f(-1/3) = 0.1745185\")\n",
    "#5B\n",
    "interpola_newton([0.1, 0.2, 0.3, 0.4], [-0.62049958,-0.28398668,0.00660095, 0.24842440])\n",
    "print (\"f(0.25) =-0.1327748 \")"
   ]
  },
  {
   "cell_type": "markdown",
   "metadata": {},
   "source": [
    "## Questão 15\n",
    "\n",
    "**A fórmula de diferencias divididas progressivas de Newton é usada para aproximas $f(0.3)$ a partir dos siguientes dados: **\n",
    "\n",
    "| $x$      |0.0        |0.2        |0.4        |0.6        |\n",
    "|---------------------|------------------|\n",
    "| $f(x)$       |15.0        |21.0 |30.0        |51.0        |\n",
    "\n",
    "\n",
    "\n",
    "**Suponha que se descubra que $f(0.4)$ foi diminuído em 10 e $f(0.6)$ foi aumentado em 5. Por qual valor a aproximacao de $f(0.3)$ deveria ser mudada?**"
   ]
  },
  {
   "cell_type": "code",
   "execution_count": 13,
   "metadata": {},
   "outputs": [
    {
     "name": "stdout",
     "output_type": "stream",
     "text": [
      "       3         2\n",
      "916.7 x - 637.5 x + 120.8 x + 15\n",
      "f(0.3) = 5.9375\n"
     ]
    }
   ],
   "source": [
    "\n",
    "interpola_newton([0.0,0.2,0.4,0.6],[15.0, 21.0, 20.0, 56.0])\n",
    "\n",
    "print (\"f(0.3) = 5.9375\")"
   ]
  },
  {
   "cell_type": "markdown",
   "metadata": {},
   "source": [
    "## Questão 17\n",
    "\n",
    "**Para uma função $f$, as diferenças divididas progressivas são dadas por:**\n",
    "\n",
    "| i     |$x_i$   |$f[x_i]$  |$f[x_i;x_{i+1}]$|$f[x_i;x_{i+1};x_{i+2}]$       |\n",
    "|:-----:|:------:|:--------:|:--------------:|:-----------------------------:|\n",
    "|0      | 0.0    |$f[x_0]$  |         .      |  .                            |\n",
    "|       |        |          |$f[x_0;x_1]$    |.                              |\n",
    "|1      | 0.4    |$f[x_1]$  |                |$f[x_0;x_1+1;x_2]=\\frac{50}{7}$|\n",
    "|       |        |          |$f[x_1;x_2]=10$ |.                              |\n",
    "|2      | 0.7    |$f[x_2]$=6|         .      |.                              |\n",
    "\n",
    "**Determine os valores que faltam na tabela**"
   ]
  },
  {
   "cell_type": "markdown",
   "metadata": {},
   "source": [
    "Os valores faltantes da tabela podem ser determinados realizando os cálculos de trás para frente. Dessa forma:\n",
    "\n",
    "$$f[x_0;x_1+1;x_2]=\\frac{f[x_1;x_2]-f[x_0;x_1]}{0.7-0.0}=\\frac{50}{7}→f[x_0;x_1]=5$$\n",
    "\n",
    "$$f[x_1;x_2]=\\frac{f[x_2]-f[x_1]}{0.7-0.4}=10 → f[x_1]=3$$\n",
    "\n",
    "$$f[x_0;x_1]=\\frac{f[x_1]-f[x_0]}{0.4-0.0}=5 → f[x_0]=1$$"
   ]
  },
  {
   "cell_type": "markdown",
   "metadata": {},
   "source": [
    "## Questão 19\n",
    "\n",
    "**Dado**\n",
    "$$P_n(x)=f[x_0]+f[x_0,x_1](x-x_0)+a_2(x-x_0)(x-x_1)+a_3(x-x_0)(x-x_1)(x-x_2)+...+a_n(x-x_0)(x-x_1)...(x-x_n-1),$$\n",
    "**use $P_n(x_2)$ para mostrar que $a_2=f[x_0,x_1,x_2]$**"
   ]
  },
  {
   "cell_type": "markdown",
   "metadata": {},
   "source": [
    "Substituindo-se $x$ por $x_2$ na fórmula dada, temos:\n",
    "\n",
    "$$P_n(x_2)=f[x_0]+f[x_0,x_1](x_2-x_0)+a_2(x_2-x_0)(x_2-x_1)+a_3(x_2-x_0)(x_2-x_1)(x_2-x_2)+...$$\n",
    "\n",
    "Observa-se que, a partir do termo $a_3$, todos os termos estarão acompanhados da diferença $(x-x_2)$, que possui valor 0, resultando em:\n",
    "\n",
    "$$P_n(x_2)=f[x_0]+f[x_0,x_1](x_2-x_0)+a_2(x_2-x_0)(x_2-x_1)$$\n",
    "\n",
    "Note que, $P_n(x_2)$ é equivalente a $P_2(x_2)$, e isolando $a_2$, temos:\n",
    "\n",
    "$$a_2=\\frac{P_2(x_2)-f[x_0]-f[x_0,x_1](x_2-x_0)}{(x_2-x_0)(x_2-x_1)}=\\frac{P_2(x_2)-P_1(x_2)}{(x_2-x_0)(x_2-x_1)}$$\n",
    "\n",
    "Pela equação (3.10), temos que a diferença $P_2(x_2)-P_1(x_2)=f[x_0,x_1,x_2](x_2-x_0)(x_2-x_1)$. Substituindo no resultado acima, temos:\n",
    "\n",
    "$$a_2=\\frac{f[x_0,x_1,x_2](x_2-x_0)(x_2-x_1)}{(x_2-x_0)(x_2-x_1)}=f[x_0,x_1,x_2]$$"
   ]
  }
 ],
 "metadata": {
  "kernelspec": {
   "display_name": "Python 3",
   "language": "python",
   "name": "python3"
  },
  "language_info": {
   "codemirror_mode": {
    "name": "ipython",
    "version": 3
   },
   "file_extension": ".py",
   "mimetype": "text/x-python",
   "name": "python",
   "nbconvert_exporter": "python",
   "pygments_lexer": "ipython3",
   "version": "3.6.4"
  }
 },
 "nbformat": 4,
 "nbformat_minor": 2
}
