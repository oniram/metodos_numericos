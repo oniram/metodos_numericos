{
 "cells": [
  {
   "cell_type": "markdown",
   "metadata": {},
   "source": [
    "# Interpolação e aproximação polinomial\n",
    "\n",
    "Interpolar consisite em aproximar uma função $f(x)$ por uma outra função $g(x)$ tal que $g(x_{i})$ = $f(x_{i})$ para todo i = 0,1,...,n\n",
    "\n",
    "Fazemos interpolação quando:\n",
    "\n",
    "* $f(x)$ não é conhecida\n",
    "\n",
    "* $f(x)$ é muito complicada\n",
    "\n",
    "* Para obter um valor não tabelado"
   ]
  },
  {
   "cell_type": "markdown",
   "metadata": {},
   "source": [
    "# Interpolação e polinômio de Lagrange#\n",
    "Os polinômios algébricos são uma das ferramentas mais utilizadas e conhecidas. O motivo de sua importância é que eles uniformemente se aproximam das funções contínuas. Isso significa que, para uma função definida e contínua em um intervalo fechado, existe um **polinômio** que está próximo da função desejada.\n",
    "\n",
    "$$P_{n}(x)= a_{n}x^{n} + a_{n-1}x^{n-1} + . . . + a_{1} + a_O$$\n",
    "\n",
    "Onde $n$ é um intero não-negativo e $a_{0} . . . ., a_{n}$ são constantes reais.\n",
    "\n",
    "Outra importância dos polimorfos na aproximação de funções é que a derivada integral de um polinômio é fácil de determinar e da mesma forma que são polinômios."
   ]
  },
  {
   "cell_type": "markdown",
   "metadata": {},
   "source": [
    "**Teorema 3.1 (Weierstrass)** \n",
    "\n",
    "Suponha $f$ é definida e continua em $[a,b]$. Para cada $ε > 0$, existe um **polinômio** $P(x)$, com da propiedad de: \n",
    "\n",
    "$$ | f(x) - P(x)| < ε,$$ \n",
    "\n",
    "para tudo $x$ em $[a,b]$."
   ]
  },
  {
   "cell_type": "markdown",
   "metadata": {},
   "source": [
    "** Prova Teorema 3.1 **\n",
    "\n",
    "O Polinômio $P(x)$ de grau n é representador por: \n",
    "\n",
    "$P_{n}(x) = a_{0} + a_{1}x + a_{2}x^2 + ... + a_{n}x^n$\n",
    "\n",
    "Obter $P_{n}(x)$ significa obter os coeficientes $a_{0},a_{1},...,a_{n}$\n",
    "\n",
    "Da condição $P_{n}(x_{k}) = f(x_{k})$, montamos o seguinte sistema linear:\n",
    "\n",
    "$$\\left\\{ \\begin{array}{c}\n",
    "a_{n}x_{0}^n + a_{n-1}x_{0}^{n-1} + \\ldots + a_{1}x_0 + a_{0}=y_0\\\\\n",
    "a_{n}x_{1}^n + a_{n-1}x_{1}^{n-1} + \\ldots + a_{1}x_1 + a_{0}=y_1\\\\\n",
    "\\vdots \\\\\n",
    "a_{n}x_{n}^n + a_{n-1}x_{n}^{n-1} + \\ldots + a_{1}x_n + a_{0}=y_n\\\\\n",
    "\\end{array}\n",
    "\\right.$$\n",
    "\n",
    "\n",
    "A matriz dos coeficientes é:\n",
    "\n",
    "$$A=\\left[\n",
    "\\begin{array}{lll}\n",
    "1 & x_0 & x_{0}^2 & \\ldots & x_{0}^n\\\\\n",
    "1 & x_1 & x_{1}^2 & \\ldots & x_{1}^n\\\\\n",
    "\\vdots \\\\\n",
    "1 & x_n & x_{n}^2 & \\ldots & x_{n}^n\\\\\n",
    "\\end{array}\n",
    "\\right]$$\n",
    "\n",
    "Que é uma matriz de Vandermonde e, portanto, desde que $x_0, x_1, ..., x_n$ sejam pontos distintos, temos que a determinante de $A \\neq 0$, então o sistema linear possui uma única solução.\n"
   ]
  },
  {
   "cell_type": "markdown",
   "metadata": {},
   "source": [
    "**Polinômio interpolador de Lagrange**\n",
    "\n",
    "\n",
    "O problema de determinar um polinômio de grau um que passa por $(x, x_{0})$ e $(x_{1}, y_{1})$ é o mesmo que aproximar a função $f$ para $f (x_{0}) = y_{0} $ e $f (x_{1}) = y_{1}$, o que significa interpolar o polinômio. De acordo com os valores de f nos pontos dados. Usando uma aproximação de um polinômio em um intervalo dado pelos pontos é conhecido como **interpolação**.\n",
    "\n",
    "Definiendo da função \n",
    "\n",
    "$$L_{0}(x) = \\frac{(x - x_{1})} {(x_{0} - x_{1})} $$\n",
    " \n",
    "\n",
    "$$L_{1}(x) = \\frac{(x - x_{0})} {(x_{1} - x_{0})} $$\n",
    "\n",
    "- Polinômio interpolador de Lagrange que pasa por os pontos $(x, x_{0})$ e $(x_{1}, y_{1})$ é:\n",
    "\n",
    "$$P(x) = L_{0}(x)f(x_{0}) + L_{1}(x)f(x_{1}) = \\frac{(x - x_{1})} {(x_{0} - x_{1})} * f(x_{0}) \\frac{(x - x_{0})} {(x_{1} - x_{0})} * f(x_{1})$$\n",
    "\n",
    "\n",
    "\n",
    " COLOQUE UM EXPLO AQUI"
   ]
  },
  {
   "cell_type": "code",
   "execution_count": null,
   "metadata": {},
   "outputs": [],
   "source": []
  }
 ],
 "metadata": {
  "kernelspec": {
   "display_name": "Python 3",
   "language": "python",
   "name": "python3"
  },
  "language_info": {
   "codemirror_mode": {
    "name": "ipython",
    "version": 3
   },
   "file_extension": ".py",
   "mimetype": "text/x-python",
   "name": "python",
   "nbconvert_exporter": "python",
   "pygments_lexer": "ipython3",
   "version": "3.6.4"
  }
 },
 "nbformat": 4,
 "nbformat_minor": 2
}
