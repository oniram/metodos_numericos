{
 "cells": [
  {
   "cell_type": "markdown",
   "metadata": {},
   "source": [
    "# Interpolação e polinômio de Lagrange#\n",
    "Os polinômios algébricos são uma das ferramentas mais utilizadas e conhecidas. O motivo de sua importância é que eles uniformemente se aproximam das funções contínuas. Isso significa que, para uma função definida e contínua em um intervalo fechado, existe um **polinômio** que está próximo da função desejada.\n",
    "\n",
    "$$P_{n}(x)= a_{n}x^{n} + a_{n-1}x^{n-1} + . . . + a_{1} + a_O$$\n",
    "\n",
    "Onde $n$ é um intero não-negativo e $a_{0} . . . ., a_{n}$ são constantes reais.\n",
    "\n",
    "Outra importância dos polimorfos na aproximação de funções é que a derivada integral de um polinômio é fácil de determinar e da mesma forma que são polinômios."
   ]
  },
  {
   "cell_type": "markdown",
   "metadata": {},
   "source": [
    "**Teorema 3.1 (Weierstrass)** \n",
    "\n",
    "Suponha $f$ é definida e continua em $[a,b]$. Para cada $ε > 0$, existe um **polinômio** $P(x)$, com da propiedad de: \n",
    "\n",
    "$$ | f(x) - P(x)| < ε,$$ \n",
    "\n",
    "para tudo $x$ em $[a,b]$."
   ]
  },
  {
   "cell_type": "markdown",
   "metadata": {},
   "source": [
    "**Polinômio interpolador de Lagrange**\n",
    "\n",
    "\n",
    "O problema de determinar um polinômio de grau um que passa por $(x, x_{0})$ e $(x_{1}, y_{1})$ é o mesmo que aproximar a função $f$ para $f (x_{0}) = y_{0} $ e $f (x_{1}) = y_{1}$, o que significa interpolar o polinômio. De acordo com os valores de f nos pontos dados. Usando uma aproximação de um polinômio em um intervalo dado pelos pontos é conhecido como **interpolação**.\n",
    "\n",
    "Definiendo da função \n",
    "\n",
    "$$L_{0}(x) = \\frac{(x - x_{1})} {(x_{0} - x_{1})} $$\n",
    " \n",
    "\n",
    "$$L_{1}(x) = \\frac{(x - x_{0})} {(x_{1} - x_{0})} $$\n",
    "\n",
    "- Polinômio interpolador de Lagrange que pasa por os pontos $(x, x_{0})$ e $(x_{1}, y_{1})$ é:\n",
    "\n",
    "$$P(x) = L_{0}(x)f(x_{0}) + L_{1}(x)f(x_{1}) = \\frac{(x - x_{1})} {(x_{0} - x_{1})} * f(x_{0}) \\frac{(x - x_{0})} {(x_{1} - x_{0})} * f(x_{1})$$\n",
    "\n",
    "\n",
    "\n",
    " COLOQUE UM EXPLO AQUI"
   ]
  },
  {
   "cell_type": "code",
   "execution_count": null,
   "metadata": {},
   "outputs": [],
   "source": []
  }
 ],
 "metadata": {
  "kernelspec": {
   "display_name": "Python 3",
   "language": "python",
   "name": "python3"
  },
  "language_info": {
   "codemirror_mode": {
    "name": "ipython",
    "version": 3
   },
   "file_extension": ".py",
   "mimetype": "text/x-python",
   "name": "python",
   "nbconvert_exporter": "python",
   "pygments_lexer": "ipython3",
   "version": "3.6.4"
  }
 },
 "nbformat": 4,
 "nbformat_minor": 2
}
