{
 "cells": [
  {
   "cell_type": "markdown",
   "metadata": {},
   "source": [
    "# Interpolação e aproximação polinomial\n",
    "\n",
    "Interpolar consisite em aproximar uma função $f(x)$ por uma outra função $g(x)$ tal que $g(x_{i})$ = $f(x_{i})$ para todo i = 0,1,...,n\n",
    "\n",
    "Fazemos interpolação quando:\n",
    "\n",
    "* $f(x)$ não é conhecida\n",
    "\n",
    "* $f(x)$ é muito complicada\n",
    "\n",
    "* Para obter um valor não tabelado"
   ]
  },
  {
   "cell_type": "markdown",
   "metadata": {},
   "source": [
    "Os polinômios algébricos são uma das ferramentas mais utilizadas e conhecidas. O motivo de sua importância é que eles uniformemente se aproximam das funções contínuas. Isso significa que, para uma função definida e contínua em um intervalo fechado, existe um **polinômio** que está próximo da função desejada.\n",
    "\n",
    "$$P_{n}(x)= a_{n}x^{n} + a_{n-1}x^{n-1} + . . . + a_{1} + a_O$$\n",
    "\n",
    "Onde $n$ é um intero não-negativo e $a_{0} . . . ., a_{n}$ são constantes reais.\n",
    "\n",
    "Outra importância dos polimorfos na aproximação de funções é que a derivada integral de um polinômio é fácil de determinar e da mesma forma que são polinômios."
   ]
  },
  {
   "cell_type": "markdown",
   "metadata": {},
   "source": [
    "**Teorema 3.1 (Weierstrass)** \n",
    "\n",
    "Suponha $f$ é definida e continua em $[a,b]$. Para cada $ε > 0$, existe um **polinômio** $P(x)$, com da propiedad de: \n",
    "\n",
    "$$ | f(x) - P(x)| < ε,$$ \n",
    "\n",
    "para tudo $x$ em $[a,b]$."
   ]
  },
  {
   "cell_type": "markdown",
   "metadata": {},
   "source": [
    "** Prova Teorema 3.1 **\n",
    "\n",
    "O Polinômio $P(x)$ de grau n é representador por: \n",
    "\n",
    "$P_{n}(x) = a_{0} + a_{1}x + a_{2}x^2 + ... + a_{n}x^n$\n",
    "\n",
    "Obter $P_{n}(x)$ significa obter os coeficientes $a_{0},a_{1},...,a_{n}$\n",
    "\n",
    "Da condição $P_{n}(x_{k}) = f(x_{k})$, montamos o seguinte sistema linear:\n",
    "\n",
    "$$\\left\\{ \\begin{array}{c}\n",
    "a_{n}x_{0}^n + a_{n-1}x_{0}^{n-1} + \\ldots + a_{1}x_0 + a_{0}=y_0\\\\\n",
    "a_{n}x_{1}^n + a_{n-1}x_{1}^{n-1} + \\ldots + a_{1}x_1 + a_{0}=y_1\\\\\n",
    "\\vdots \\\\\n",
    "a_{n}x_{n}^n + a_{n-1}x_{n}^{n-1} + \\ldots + a_{1}x_n + a_{0}=y_n\\\\\n",
    "\\end{array}\n",
    "\\right.$$\n",
    "\n",
    "\n",
    "A matriz dos coeficientes é:\n",
    "\n",
    "$$A=\\left[\n",
    "\\begin{array}{lll}\n",
    "1 & x_0 & x_{0}^2 & \\ldots & x_{0}^n\\\\\n",
    "1 & x_1 & x_{1}^2 & \\ldots & x_{1}^n\\\\\n",
    "\\vdots \\\\\n",
    "1 & x_n & x_{n}^2 & \\ldots & x_{n}^n\\\\\n",
    "\\end{array}\n",
    "\\right]$$\n",
    "\n",
    "Que é uma **matriz de Vandermonde** e, portanto, desde que $x_0, x_1, ..., x_n$ sejam pontos distintos, temos que a determinante de $A \\neq 0$, então o sistema linear possui uma única solução.\n"
   ]
  },
  {
   "cell_type": "markdown",
   "metadata": {},
   "source": [
    "___\n",
    "\n",
    "__Definição:__ Matriz de Vandermonde é uma matriz cujas linhas são termos de uma progressão geométrica, com o primeiro termo igual a 1, e a razão igual a $x_n$.\n",
    "___"
   ]
  },
  {
   "cell_type": "markdown",
   "metadata": {},
   "source": [
    "**Uma nota sobre o polinômio de Taylor:**\n",
    "\n",
    "Até o momento, quando falamos em aproximação de funções utilizando polinômios, o primeiro método que pensamos é a expansão de uma função em série de Taylor. Esse método é bastante eficiente quando possuimos uma função conhecida, e que desejamos precisão somente na proximidade de um ponto ao redor do qual expandimos a função.\n",
    "\n",
    "Veja na figura a seguir, que o polinômio de Taylor pode alcançar uma boa precisão e concordância com a função em um determinado intervalo, mesmo que par isso sejam necessários vários termos da série.\n",
    "![Taylor1](http://math.colgate.edu/~rstephens/CalcII/Taylor_Series_Gifs/600.gif)\n",
    "<p style=\"text-align:center\"> Fonte: http://math.colgate.edu/ </p>\n",
    "\n",
    "No entanto, quando estamos interessados em uma boa precisão ao longo de um intervalo, ou quando não conhecemos a função, a expansão em série de Taylor se torna inviável, como no caso mostrado pela figura abaixo. Observe que para valores de x>1, o polinômio não é mais preciso, mesmo quando utiizamos muitos termos da série de Taylor.\n",
    "![Taylor2](http://math.colgate.edu/~rstephens/CalcII/Taylor_Series_Gifs/550px-Taylorlog.gif).\n",
    "<p style=\"text-align:center\"> Fonte: http://math.colgate.edu/ </p>\n",
    "\n",
    "Para obter uma melhor precisão em casos como os descritos anteriormente, veremos agora alguns métodos bastante eficazes."
   ]
  },
  {
   "cell_type": "markdown",
   "metadata": {},
   "source": [
    "## Polinômio interpolador de Lagrange\n",
    "\n",
    "\n",
    "O problema de determinar um polinômio de grau um que passa por $(x, x_{0})$ e $(x_{1}, y_{1})$ é o mesmo que aproximar a função $f$ para $f (x_{0}) = y_{0} $ e $f (x_{1}) = y_{1}$, o que significa interpolar o polinômio. De acordo com os valores de $f$ nos pontos dados. Usando uma aproximação de um polinômio em um intervalo dado pelos pontos é conhecido como **interpolação**.\n",
    "\n",
    "A ideia geral do polinômio interpolador de Lagrange é utilizar as informações que possuimos de alguns pontos da função para poder gerar um polinômio cujo valor nos pontos conhecidos coincida com o valor da função. Dessa forma, o polinômio interpolador de Lagrange que pasa por os pontos $(x, x_{0})$ e $(x_{1}, y_{1})$ é:\n",
    "\n",
    "$$P(x) = L_{0}(x)f(x_{0}) + L_{1}(x)f(x_{1}) = \\frac{(x - x_{1})} {(x_{0} - x_{1})} * f(x_{0}) \\frac{(x - x_{0})} {(x_{1} - x_{0})} * f(x_{1})$$\n",
    "\n",
    "Observe que no polinômio,\n",
    "\n",
    "$$L_{0}(x) = \\frac{(x - x_{1})} {(x_{0} - x_{1})} $$\n",
    " \n",
    "\n",
    "$$L_{1}(x) = \\frac{(x - x_{0})} {(x_{1} - x_{0})} $$\n",
    "\n",
    "\n",
    "Dessa forma, podemos garantir que o valor de P($x_0$) = $f(x_0)$ e P($x_1$) = $f(x_1)$, pois:\n",
    "\n",
    "$$L_0(x_0) = 1, L_0(x_1)=0, L_1(x_0)=0 \\,\\,\\, e\\,\\,\\, L_1(x_1)=1$$\n",
    "\n",
    "Veja que , para gerar um polinômio de Lagrange de grau 1 (linear), precisamos de informações sobre 2 pontos. Analogamente, para gerarmos um polinômio de grau 2, precisaremos de informações de 3 pontos. Generalizando, temos que para desenvolvermos um polinômio de grau n, precisaremos de informações sobre n+1 pontos da função, e os polinômios L$_{n,k}(x)$ serão dados por:\n",
    "\n",
    "$$L_{n,k} =\\frac{ (x-x_0)(x-x_1)...(x-x_{k-1})(x-x_{k+1})...(x-x_n)}{(x_k-x_0)(x_k-x_1)...(x_k-x_{k-1})(x_k-x_{k+1})...(x_k-x_n)}$$\n",
    "\n",
    "É importante notar que , assim como no polinômio de Taylor, à medida que aumentamos o grau do polinômio interpolador, tendemos a aumentar a precisão (reduzindo o erro). A figura abaixo mostra como o polinômio melhora a precisão à medida que mais pontos da função são conhecidos, e utiizados no cálculo do polinômio  interpolador.\n",
    "\n",
    "![Lagrange1](http://4.bp.blogspot.com/-dAaI3zrKCtw/UtAOxUWdu5I/AAAAAAAAFU8/cvE82ISViH8/s1600/Lagrange.gif)\n",
    "<p style=\"text-align:center\"> Fonte: http://rouxph.blogspot.com.br/ </p>\n",
    "\n"
   ]
  },
  {
   "cell_type": "markdown",
   "metadata": {},
   "source": [
    "**Teorema 3.3 (Erro do polinômio interpolador)**\n",
    "\n",
    "Suponha que $x_0,x_1,...,x_n$ sejam números distintos no intervalo $[a,b]$, e $f \\in C^{n+1} [a,b]$. Então, para cada $x\\in[a,b]$, existe um número $\\xi(x)$(geralmente desconhecido) com valor em (a,b), tal que:\n",
    "\n",
    "$$f(x)=P(x)+\\frac{f^{(n+1)}(\\xi(x))}{(n+1)!}(x-x_0)(x-x_1)...(x-x_n)$$\n",
    "\n",
    "Onde P(x) é o polinômio interpolador de Lagrange."
   ]
  },
  {
   "cell_type": "markdown",
   "metadata": {},
   "source": [
    "Bibliografia:\n",
    "    http://math.colgate.edu/~rstephens/CalcII/Taylor_Series_Gifs/\n",
    "    http://rouxph.blogspot.com.br/2014/02/approximation-polynomiale-le-match.html"
   ]
  },
  {
   "cell_type": "code",
   "execution_count": null,
   "metadata": {},
   "outputs": [],
   "source": [
    "import math as mt\n",
    "from scipy.interpolate import lagrange\n",
    "x0=0\n",
    "x1=0.6\n",
    "x2=0.9\n",
    "y0 = mt.cos(x0)\n",
    "y1 = mt.cos(x1)\n",
    "y2 = mt.cos(x2)\n",
    "\n",
    "polinomio= lagrange([x0,x1,x2],[y0,y1,y2])\n",
    "\n",
    "print (polinomio)\n",
    "\n",
    "print (polinomio(0.45))"
   ]
  },
  {
   "cell_type": "markdown",
   "metadata": {},
   "source": [
    "# Diferenças divididas e a interpolação de Newton\n",
    "\n",
    "\n",
    "O conceito de diferenças divididas é baseado na definição de derivada. \n",
    "\n",
    "Esse método tenta fazer uma aproximação linear de uma função por uma tangente da curva através da derivada.\n",
    "\n",
    "Como a piori só temos os pontos tabelados de uma função, para encontrar sua derivada, é utilizada uma formula de aproximação para a mesma:\n",
    "\n",
    "$f[x_i,x_{i+1}] = \\frac{f[x_{i+1} - f[x_i])}{x_{i+1}-x_i}$\n",
    "\n",
    "A formula acima é definida como a primeira diferença dividida de $f$ com relação a $x_i$ e $x_{i+1}$, ou diferença de ordem 1.\n",
    "\n",
    "As demais diferenças divididas de ordem superior, serão definidas em função das diferenças divididas de ordem inferior:\n",
    "\n",
    "$f[x_i,x_{i+1}, ..., x_{i+k-1}, x_{i+k}] = \\frac{f[x_{i+1}, x_{i+2}, ..., x_{i+k}]- f[x_i, x_{i+1},...,x_{i+k-1}]}{2} $\n",
    "\n",
    "\n",
    "\n",
    "O polinômio interpolador será dado por:\n",
    "\n",
    "$P_n(x) = f[x_0] +  \\sum_{k=1}^{n} f[x_0,x_1, ...,x_k](x-x_0...(x-x_{k-1})$ \n",
    "\n",
    "\n",
    "A equação acima é conhecida como fórmula interpoladora das diferenças divididas de Newton\n",
    "\n",
    "## Exemplo 1\n",
    "\n",
    "Encontre um polinômio que interpole a função $y=\\sqrt{x}$ nos pontos (1,1), (4,2), e (9,3):\n",
    "\n",
    "$P2(x)=f(x_0)+(x−x_0)f[x_0,x_1]+(x−x_0)(x−x_1)f[x_0,x_1,x_2]$\n",
    "\n",
    "$P2(x)=1+(x−1) \\frac{f(x_1)−f(x_0)}{x_1−x_0} +(x−1)(x−4) \\frac{f[x_1,x_2]−f[x_0,x_1]}{x_2−x_0}$\n",
    "\n",
    "$P2(x)=1+(x−1)\\frac{2−1}{4−1}+(x−1)(x−4)\\frac{\\frac{3−2}{9−4}−\\frac{2−1}{4−1}}{9−1}$\n",
    "\n",
    "$P2(x)=1+\\frac{1}{3}(x−1)−\\frac{1}{60}(x−1)(x−4)$\n",
    "\n",
    "![Lagrange1](http://mathonline.wdfiles.com/local--files/newton-s-divided-differences-interpolation-formula/Screen%20Shot%202015-02-17%20at%2010.48.06%20AM.png)\n",
    "<p style=\"text-align:center\"> Fonte: http://rouxph.blogspot.com.br/ </p>\n",
    "\n",
    "\n",
    "\n",
    "Uma das vantagens em utilizar essa forma de interpolação é quando precisamos inserir novos pontos, pois não será necessário reconstruir todos os interpoladores como é feito no método de Lagrange.\n",
    "Além disto,demanda uma quantidade menor de cálculos quando várias interpolações precisam ser obtidas com o mesmo conjunto de pontos nodais."
   ]
  },
  {
   "cell_type": "code",
   "execution_count": null,
   "metadata": {},
   "outputs": [],
   "source": []
  }
 ],
 "metadata": {
  "kernelspec": {
   "display_name": "Python 3",
   "language": "python",
   "name": "python3"
  },
  "language_info": {
   "codemirror_mode": {
    "name": "ipython",
    "version": 3
   },
   "file_extension": ".py",
   "mimetype": "text/x-python",
   "name": "python",
   "nbconvert_exporter": "python",
   "pygments_lexer": "ipython3",
   "version": "3.6.4"
  }
 },
 "nbformat": 4,
 "nbformat_minor": 2
}
