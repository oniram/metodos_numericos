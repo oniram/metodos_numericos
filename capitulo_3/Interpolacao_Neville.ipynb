{
 "cells": [
  {
   "cell_type": "code",
   "execution_count": 1,
   "metadata": {},
   "outputs": [],
   "source": [
    "import numpy as np\n",
    "\n",
    "# Função Interpolação iterada de Lagrange-Neville\n",
    "\n",
    "def interpol_lagrange_neville (X0, x, y, erro=0):\n",
    "    \n",
    "    # X0: valor de x que se deseja interpolar.\n",
    "    # x: uma numpy.ndarray contendo os valores de x (x0 a xn).\n",
    "    # y: uma numpy.ndarray contendo os valores de y = fx (f(x0) a f(xn)).\n",
    "    # erro: erro aceitável para parar a iteração.\n",
    "    \n",
    "    n = len(y) # Tamanho do array\n",
    "    \n",
    "    Q = np.empty((n, n), dtype=float)\n",
    "    Q[:,0] = y # slice para guardar na primeira coluna os valores de f(x) inseridos pelo usuário\n",
    "    \n",
    "    # Calcula os valores de Qij\n",
    "    for i in range(1, n):\n",
    "        for j in range(1, i+1):\n",
    "            Q[i, j] = ((X0 - x[i-j])*Q[i, j-1] - (X0 - x[i])*Q[i-1, j-1])/(x[i] - x[i-j])\n",
    "        if (np.abs(Q[i, i] - Q[i-1, i-1]) < erro): # Testa o erro\n",
    "            break\n",
    "    \n",
    "    # Imprime a tabela\n",
    "    print (\"Tabela Q: Método de Lagrange - Neville para x =\", X0)\n",
    "    for k in range(i+1):\n",
    "        for j in range(k+1):\n",
    "            print(\"{:.7f}\".format(Q[k,j]) + '\\t', end='')\n",
    "        print() # Quebra de linha\n",
    "    print ('Q[' + str(i) + ',' + str(i) + '] =', Q[i, i])\n",
    "        \n",
    "    #return (Q[i, i])"
   ]
  },
  {
   "cell_type": "code",
   "execution_count": 2,
   "metadata": {},
   "outputs": [
    {
     "name": "stdout",
     "output_type": "stream",
     "text": [
      "Tabela Q: Método de Lagrange - Neville para x = 1.5\n",
      "0.7651977\t\n",
      "0.6200860\t0.5233449\t\n",
      "0.4554022\t0.5102968\t0.5124715\t\n",
      "0.2818186\t0.5132634\t0.5112857\t0.5118127\t\n",
      "0.1103623\t0.5104270\t0.5137361\t0.5118302\t0.5118200\t\n",
      "Q[4,4] = 0.5118199942386831\n"
     ]
    }
   ],
   "source": [
    "# Exemplo de uso da função interpol_lagrange_neville\n",
    "\n",
    "x = np.array([1.0, 1.3, 1.6, 1.9, 2.2])\n",
    "y = np.array([0.7651977, 0.6200860, 0.4554022, 0.2818186, 0.1103623])\n",
    "X0 = 1.5\n",
    "\n",
    "interpol_lagrange_neville(X0, x, y, erro=0)"
   ]
  }
 ],
 "metadata": {
  "kernelspec": {
   "display_name": "Python 3",
   "language": "python",
   "name": "python3"
  },
  "language_info": {
   "codemirror_mode": {
    "name": "ipython",
    "version": 3
   },
   "file_extension": ".py",
   "mimetype": "text/x-python",
   "name": "python",
   "nbconvert_exporter": "python",
   "pygments_lexer": "ipython3",
   "version": "3.6.4"
  }
 },
 "nbformat": 4,
 "nbformat_minor": 2
}
