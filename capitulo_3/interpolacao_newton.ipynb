{
 "cells": [
  {
   "cell_type": "code",
   "execution_count": 142,
   "metadata": {},
   "outputs": [
    {
     "name": "stdout",
     "output_type": "stream",
     "text": [
      "        3         2\n",
      "-556.7 x + 185.5 x - 8.883 x + 2\n",
      "      4        3         2\n",
      "2730 x - 1649 x + 212.8 x + 7.498 x + 2\n"
     ]
    }
   ],
   "source": [
    "import numpy as np\n",
    "from numpy.polynomial import polynomial  as poly\n",
    "\n",
    "#author: Oniram Atila\n",
    "\n",
    "def interpola_newton(x, fx):\n",
    "    results = np.zeros((len(fx), len(fx)))\n",
    "    size = len(fx) \n",
    "\n",
    "\n",
    "    for i in range(size):\n",
    "        for j in range(size):\n",
    "            if(j == 0):#preenche a primeira coluna fx\n",
    "                results[i][j] = fx[i]\n",
    "            if(i >= 1 and j >= 1):\n",
    "                #preenche apenas as diagonais, pois é o que apenas importa\n",
    "                results[i][j] = (results[i][j-1] - results[i-1][j-1]) / (x[i] - x[i-j]) \n",
    "\n",
    "\n",
    "    #define um objeto de polinomio zerado\n",
    "    px = np.poly1d([ 0, 0])\n",
    "\n",
    "    for i in range(size):\n",
    "        temp = 1\n",
    "        if(i == 0):\n",
    "            px += results[0][0]\n",
    "        else:\n",
    "            for j in range(i):\n",
    "                temp = temp * np.poly1d([ 1, -x[j]])\n",
    "            px = px + temp * results[i][i]              \n",
    "\n",
    "\n",
    "\n",
    "    print(px)\n",
    "        \n",
    "\n",
    "#7A\n",
    "interpola_newton([-0.1, 0, 0.2, 0.3], [5.3, 2, 3.19, 1])\n",
    "#7B\n",
    "interpola_newton([-0.1, 0, 0.2, 0.3, 0.35], [5.3, 2, 3.19, 1, 0.97260])\n"
   ]
  },
  {
   "cell_type": "code",
   "execution_count": null,
   "metadata": {},
   "outputs": [],
   "source": []
  }
 ],
 "metadata": {
  "kernelspec": {
   "display_name": "Python 3",
   "language": "python",
   "name": "python3"
  },
  "language_info": {
   "codemirror_mode": {
    "name": "ipython",
    "version": 3
   },
   "file_extension": ".py",
   "mimetype": "text/x-python",
   "name": "python",
   "nbconvert_exporter": "python",
   "pygments_lexer": "ipython3",
   "version": "3.6.4"
  }
 },
 "nbformat": 4,
 "nbformat_minor": 2
}
