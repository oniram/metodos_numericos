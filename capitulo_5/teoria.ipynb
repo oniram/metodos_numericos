{
 "cells": [
  {
   "attachments": {},
   "cell_type": "markdown",
   "metadata": {},
   "source": [
    "# Método de Euler Melhorado (Heun)\n",
    "\n",
    "O método de Euler não tem uma boa precisão.\n",
    "O ponto $y_{i+1}$ é calculado a partir da reta tangente do ponto $t_i$, gerando assim uma boa distância do ponto real.\n",
    "\n",
    "A melhoria proposta por esse método será feita aplicando uma correção na fórmula que gera o ponto $y_{i+1}$.\n",
    "\n",
    "No método de Euler Original, a fórmula para calcular os próximos pontos é dada por:\n",
    "\n",
    "$y_{i+1} = y_i + hf(y_i+ti)$\n",
    "\n",
    "Na sua versão melhorada será:\n",
    "\n",
    "$y_{i+1} = y_i + h \\frac{f(y_i+t_i) + f(y_{i+1}+t_{i+1})}{2}$\n",
    "\n",
    "Essa melhoria é dada por usar uma inclinação média das duas retas tangentes de $y_i$ e $y_{i+1}$.\n",
    "\n",
    "Ou seja calcula-se a média entre a derivada do ponto incial e ponto final.\n",
    "Enquanto que no método original calcula-se apenas a derivada do ponto inicial.\n",
    "\n",
    "O problema é que não temos o valor de  $y_{i+1}$ no primeiro momento.\n",
    "Para resolver isso, primeiro devemos calculá-lo utilizando o método de Euler Original, e logo depois aplicar a fórmula do Euler Melhorado.\n",
    "\n",
    "Para fins de comparação, o erro no método de Euler é $O(h^2)$ já no Euler Melhorado, o erro passa a ser $O(h^3)$\n",
    "\n",
    "Na figura abaixo, fica melhor a visualização da diferença entre os métodos:\n",
    "\n",
    "\n",
    "<img align=\"center\" style=\"padding-right:10px;\" src=\"img/heun.png\">     Fonte: CHAPRA(2008)\n",
    "\n",
    "\n",
    "\n",
    "\n"
   ]
  },
  {
   "cell_type": "markdown",
   "metadata": {},
   "source": [
    "# Referências Bibliográficas\n",
    "\n",
    "CHAPRA, S. C.; CANALE, R. P. Métodos numéricos para engenharia. 5. ed.\n",
    "McGraw Hill, 2008. \n"
   ]
  },
  {
   "cell_type": "code",
   "execution_count": null,
   "metadata": {},
   "outputs": [],
   "source": []
  }
 ],
 "metadata": {
  "kernelspec": {
   "display_name": "Python 3",
   "language": "python",
   "name": "python3"
  },
  "language_info": {
   "codemirror_mode": {
    "name": "ipython",
    "version": 3
   },
   "file_extension": ".py",
   "mimetype": "text/x-python",
   "name": "python",
   "nbconvert_exporter": "python",
   "pygments_lexer": "ipython3",
   "version": "3.6.4"
  }
 },
 "nbformat": 4,
 "nbformat_minor": 2
}
